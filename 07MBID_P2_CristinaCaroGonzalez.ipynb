{
 "cells": [
  {
   "cell_type": "markdown",
   "metadata": {
    "id": "R7TKdeP8DQtB"
   },
   "source": [
    "**Asignatura**: 07MBID Machine Learning\n",
    "\n",
    "**Profesor**: Félix Fuentes\n",
    "\n",
    "**Alumna**: Cristina Caro González"
   ]
  },
  {
   "cell_type": "markdown",
   "metadata": {
    "id": "dcuF7EPUDQmm"
   },
   "source": [
    "#  Práctica 2: Aprendizaje supervisado"
   ]
  },
  {
   "cell_type": "markdown",
   "metadata": {
    "id": "IdnXwnVfDQa_"
   },
   "source": [
    "Se van a usar los datos de la competición de predicción de los datos del Dengue. Mas información en [enlace](https://www.drivendata.org/competitions/44/dengai-predicting-disease-spread/)\n",
    "\n",
    "**Objetivo**: Utilizar las técnicas de aprendizaje no supervisado para realizar una exploración preliminar de los datos y extraer conclusiones a partir de elementos descartables etc.\n",
    "\n",
    "**Tecnología**: Python y Google Colab\n",
    "\n",
    "**Entregable**: Los alumnos trabajarán en Google Colab y entregarán un jupyter notebook (descargadlo como .ipynb para la entrega) describiendo lo siguiente: el problema afrontado, las técnicas utilizadas y su parametrización y los resultados obtenidos incluyendo el usuario de DrivenData utilizado para obtenerlo. Esta memoria contendrá explicaciones sobre los códigos desarrollados.\n",
    "\n",
    "**Fecha límite**: 21 de noviembre\n"
   ]
  },
  {
   "cell_type": "markdown",
   "metadata": {
    "id": "Kt1PyINhDnU9"
   },
   "source": [
    "# Carga de librerías\n"
   ]
  },
  {
   "cell_type": "markdown",
   "metadata": {
    "id": "dXvkdLP1PwUS"
   },
   "source": [
    "En primer lugar, procedemos a importar las librerías básicas y de uso general que vamos a tener que usar para realizar la práctica.\n",
    "\n",
    "Al estar usando Google Colab, no será necesario instalarlas, simplemente tendremos que importarlas usando \"import\"\n",
    "\n",
    "Como vemos, hay diferentes tipos de librerías dependiendo de lo que queramos hacer con ellas. Algunas son para visualizaciones, otras para carga de datos, otras para Machine Learning y otras para tratamiento de datasets, por ejemplo. Aunque hay muchas más que no usaremos en esta práctica en concreto."
   ]
  },
  {
   "cell_type": "code",
   "execution_count": 951,
   "metadata": {
    "id": "RNeoTLg_tEb4"
   },
   "outputs": [],
   "source": [
    "import numpy as np\n",
    "import pandas as pd\n",
    "import time\n",
    "\n",
    "# plotting libraries\n",
    "import matplotlib.pyplot as plt\n",
    "import plotly.tools as tls\n",
    "from plotly.offline import init_notebook_mode, iplot, plot\n",
    "import plotly.graph_objs as go\n",
    "import seaborn as sns\n",
    "\n",
    "\n",
    "# machine learning \n",
    "\n",
    "from sklearn.model_selection import train_test_split\n",
    "from sklearn.pipeline import Pipeline\n",
    "from sklearn.preprocessing import StandardScaler\n",
    "\n",
    "#Import models from scikit learn module:\n",
    "from sklearn import ensemble\n",
    "from sklearn.model_selection import train_test_split\n",
    "from sklearn.linear_model import LogisticRegression\n",
    "from sklearn.neighbors import KNeighborsClassifier\n",
    "from sklearn.model_selection import KFold \n",
    "from sklearn.ensemble import RandomForestClassifier\n",
    "from sklearn.tree import DecisionTreeClassifier, export_graphviz\n",
    "from sklearn import metrics\n",
    "from sklearn.decomposition import PCA\n",
    "from sklearn.metrics import confusion_matrix\n",
    "from sklearn.model_selection import cross_val_score\n",
    "from sklearn.svm import SVC\n",
    "from sklearn.ensemble import AdaBoostClassifier\n",
    "from sklearn.linear_model import LogisticRegression\n",
    "from sklearn.tree import DecisionTreeClassifier\n",
    "from sklearn.model_selection import GridSearchCV\n",
    "from sklearn.metrics import precision_score, recall_score\n",
    "from sklearn.metrics import confusion_matrix\n",
    "from sklearn.metrics import accuracy_score\n",
    "\n",
    "# metrics\n",
    "from sklearn.metrics import classification_report\n",
    "from sklearn.metrics import accuracy_score \n",
    "from sklearn.metrics import recall_score"
   ]
  },
  {
   "cell_type": "code",
   "execution_count": 952,
   "metadata": {
    "id": "iO8edzADtFCT"
   },
   "outputs": [],
   "source": [
    "# Librerías de carga de datos\n",
    "import pandas as pd\n",
    "import io\n",
    "from google.colab import files\n",
    "# manipulación y visualización\n",
    "import matplotlib.pyplot as plt\n",
    "import numpy as np\n",
    "import itertools\n",
    "import seaborn as sns\n",
    "from numpy import corrcoef, transpose, arange"
   ]
  },
  {
   "cell_type": "markdown",
   "metadata": {
    "id": "y5vuWiZdgwVd"
   },
   "source": [
    "# Carga de Datos"
   ]
  },
  {
   "cell_type": "markdown",
   "metadata": {
    "id": "hTKjJ9xMP-qP"
   },
   "source": [
    "A continuación procedemos a cargar los datos dentro del entorno de funcionalidades que nos permite Google Colab."
   ]
  },
  {
   "cell_type": "code",
   "execution_count": 953,
   "metadata": {
    "id": "c_oLz8K5cytU"
   },
   "outputs": [],
   "source": [
    "def upload_files ():\n",
    "  uploaded = files.upload()\n",
    "  for fn in uploaded.keys():\n",
    "    print('User uploaded file \"{name}\" with length {length} bytes'.format(\n",
    "        name=fn, length=len(uploaded[fn])))\n",
    "    df = pd.read_csv(io.StringIO(uploaded[fn].decode('utf-8')))\n",
    "    return df"
   ]
  },
  {
   "cell_type": "markdown",
   "metadata": {
    "id": "Rrol6eGEQEZx"
   },
   "source": [
    "En primer lugar subimos los datos de entrenamiento sin target.\n",
    "\n",
    "El fichero en concreto que cargaremos es el llamado: dengue_features_train"
   ]
  },
  {
   "cell_type": "code",
   "execution_count": 892,
   "metadata": {
    "colab": {
     "base_uri": "https://localhost:8080/",
     "height": 300,
     "resources": {
      "http://localhost:8080/nbextensions/google.colab/files.js": {
       "data": "Ly8gQ29weXJpZ2h0IDIwMTcgR29vZ2xlIExMQwovLwovLyBMaWNlbnNlZCB1bmRlciB0aGUgQXBhY2hlIExpY2Vuc2UsIFZlcnNpb24gMi4wICh0aGUgIkxpY2Vuc2UiKTsKLy8geW91IG1heSBub3QgdXNlIHRoaXMgZmlsZSBleGNlcHQgaW4gY29tcGxpYW5jZSB3aXRoIHRoZSBMaWNlbnNlLgovLyBZb3UgbWF5IG9idGFpbiBhIGNvcHkgb2YgdGhlIExpY2Vuc2UgYXQKLy8KLy8gICAgICBodHRwOi8vd3d3LmFwYWNoZS5vcmcvbGljZW5zZXMvTElDRU5TRS0yLjAKLy8KLy8gVW5sZXNzIHJlcXVpcmVkIGJ5IGFwcGxpY2FibGUgbGF3IG9yIGFncmVlZCB0byBpbiB3cml0aW5nLCBzb2Z0d2FyZQovLyBkaXN0cmlidXRlZCB1bmRlciB0aGUgTGljZW5zZSBpcyBkaXN0cmlidXRlZCBvbiBhbiAiQVMgSVMiIEJBU0lTLAovLyBXSVRIT1VUIFdBUlJBTlRJRVMgT1IgQ09ORElUSU9OUyBPRiBBTlkgS0lORCwgZWl0aGVyIGV4cHJlc3Mgb3IgaW1wbGllZC4KLy8gU2VlIHRoZSBMaWNlbnNlIGZvciB0aGUgc3BlY2lmaWMgbGFuZ3VhZ2UgZ292ZXJuaW5nIHBlcm1pc3Npb25zIGFuZAovLyBsaW1pdGF0aW9ucyB1bmRlciB0aGUgTGljZW5zZS4KCi8qKgogKiBAZmlsZW92ZXJ2aWV3IEhlbHBlcnMgZm9yIGdvb2dsZS5jb2xhYiBQeXRob24gbW9kdWxlLgogKi8KKGZ1bmN0aW9uKHNjb3BlKSB7CmZ1bmN0aW9uIHNwYW4odGV4dCwgc3R5bGVBdHRyaWJ1dGVzID0ge30pIHsKICBjb25zdCBlbGVtZW50ID0gZG9jdW1lbnQuY3JlYXRlRWxlbWVudCgnc3BhbicpOwogIGVsZW1lbnQudGV4dENvbnRlbnQgPSB0ZXh0OwogIGZvciAoY29uc3Qga2V5IG9mIE9iamVjdC5rZXlzKHN0eWxlQXR0cmlidXRlcykpIHsKICAgIGVsZW1lbnQuc3R5bGVba2V5XSA9IHN0eWxlQXR0cmlidXRlc1trZXldOwogIH0KICByZXR1cm4gZWxlbWVudDsKfQoKLy8gTWF4IG51bWJlciBvZiBieXRlcyB3aGljaCB3aWxsIGJlIHVwbG9hZGVkIGF0IGEgdGltZS4KY29uc3QgTUFYX1BBWUxPQURfU0laRSA9IDEwMCAqIDEwMjQ7CgpmdW5jdGlvbiBfdXBsb2FkRmlsZXMoaW5wdXRJZCwgb3V0cHV0SWQpIHsKICBjb25zdCBzdGVwcyA9IHVwbG9hZEZpbGVzU3RlcChpbnB1dElkLCBvdXRwdXRJZCk7CiAgY29uc3Qgb3V0cHV0RWxlbWVudCA9IGRvY3VtZW50LmdldEVsZW1lbnRCeUlkKG91dHB1dElkKTsKICAvLyBDYWNoZSBzdGVwcyBvbiB0aGUgb3V0cHV0RWxlbWVudCB0byBtYWtlIGl0IGF2YWlsYWJsZSBmb3IgdGhlIG5leHQgY2FsbAogIC8vIHRvIHVwbG9hZEZpbGVzQ29udGludWUgZnJvbSBQeXRob24uCiAgb3V0cHV0RWxlbWVudC5zdGVwcyA9IHN0ZXBzOwoKICByZXR1cm4gX3VwbG9hZEZpbGVzQ29udGludWUob3V0cHV0SWQpOwp9CgovLyBUaGlzIGlzIHJvdWdobHkgYW4gYXN5bmMgZ2VuZXJhdG9yIChub3Qgc3VwcG9ydGVkIGluIHRoZSBicm93c2VyIHlldCksCi8vIHdoZXJlIHRoZXJlIGFyZSBtdWx0aXBsZSBhc3luY2hyb25vdXMgc3RlcHMgYW5kIHRoZSBQeXRob24gc2lkZSBpcyBnb2luZwovLyB0byBwb2xsIGZvciBjb21wbGV0aW9uIG9mIGVhY2ggc3RlcC4KLy8gVGhpcyB1c2VzIGEgUHJvbWlzZSB0byBibG9jayB0aGUgcHl0aG9uIHNpZGUgb24gY29tcGxldGlvbiBvZiBlYWNoIHN0ZXAsCi8vIHRoZW4gcGFzc2VzIHRoZSByZXN1bHQgb2YgdGhlIHByZXZpb3VzIHN0ZXAgYXMgdGhlIGlucHV0IHRvIHRoZSBuZXh0IHN0ZXAuCmZ1bmN0aW9uIF91cGxvYWRGaWxlc0NvbnRpbnVlKG91dHB1dElkKSB7CiAgY29uc3Qgb3V0cHV0RWxlbWVudCA9IGRvY3VtZW50LmdldEVsZW1lbnRCeUlkKG91dHB1dElkKTsKICBjb25zdCBzdGVwcyA9IG91dHB1dEVsZW1lbnQuc3RlcHM7CgogIGNvbnN0IG5leHQgPSBzdGVwcy5uZXh0KG91dHB1dEVsZW1lbnQubGFzdFByb21pc2VWYWx1ZSk7CiAgcmV0dXJuIFByb21pc2UucmVzb2x2ZShuZXh0LnZhbHVlLnByb21pc2UpLnRoZW4oKHZhbHVlKSA9PiB7CiAgICAvLyBDYWNoZSB0aGUgbGFzdCBwcm9taXNlIHZhbHVlIHRvIG1ha2UgaXQgYXZhaWxhYmxlIHRvIHRoZSBuZXh0CiAgICAvLyBzdGVwIG9mIHRoZSBnZW5lcmF0b3IuCiAgICBvdXRwdXRFbGVtZW50Lmxhc3RQcm9taXNlVmFsdWUgPSB2YWx1ZTsKICAgIHJldHVybiBuZXh0LnZhbHVlLnJlc3BvbnNlOwogIH0pOwp9CgovKioKICogR2VuZXJhdG9yIGZ1bmN0aW9uIHdoaWNoIGlzIGNhbGxlZCBiZXR3ZWVuIGVhY2ggYXN5bmMgc3RlcCBvZiB0aGUgdXBsb2FkCiAqIHByb2Nlc3MuCiAqIEBwYXJhbSB7c3RyaW5nfSBpbnB1dElkIEVsZW1lbnQgSUQgb2YgdGhlIGlucHV0IGZpbGUgcGlja2VyIGVsZW1lbnQuCiAqIEBwYXJhbSB7c3RyaW5nfSBvdXRwdXRJZCBFbGVtZW50IElEIG9mIHRoZSBvdXRwdXQgZGlzcGxheS4KICogQHJldHVybiB7IUl0ZXJhYmxlPCFPYmplY3Q+fSBJdGVyYWJsZSBvZiBuZXh0IHN0ZXBzLgogKi8KZnVuY3Rpb24qIHVwbG9hZEZpbGVzU3RlcChpbnB1dElkLCBvdXRwdXRJZCkgewogIGNvbnN0IGlucHV0RWxlbWVudCA9IGRvY3VtZW50LmdldEVsZW1lbnRCeUlkKGlucHV0SWQpOwogIGlucHV0RWxlbWVudC5kaXNhYmxlZCA9IGZhbHNlOwoKICBjb25zdCBvdXRwdXRFbGVtZW50ID0gZG9jdW1lbnQuZ2V0RWxlbWVudEJ5SWQob3V0cHV0SWQpOwogIG91dHB1dEVsZW1lbnQuaW5uZXJIVE1MID0gJyc7CgogIGNvbnN0IHBpY2tlZFByb21pc2UgPSBuZXcgUHJvbWlzZSgocmVzb2x2ZSkgPT4gewogICAgaW5wdXRFbGVtZW50LmFkZEV2ZW50TGlzdGVuZXIoJ2NoYW5nZScsIChlKSA9PiB7CiAgICAgIHJlc29sdmUoZS50YXJnZXQuZmlsZXMpOwogICAgfSk7CiAgfSk7CgogIGNvbnN0IGNhbmNlbCA9IGRvY3VtZW50LmNyZWF0ZUVsZW1lbnQoJ2J1dHRvbicpOwogIGlucHV0RWxlbWVudC5wYXJlbnRFbGVtZW50LmFwcGVuZENoaWxkKGNhbmNlbCk7CiAgY2FuY2VsLnRleHRDb250ZW50ID0gJ0NhbmNlbCB1cGxvYWQnOwogIGNvbnN0IGNhbmNlbFByb21pc2UgPSBuZXcgUHJvbWlzZSgocmVzb2x2ZSkgPT4gewogICAgY2FuY2VsLm9uY2xpY2sgPSAoKSA9PiB7CiAgICAgIHJlc29sdmUobnVsbCk7CiAgICB9OwogIH0pOwoKICAvLyBXYWl0IGZvciB0aGUgdXNlciB0byBwaWNrIHRoZSBmaWxlcy4KICBjb25zdCBmaWxlcyA9IHlpZWxkIHsKICAgIHByb21pc2U6IFByb21pc2UucmFjZShbcGlja2VkUHJvbWlzZSwgY2FuY2VsUHJvbWlzZV0pLAogICAgcmVzcG9uc2U6IHsKICAgICAgYWN0aW9uOiAnc3RhcnRpbmcnLAogICAgfQogIH07CgogIGNhbmNlbC5yZW1vdmUoKTsKCiAgLy8gRGlzYWJsZSB0aGUgaW5wdXQgZWxlbWVudCBzaW5jZSBmdXJ0aGVyIHBpY2tzIGFyZSBub3QgYWxsb3dlZC4KICBpbnB1dEVsZW1lbnQuZGlzYWJsZWQgPSB0cnVlOwoKICBpZiAoIWZpbGVzKSB7CiAgICByZXR1cm4gewogICAgICByZXNwb25zZTogewogICAgICAgIGFjdGlvbjogJ2NvbXBsZXRlJywKICAgICAgfQogICAgfTsKICB9CgogIGZvciAoY29uc3QgZmlsZSBvZiBmaWxlcykgewogICAgY29uc3QgbGkgPSBkb2N1bWVudC5jcmVhdGVFbGVtZW50KCdsaScpOwogICAgbGkuYXBwZW5kKHNwYW4oZmlsZS5uYW1lLCB7Zm9udFdlaWdodDogJ2JvbGQnfSkpOwogICAgbGkuYXBwZW5kKHNwYW4oCiAgICAgICAgYCgke2ZpbGUudHlwZSB8fCAnbi9hJ30pIC0gJHtmaWxlLnNpemV9IGJ5dGVzLCBgICsKICAgICAgICBgbGFzdCBtb2RpZmllZDogJHsKICAgICAgICAgICAgZmlsZS5sYXN0TW9kaWZpZWREYXRlID8gZmlsZS5sYXN0TW9kaWZpZWREYXRlLnRvTG9jYWxlRGF0ZVN0cmluZygpIDoKICAgICAgICAgICAgICAgICAgICAgICAgICAgICAgICAgICAgJ24vYSd9IC0gYCkpOwogICAgY29uc3QgcGVyY2VudCA9IHNwYW4oJzAlIGRvbmUnKTsKICAgIGxpLmFwcGVuZENoaWxkKHBlcmNlbnQpOwoKICAgIG91dHB1dEVsZW1lbnQuYXBwZW5kQ2hpbGQobGkpOwoKICAgIGNvbnN0IGZpbGVEYXRhUHJvbWlzZSA9IG5ldyBQcm9taXNlKChyZXNvbHZlKSA9PiB7CiAgICAgIGNvbnN0IHJlYWRlciA9IG5ldyBGaWxlUmVhZGVyKCk7CiAgICAgIHJlYWRlci5vbmxvYWQgPSAoZSkgPT4gewogICAgICAgIHJlc29sdmUoZS50YXJnZXQucmVzdWx0KTsKICAgICAgfTsKICAgICAgcmVhZGVyLnJlYWRBc0FycmF5QnVmZmVyKGZpbGUpOwogICAgfSk7CiAgICAvLyBXYWl0IGZvciB0aGUgZGF0YSB0byBiZSByZWFkeS4KICAgIGxldCBmaWxlRGF0YSA9IHlpZWxkIHsKICAgICAgcHJvbWlzZTogZmlsZURhdGFQcm9taXNlLAogICAgICByZXNwb25zZTogewogICAgICAgIGFjdGlvbjogJ2NvbnRpbnVlJywKICAgICAgfQogICAgfTsKCiAgICAvLyBVc2UgYSBjaHVua2VkIHNlbmRpbmcgdG8gYXZvaWQgbWVzc2FnZSBzaXplIGxpbWl0cy4gU2VlIGIvNjIxMTU2NjAuCiAgICBsZXQgcG9zaXRpb24gPSAwOwogICAgZG8gewogICAgICBjb25zdCBsZW5ndGggPSBNYXRoLm1pbihmaWxlRGF0YS5ieXRlTGVuZ3RoIC0gcG9zaXRpb24sIE1BWF9QQVlMT0FEX1NJWkUpOwogICAgICBjb25zdCBjaHVuayA9IG5ldyBVaW50OEFycmF5KGZpbGVEYXRhLCBwb3NpdGlvbiwgbGVuZ3RoKTsKICAgICAgcG9zaXRpb24gKz0gbGVuZ3RoOwoKICAgICAgY29uc3QgYmFzZTY0ID0gYnRvYShTdHJpbmcuZnJvbUNoYXJDb2RlLmFwcGx5KG51bGwsIGNodW5rKSk7CiAgICAgIHlpZWxkIHsKICAgICAgICByZXNwb25zZTogewogICAgICAgICAgYWN0aW9uOiAnYXBwZW5kJywKICAgICAgICAgIGZpbGU6IGZpbGUubmFtZSwKICAgICAgICAgIGRhdGE6IGJhc2U2NCwKICAgICAgICB9LAogICAgICB9OwoKICAgICAgbGV0IHBlcmNlbnREb25lID0gZmlsZURhdGEuYnl0ZUxlbmd0aCA9PT0gMCA/CiAgICAgICAgICAxMDAgOgogICAgICAgICAgTWF0aC5yb3VuZCgocG9zaXRpb24gLyBmaWxlRGF0YS5ieXRlTGVuZ3RoKSAqIDEwMCk7CiAgICAgIHBlcmNlbnQudGV4dENvbnRlbnQgPSBgJHtwZXJjZW50RG9uZX0lIGRvbmVgOwoKICAgIH0gd2hpbGUgKHBvc2l0aW9uIDwgZmlsZURhdGEuYnl0ZUxlbmd0aCk7CiAgfQoKICAvLyBBbGwgZG9uZS4KICB5aWVsZCB7CiAgICByZXNwb25zZTogewogICAgICBhY3Rpb246ICdjb21wbGV0ZScsCiAgICB9CiAgfTsKfQoKc2NvcGUuZ29vZ2xlID0gc2NvcGUuZ29vZ2xlIHx8IHt9OwpzY29wZS5nb29nbGUuY29sYWIgPSBzY29wZS5nb29nbGUuY29sYWIgfHwge307CnNjb3BlLmdvb2dsZS5jb2xhYi5fZmlsZXMgPSB7CiAgX3VwbG9hZEZpbGVzLAogIF91cGxvYWRGaWxlc0NvbnRpbnVlLAp9Owp9KShzZWxmKTsK",
       "headers": [
        [
         "content-type",
         "application/javascript"
        ]
       ],
       "ok": true,
       "status": 200,
       "status_text": ""
      }
     }
    },
    "id": "Mafmrnmz1BQc",
    "outputId": "43971ff5-33a7-4b16-db72-41d22c7e7d2a"
   },
   "outputs": [
    {
     "data": {
      "text/html": [
       "\n",
       "     <input type=\"file\" id=\"files-a67a9454-5610-4e5a-9f08-565acd0b1752\" name=\"files[]\" multiple disabled\n",
       "        style=\"border:none\" />\n",
       "     <output id=\"result-a67a9454-5610-4e5a-9f08-565acd0b1752\">\n",
       "      Upload widget is only available when the cell has been executed in the\n",
       "      current browser session. Please rerun this cell to enable.\n",
       "      </output>\n",
       "      <script src=\"/nbextensions/google.colab/files.js\"></script> "
      ],
      "text/plain": [
       "<IPython.core.display.HTML object>"
      ]
     },
     "metadata": {},
     "output_type": "display_data"
    },
    {
     "name": "stdout",
     "output_type": "stream",
     "text": [
      "Saving dengue_features_train.csv to dengue_features_train (13).csv\n",
      "User uploaded file \"dengue_features_train.csv\" with length 287139 bytes\n"
     ]
    },
    {
     "data": {
      "text/html": [
       "<div>\n",
       "<style scoped>\n",
       "    .dataframe tbody tr th:only-of-type {\n",
       "        vertical-align: middle;\n",
       "    }\n",
       "\n",
       "    .dataframe tbody tr th {\n",
       "        vertical-align: top;\n",
       "    }\n",
       "\n",
       "    .dataframe thead th {\n",
       "        text-align: right;\n",
       "    }\n",
       "</style>\n",
       "<table border=\"1\" class=\"dataframe\">\n",
       "  <thead>\n",
       "    <tr style=\"text-align: right;\">\n",
       "      <th></th>\n",
       "      <th>city</th>\n",
       "      <th>year</th>\n",
       "      <th>weekofyear</th>\n",
       "      <th>week_start_date</th>\n",
       "      <th>ndvi_ne</th>\n",
       "      <th>ndvi_nw</th>\n",
       "      <th>ndvi_se</th>\n",
       "      <th>ndvi_sw</th>\n",
       "      <th>precipitation_amt_mm</th>\n",
       "      <th>reanalysis_air_temp_k</th>\n",
       "      <th>reanalysis_avg_temp_k</th>\n",
       "      <th>reanalysis_dew_point_temp_k</th>\n",
       "      <th>reanalysis_max_air_temp_k</th>\n",
       "      <th>reanalysis_min_air_temp_k</th>\n",
       "      <th>reanalysis_precip_amt_kg_per_m2</th>\n",
       "      <th>reanalysis_relative_humidity_percent</th>\n",
       "      <th>reanalysis_sat_precip_amt_mm</th>\n",
       "      <th>reanalysis_specific_humidity_g_per_kg</th>\n",
       "      <th>reanalysis_tdtr_k</th>\n",
       "      <th>station_avg_temp_c</th>\n",
       "      <th>station_diur_temp_rng_c</th>\n",
       "      <th>station_max_temp_c</th>\n",
       "      <th>station_min_temp_c</th>\n",
       "      <th>station_precip_mm</th>\n",
       "    </tr>\n",
       "  </thead>\n",
       "  <tbody>\n",
       "    <tr>\n",
       "      <th>0</th>\n",
       "      <td>sj</td>\n",
       "      <td>1990</td>\n",
       "      <td>18</td>\n",
       "      <td>1990-04-30</td>\n",
       "      <td>0.122600</td>\n",
       "      <td>0.103725</td>\n",
       "      <td>0.198483</td>\n",
       "      <td>0.177617</td>\n",
       "      <td>12.42</td>\n",
       "      <td>297.572857</td>\n",
       "      <td>297.742857</td>\n",
       "      <td>292.414286</td>\n",
       "      <td>299.8</td>\n",
       "      <td>295.9</td>\n",
       "      <td>32.00</td>\n",
       "      <td>73.365714</td>\n",
       "      <td>12.42</td>\n",
       "      <td>14.012857</td>\n",
       "      <td>2.628571</td>\n",
       "      <td>25.442857</td>\n",
       "      <td>6.900000</td>\n",
       "      <td>29.4</td>\n",
       "      <td>20.0</td>\n",
       "      <td>16.0</td>\n",
       "    </tr>\n",
       "    <tr>\n",
       "      <th>1</th>\n",
       "      <td>sj</td>\n",
       "      <td>1990</td>\n",
       "      <td>19</td>\n",
       "      <td>1990-05-07</td>\n",
       "      <td>0.169900</td>\n",
       "      <td>0.142175</td>\n",
       "      <td>0.162357</td>\n",
       "      <td>0.155486</td>\n",
       "      <td>22.82</td>\n",
       "      <td>298.211429</td>\n",
       "      <td>298.442857</td>\n",
       "      <td>293.951429</td>\n",
       "      <td>300.9</td>\n",
       "      <td>296.4</td>\n",
       "      <td>17.94</td>\n",
       "      <td>77.368571</td>\n",
       "      <td>22.82</td>\n",
       "      <td>15.372857</td>\n",
       "      <td>2.371429</td>\n",
       "      <td>26.714286</td>\n",
       "      <td>6.371429</td>\n",
       "      <td>31.7</td>\n",
       "      <td>22.2</td>\n",
       "      <td>8.6</td>\n",
       "    </tr>\n",
       "    <tr>\n",
       "      <th>2</th>\n",
       "      <td>sj</td>\n",
       "      <td>1990</td>\n",
       "      <td>20</td>\n",
       "      <td>1990-05-14</td>\n",
       "      <td>0.032250</td>\n",
       "      <td>0.172967</td>\n",
       "      <td>0.157200</td>\n",
       "      <td>0.170843</td>\n",
       "      <td>34.54</td>\n",
       "      <td>298.781429</td>\n",
       "      <td>298.878571</td>\n",
       "      <td>295.434286</td>\n",
       "      <td>300.5</td>\n",
       "      <td>297.3</td>\n",
       "      <td>26.10</td>\n",
       "      <td>82.052857</td>\n",
       "      <td>34.54</td>\n",
       "      <td>16.848571</td>\n",
       "      <td>2.300000</td>\n",
       "      <td>26.714286</td>\n",
       "      <td>6.485714</td>\n",
       "      <td>32.2</td>\n",
       "      <td>22.8</td>\n",
       "      <td>41.4</td>\n",
       "    </tr>\n",
       "    <tr>\n",
       "      <th>3</th>\n",
       "      <td>sj</td>\n",
       "      <td>1990</td>\n",
       "      <td>21</td>\n",
       "      <td>1990-05-21</td>\n",
       "      <td>0.128633</td>\n",
       "      <td>0.245067</td>\n",
       "      <td>0.227557</td>\n",
       "      <td>0.235886</td>\n",
       "      <td>15.36</td>\n",
       "      <td>298.987143</td>\n",
       "      <td>299.228571</td>\n",
       "      <td>295.310000</td>\n",
       "      <td>301.4</td>\n",
       "      <td>297.0</td>\n",
       "      <td>13.90</td>\n",
       "      <td>80.337143</td>\n",
       "      <td>15.36</td>\n",
       "      <td>16.672857</td>\n",
       "      <td>2.428571</td>\n",
       "      <td>27.471429</td>\n",
       "      <td>6.771429</td>\n",
       "      <td>33.3</td>\n",
       "      <td>23.3</td>\n",
       "      <td>4.0</td>\n",
       "    </tr>\n",
       "    <tr>\n",
       "      <th>4</th>\n",
       "      <td>sj</td>\n",
       "      <td>1990</td>\n",
       "      <td>22</td>\n",
       "      <td>1990-05-28</td>\n",
       "      <td>0.196200</td>\n",
       "      <td>0.262200</td>\n",
       "      <td>0.251200</td>\n",
       "      <td>0.247340</td>\n",
       "      <td>7.52</td>\n",
       "      <td>299.518571</td>\n",
       "      <td>299.664286</td>\n",
       "      <td>295.821429</td>\n",
       "      <td>301.9</td>\n",
       "      <td>297.5</td>\n",
       "      <td>12.20</td>\n",
       "      <td>80.460000</td>\n",
       "      <td>7.52</td>\n",
       "      <td>17.210000</td>\n",
       "      <td>3.014286</td>\n",
       "      <td>28.942857</td>\n",
       "      <td>9.371429</td>\n",
       "      <td>35.0</td>\n",
       "      <td>23.9</td>\n",
       "      <td>5.8</td>\n",
       "    </tr>\n",
       "  </tbody>\n",
       "</table>\n",
       "</div>"
      ],
      "text/plain": [
       "  city  year  ...  station_min_temp_c station_precip_mm\n",
       "0   sj  1990  ...                20.0              16.0\n",
       "1   sj  1990  ...                22.2               8.6\n",
       "2   sj  1990  ...                22.8              41.4\n",
       "3   sj  1990  ...                23.3               4.0\n",
       "4   sj  1990  ...                23.9               5.8\n",
       "\n",
       "[5 rows x 24 columns]"
      ]
     },
     "execution_count": 892,
     "metadata": {},
     "output_type": "execute_result"
    }
   ],
   "source": [
    "# En primer lugar subimos los datos de entrenamiento sin campo objetivo (dengue_features_train)\n",
    "train_features = upload_files()\n",
    "train_features.head()"
   ]
  },
  {
   "cell_type": "code",
   "execution_count": 893,
   "metadata": {
    "colab": {
     "base_uri": "https://localhost:8080/",
     "height": 444
    },
    "id": "5V0yNoMJ0rjd",
    "outputId": "055bc3e8-1426-46fa-b1f9-2f938a722940"
   },
   "outputs": [
    {
     "data": {
      "text/html": [
       "<div>\n",
       "<style scoped>\n",
       "    .dataframe tbody tr th:only-of-type {\n",
       "        vertical-align: middle;\n",
       "    }\n",
       "\n",
       "    .dataframe tbody tr th {\n",
       "        vertical-align: top;\n",
       "    }\n",
       "\n",
       "    .dataframe thead th {\n",
       "        text-align: right;\n",
       "    }\n",
       "</style>\n",
       "<table border=\"1\" class=\"dataframe\">\n",
       "  <thead>\n",
       "    <tr style=\"text-align: right;\">\n",
       "      <th></th>\n",
       "      <th>city</th>\n",
       "      <th>year</th>\n",
       "      <th>weekofyear</th>\n",
       "      <th>week_start_date</th>\n",
       "      <th>ndvi_ne</th>\n",
       "      <th>ndvi_nw</th>\n",
       "      <th>ndvi_se</th>\n",
       "      <th>ndvi_sw</th>\n",
       "      <th>precipitation_amt_mm</th>\n",
       "      <th>reanalysis_air_temp_k</th>\n",
       "      <th>reanalysis_avg_temp_k</th>\n",
       "      <th>reanalysis_dew_point_temp_k</th>\n",
       "      <th>reanalysis_max_air_temp_k</th>\n",
       "      <th>reanalysis_min_air_temp_k</th>\n",
       "      <th>reanalysis_precip_amt_kg_per_m2</th>\n",
       "      <th>reanalysis_relative_humidity_percent</th>\n",
       "      <th>reanalysis_sat_precip_amt_mm</th>\n",
       "      <th>reanalysis_specific_humidity_g_per_kg</th>\n",
       "      <th>reanalysis_tdtr_k</th>\n",
       "      <th>station_avg_temp_c</th>\n",
       "      <th>station_diur_temp_rng_c</th>\n",
       "      <th>station_max_temp_c</th>\n",
       "      <th>station_min_temp_c</th>\n",
       "      <th>station_precip_mm</th>\n",
       "    </tr>\n",
       "  </thead>\n",
       "  <tbody>\n",
       "    <tr>\n",
       "      <th>0</th>\n",
       "      <td>sj</td>\n",
       "      <td>1990</td>\n",
       "      <td>18</td>\n",
       "      <td>1990-04-30</td>\n",
       "      <td>0.122600</td>\n",
       "      <td>0.103725</td>\n",
       "      <td>0.198483</td>\n",
       "      <td>0.177617</td>\n",
       "      <td>12.42</td>\n",
       "      <td>297.572857</td>\n",
       "      <td>297.742857</td>\n",
       "      <td>292.414286</td>\n",
       "      <td>299.8</td>\n",
       "      <td>295.9</td>\n",
       "      <td>32.00</td>\n",
       "      <td>73.365714</td>\n",
       "      <td>12.42</td>\n",
       "      <td>14.012857</td>\n",
       "      <td>2.628571</td>\n",
       "      <td>25.442857</td>\n",
       "      <td>6.900000</td>\n",
       "      <td>29.4</td>\n",
       "      <td>20.0</td>\n",
       "      <td>16.0</td>\n",
       "    </tr>\n",
       "    <tr>\n",
       "      <th>1</th>\n",
       "      <td>sj</td>\n",
       "      <td>1990</td>\n",
       "      <td>19</td>\n",
       "      <td>1990-05-07</td>\n",
       "      <td>0.169900</td>\n",
       "      <td>0.142175</td>\n",
       "      <td>0.162357</td>\n",
       "      <td>0.155486</td>\n",
       "      <td>22.82</td>\n",
       "      <td>298.211429</td>\n",
       "      <td>298.442857</td>\n",
       "      <td>293.951429</td>\n",
       "      <td>300.9</td>\n",
       "      <td>296.4</td>\n",
       "      <td>17.94</td>\n",
       "      <td>77.368571</td>\n",
       "      <td>22.82</td>\n",
       "      <td>15.372857</td>\n",
       "      <td>2.371429</td>\n",
       "      <td>26.714286</td>\n",
       "      <td>6.371429</td>\n",
       "      <td>31.7</td>\n",
       "      <td>22.2</td>\n",
       "      <td>8.6</td>\n",
       "    </tr>\n",
       "    <tr>\n",
       "      <th>2</th>\n",
       "      <td>sj</td>\n",
       "      <td>1990</td>\n",
       "      <td>20</td>\n",
       "      <td>1990-05-14</td>\n",
       "      <td>0.032250</td>\n",
       "      <td>0.172967</td>\n",
       "      <td>0.157200</td>\n",
       "      <td>0.170843</td>\n",
       "      <td>34.54</td>\n",
       "      <td>298.781429</td>\n",
       "      <td>298.878571</td>\n",
       "      <td>295.434286</td>\n",
       "      <td>300.5</td>\n",
       "      <td>297.3</td>\n",
       "      <td>26.10</td>\n",
       "      <td>82.052857</td>\n",
       "      <td>34.54</td>\n",
       "      <td>16.848571</td>\n",
       "      <td>2.300000</td>\n",
       "      <td>26.714286</td>\n",
       "      <td>6.485714</td>\n",
       "      <td>32.2</td>\n",
       "      <td>22.8</td>\n",
       "      <td>41.4</td>\n",
       "    </tr>\n",
       "    <tr>\n",
       "      <th>3</th>\n",
       "      <td>sj</td>\n",
       "      <td>1990</td>\n",
       "      <td>21</td>\n",
       "      <td>1990-05-21</td>\n",
       "      <td>0.128633</td>\n",
       "      <td>0.245067</td>\n",
       "      <td>0.227557</td>\n",
       "      <td>0.235886</td>\n",
       "      <td>15.36</td>\n",
       "      <td>298.987143</td>\n",
       "      <td>299.228571</td>\n",
       "      <td>295.310000</td>\n",
       "      <td>301.4</td>\n",
       "      <td>297.0</td>\n",
       "      <td>13.90</td>\n",
       "      <td>80.337143</td>\n",
       "      <td>15.36</td>\n",
       "      <td>16.672857</td>\n",
       "      <td>2.428571</td>\n",
       "      <td>27.471429</td>\n",
       "      <td>6.771429</td>\n",
       "      <td>33.3</td>\n",
       "      <td>23.3</td>\n",
       "      <td>4.0</td>\n",
       "    </tr>\n",
       "    <tr>\n",
       "      <th>4</th>\n",
       "      <td>sj</td>\n",
       "      <td>1990</td>\n",
       "      <td>22</td>\n",
       "      <td>1990-05-28</td>\n",
       "      <td>0.196200</td>\n",
       "      <td>0.262200</td>\n",
       "      <td>0.251200</td>\n",
       "      <td>0.247340</td>\n",
       "      <td>7.52</td>\n",
       "      <td>299.518571</td>\n",
       "      <td>299.664286</td>\n",
       "      <td>295.821429</td>\n",
       "      <td>301.9</td>\n",
       "      <td>297.5</td>\n",
       "      <td>12.20</td>\n",
       "      <td>80.460000</td>\n",
       "      <td>7.52</td>\n",
       "      <td>17.210000</td>\n",
       "      <td>3.014286</td>\n",
       "      <td>28.942857</td>\n",
       "      <td>9.371429</td>\n",
       "      <td>35.0</td>\n",
       "      <td>23.9</td>\n",
       "      <td>5.8</td>\n",
       "    </tr>\n",
       "    <tr>\n",
       "      <th>...</th>\n",
       "      <td>...</td>\n",
       "      <td>...</td>\n",
       "      <td>...</td>\n",
       "      <td>...</td>\n",
       "      <td>...</td>\n",
       "      <td>...</td>\n",
       "      <td>...</td>\n",
       "      <td>...</td>\n",
       "      <td>...</td>\n",
       "      <td>...</td>\n",
       "      <td>...</td>\n",
       "      <td>...</td>\n",
       "      <td>...</td>\n",
       "      <td>...</td>\n",
       "      <td>...</td>\n",
       "      <td>...</td>\n",
       "      <td>...</td>\n",
       "      <td>...</td>\n",
       "      <td>...</td>\n",
       "      <td>...</td>\n",
       "      <td>...</td>\n",
       "      <td>...</td>\n",
       "      <td>...</td>\n",
       "      <td>...</td>\n",
       "    </tr>\n",
       "    <tr>\n",
       "      <th>1451</th>\n",
       "      <td>iq</td>\n",
       "      <td>2010</td>\n",
       "      <td>21</td>\n",
       "      <td>2010-05-28</td>\n",
       "      <td>0.342750</td>\n",
       "      <td>0.318900</td>\n",
       "      <td>0.256343</td>\n",
       "      <td>0.292514</td>\n",
       "      <td>55.30</td>\n",
       "      <td>299.334286</td>\n",
       "      <td>300.771429</td>\n",
       "      <td>296.825714</td>\n",
       "      <td>309.7</td>\n",
       "      <td>294.5</td>\n",
       "      <td>45.00</td>\n",
       "      <td>88.765714</td>\n",
       "      <td>55.30</td>\n",
       "      <td>18.485714</td>\n",
       "      <td>9.800000</td>\n",
       "      <td>28.633333</td>\n",
       "      <td>11.933333</td>\n",
       "      <td>35.4</td>\n",
       "      <td>22.4</td>\n",
       "      <td>27.0</td>\n",
       "    </tr>\n",
       "    <tr>\n",
       "      <th>1452</th>\n",
       "      <td>iq</td>\n",
       "      <td>2010</td>\n",
       "      <td>22</td>\n",
       "      <td>2010-06-04</td>\n",
       "      <td>0.160157</td>\n",
       "      <td>0.160371</td>\n",
       "      <td>0.136043</td>\n",
       "      <td>0.225657</td>\n",
       "      <td>86.47</td>\n",
       "      <td>298.330000</td>\n",
       "      <td>299.392857</td>\n",
       "      <td>296.452857</td>\n",
       "      <td>308.5</td>\n",
       "      <td>291.9</td>\n",
       "      <td>207.10</td>\n",
       "      <td>91.600000</td>\n",
       "      <td>86.47</td>\n",
       "      <td>18.070000</td>\n",
       "      <td>7.471429</td>\n",
       "      <td>27.433333</td>\n",
       "      <td>10.500000</td>\n",
       "      <td>34.7</td>\n",
       "      <td>21.7</td>\n",
       "      <td>36.6</td>\n",
       "    </tr>\n",
       "    <tr>\n",
       "      <th>1453</th>\n",
       "      <td>iq</td>\n",
       "      <td>2010</td>\n",
       "      <td>23</td>\n",
       "      <td>2010-06-11</td>\n",
       "      <td>0.247057</td>\n",
       "      <td>0.146057</td>\n",
       "      <td>0.250357</td>\n",
       "      <td>0.233714</td>\n",
       "      <td>58.94</td>\n",
       "      <td>296.598571</td>\n",
       "      <td>297.592857</td>\n",
       "      <td>295.501429</td>\n",
       "      <td>305.5</td>\n",
       "      <td>292.4</td>\n",
       "      <td>50.60</td>\n",
       "      <td>94.280000</td>\n",
       "      <td>58.94</td>\n",
       "      <td>17.008571</td>\n",
       "      <td>7.500000</td>\n",
       "      <td>24.400000</td>\n",
       "      <td>6.900000</td>\n",
       "      <td>32.2</td>\n",
       "      <td>19.2</td>\n",
       "      <td>7.4</td>\n",
       "    </tr>\n",
       "    <tr>\n",
       "      <th>1454</th>\n",
       "      <td>iq</td>\n",
       "      <td>2010</td>\n",
       "      <td>24</td>\n",
       "      <td>2010-06-18</td>\n",
       "      <td>0.333914</td>\n",
       "      <td>0.245771</td>\n",
       "      <td>0.278886</td>\n",
       "      <td>0.325486</td>\n",
       "      <td>59.67</td>\n",
       "      <td>296.345714</td>\n",
       "      <td>297.521429</td>\n",
       "      <td>295.324286</td>\n",
       "      <td>306.1</td>\n",
       "      <td>291.9</td>\n",
       "      <td>62.33</td>\n",
       "      <td>94.660000</td>\n",
       "      <td>59.67</td>\n",
       "      <td>16.815714</td>\n",
       "      <td>7.871429</td>\n",
       "      <td>25.433333</td>\n",
       "      <td>8.733333</td>\n",
       "      <td>31.2</td>\n",
       "      <td>21.0</td>\n",
       "      <td>16.0</td>\n",
       "    </tr>\n",
       "    <tr>\n",
       "      <th>1455</th>\n",
       "      <td>iq</td>\n",
       "      <td>2010</td>\n",
       "      <td>25</td>\n",
       "      <td>2010-06-25</td>\n",
       "      <td>0.298186</td>\n",
       "      <td>0.232971</td>\n",
       "      <td>0.274214</td>\n",
       "      <td>0.315757</td>\n",
       "      <td>63.22</td>\n",
       "      <td>298.097143</td>\n",
       "      <td>299.835714</td>\n",
       "      <td>295.807143</td>\n",
       "      <td>307.8</td>\n",
       "      <td>292.3</td>\n",
       "      <td>36.90</td>\n",
       "      <td>89.082857</td>\n",
       "      <td>63.22</td>\n",
       "      <td>17.355714</td>\n",
       "      <td>11.014286</td>\n",
       "      <td>27.475000</td>\n",
       "      <td>9.900000</td>\n",
       "      <td>33.7</td>\n",
       "      <td>22.2</td>\n",
       "      <td>20.4</td>\n",
       "    </tr>\n",
       "  </tbody>\n",
       "</table>\n",
       "<p>1456 rows × 24 columns</p>\n",
       "</div>"
      ],
      "text/plain": [
       "     city  year  ...  station_min_temp_c station_precip_mm\n",
       "0      sj  1990  ...                20.0              16.0\n",
       "1      sj  1990  ...                22.2               8.6\n",
       "2      sj  1990  ...                22.8              41.4\n",
       "3      sj  1990  ...                23.3               4.0\n",
       "4      sj  1990  ...                23.9               5.8\n",
       "...   ...   ...  ...                 ...               ...\n",
       "1451   iq  2010  ...                22.4              27.0\n",
       "1452   iq  2010  ...                21.7              36.6\n",
       "1453   iq  2010  ...                19.2               7.4\n",
       "1454   iq  2010  ...                21.0              16.0\n",
       "1455   iq  2010  ...                22.2              20.4\n",
       "\n",
       "[1456 rows x 24 columns]"
      ]
     },
     "execution_count": 893,
     "metadata": {},
     "output_type": "execute_result"
    }
   ],
   "source": [
    "train_features"
   ]
  },
  {
   "cell_type": "markdown",
   "metadata": {
    "id": "29YXrKIRQT4s"
   },
   "source": [
    "Posteriormente subimos los datos que únicamente nos proporcionan el número de casos de dengue de entrenamiento (dengue_labels_train)"
   ]
  },
  {
   "cell_type": "code",
   "execution_count": 894,
   "metadata": {
    "colab": {
     "base_uri": "https://localhost:8080/",
     "height": 280,
     "resources": {
      "http://localhost:8080/nbextensions/google.colab/files.js": {
       "data": "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",
       "headers": [
        [
         "content-type",
         "application/javascript"
        ]
       ],
       "ok": true,
       "status": 200,
       "status_text": ""
      }
     }
    },
    "id": "tFJ4kxqddTEr",
    "outputId": "0b39507f-bcd4-4ae9-a524-329a0fc912ec"
   },
   "outputs": [
    {
     "data": {
      "text/html": [
       "\n",
       "     <input type=\"file\" id=\"files-4e1b8777-5b78-4d01-a952-a761e463502a\" name=\"files[]\" multiple disabled\n",
       "        style=\"border:none\" />\n",
       "     <output id=\"result-4e1b8777-5b78-4d01-a952-a761e463502a\">\n",
       "      Upload widget is only available when the cell has been executed in the\n",
       "      current browser session. Please rerun this cell to enable.\n",
       "      </output>\n",
       "      <script src=\"/nbextensions/google.colab/files.js\"></script> "
      ],
      "text/plain": [
       "<IPython.core.display.HTML object>"
      ]
     },
     "metadata": {},
     "output_type": "display_data"
    },
    {
     "name": "stdout",
     "output_type": "stream",
     "text": [
      "Saving dengue_labels_train.csv to dengue_labels_train (13).csv\n",
      "User uploaded file \"dengue_labels_train.csv\" with length 19582 bytes\n"
     ]
    },
    {
     "data": {
      "text/html": [
       "<div>\n",
       "<style scoped>\n",
       "    .dataframe tbody tr th:only-of-type {\n",
       "        vertical-align: middle;\n",
       "    }\n",
       "\n",
       "    .dataframe tbody tr th {\n",
       "        vertical-align: top;\n",
       "    }\n",
       "\n",
       "    .dataframe thead th {\n",
       "        text-align: right;\n",
       "    }\n",
       "</style>\n",
       "<table border=\"1\" class=\"dataframe\">\n",
       "  <thead>\n",
       "    <tr style=\"text-align: right;\">\n",
       "      <th></th>\n",
       "      <th>city</th>\n",
       "      <th>year</th>\n",
       "      <th>weekofyear</th>\n",
       "      <th>total_cases</th>\n",
       "    </tr>\n",
       "  </thead>\n",
       "  <tbody>\n",
       "    <tr>\n",
       "      <th>0</th>\n",
       "      <td>sj</td>\n",
       "      <td>1990</td>\n",
       "      <td>18</td>\n",
       "      <td>4</td>\n",
       "    </tr>\n",
       "    <tr>\n",
       "      <th>1</th>\n",
       "      <td>sj</td>\n",
       "      <td>1990</td>\n",
       "      <td>19</td>\n",
       "      <td>5</td>\n",
       "    </tr>\n",
       "    <tr>\n",
       "      <th>2</th>\n",
       "      <td>sj</td>\n",
       "      <td>1990</td>\n",
       "      <td>20</td>\n",
       "      <td>4</td>\n",
       "    </tr>\n",
       "    <tr>\n",
       "      <th>3</th>\n",
       "      <td>sj</td>\n",
       "      <td>1990</td>\n",
       "      <td>21</td>\n",
       "      <td>3</td>\n",
       "    </tr>\n",
       "    <tr>\n",
       "      <th>4</th>\n",
       "      <td>sj</td>\n",
       "      <td>1990</td>\n",
       "      <td>22</td>\n",
       "      <td>6</td>\n",
       "    </tr>\n",
       "  </tbody>\n",
       "</table>\n",
       "</div>"
      ],
      "text/plain": [
       "  city  year  weekofyear  total_cases\n",
       "0   sj  1990          18            4\n",
       "1   sj  1990          19            5\n",
       "2   sj  1990          20            4\n",
       "3   sj  1990          21            3\n",
       "4   sj  1990          22            6"
      ]
     },
     "execution_count": 894,
     "metadata": {},
     "output_type": "execute_result"
    }
   ],
   "source": [
    "train_labels = upload_files()\n",
    "train_labels.head()"
   ]
  },
  {
   "cell_type": "markdown",
   "metadata": {
    "id": "rjacxBUtQY9J"
   },
   "source": [
    "Mezclamos los dos conjuntos de datos para tenerlos en un único dataframe"
   ]
  },
  {
   "cell_type": "code",
   "execution_count": 895,
   "metadata": {
    "colab": {
     "base_uri": "https://localhost:8080/",
     "height": 226
    },
    "id": "XqJgf3_gdTHN",
    "outputId": "9856eba6-bc53-4ea2-81ec-2367f3a21efd"
   },
   "outputs": [
    {
     "data": {
      "text/html": [
       "<div>\n",
       "<style scoped>\n",
       "    .dataframe tbody tr th:only-of-type {\n",
       "        vertical-align: middle;\n",
       "    }\n",
       "\n",
       "    .dataframe tbody tr th {\n",
       "        vertical-align: top;\n",
       "    }\n",
       "\n",
       "    .dataframe thead th {\n",
       "        text-align: right;\n",
       "    }\n",
       "</style>\n",
       "<table border=\"1\" class=\"dataframe\">\n",
       "  <thead>\n",
       "    <tr style=\"text-align: right;\">\n",
       "      <th></th>\n",
       "      <th>city</th>\n",
       "      <th>year</th>\n",
       "      <th>weekofyear</th>\n",
       "      <th>week_start_date</th>\n",
       "      <th>ndvi_ne</th>\n",
       "      <th>ndvi_nw</th>\n",
       "      <th>ndvi_se</th>\n",
       "      <th>ndvi_sw</th>\n",
       "      <th>precipitation_amt_mm</th>\n",
       "      <th>reanalysis_air_temp_k</th>\n",
       "      <th>reanalysis_avg_temp_k</th>\n",
       "      <th>reanalysis_dew_point_temp_k</th>\n",
       "      <th>reanalysis_max_air_temp_k</th>\n",
       "      <th>reanalysis_min_air_temp_k</th>\n",
       "      <th>reanalysis_precip_amt_kg_per_m2</th>\n",
       "      <th>reanalysis_relative_humidity_percent</th>\n",
       "      <th>reanalysis_sat_precip_amt_mm</th>\n",
       "      <th>reanalysis_specific_humidity_g_per_kg</th>\n",
       "      <th>reanalysis_tdtr_k</th>\n",
       "      <th>station_avg_temp_c</th>\n",
       "      <th>station_diur_temp_rng_c</th>\n",
       "      <th>station_max_temp_c</th>\n",
       "      <th>station_min_temp_c</th>\n",
       "      <th>station_precip_mm</th>\n",
       "      <th>total_cases</th>\n",
       "    </tr>\n",
       "  </thead>\n",
       "  <tbody>\n",
       "    <tr>\n",
       "      <th>0</th>\n",
       "      <td>sj</td>\n",
       "      <td>1990</td>\n",
       "      <td>18</td>\n",
       "      <td>1990-04-30</td>\n",
       "      <td>0.122600</td>\n",
       "      <td>0.103725</td>\n",
       "      <td>0.198483</td>\n",
       "      <td>0.177617</td>\n",
       "      <td>12.42</td>\n",
       "      <td>297.572857</td>\n",
       "      <td>297.742857</td>\n",
       "      <td>292.414286</td>\n",
       "      <td>299.8</td>\n",
       "      <td>295.9</td>\n",
       "      <td>32.00</td>\n",
       "      <td>73.365714</td>\n",
       "      <td>12.42</td>\n",
       "      <td>14.012857</td>\n",
       "      <td>2.628571</td>\n",
       "      <td>25.442857</td>\n",
       "      <td>6.900000</td>\n",
       "      <td>29.4</td>\n",
       "      <td>20.0</td>\n",
       "      <td>16.0</td>\n",
       "      <td>4</td>\n",
       "    </tr>\n",
       "    <tr>\n",
       "      <th>1</th>\n",
       "      <td>sj</td>\n",
       "      <td>1990</td>\n",
       "      <td>19</td>\n",
       "      <td>1990-05-07</td>\n",
       "      <td>0.169900</td>\n",
       "      <td>0.142175</td>\n",
       "      <td>0.162357</td>\n",
       "      <td>0.155486</td>\n",
       "      <td>22.82</td>\n",
       "      <td>298.211429</td>\n",
       "      <td>298.442857</td>\n",
       "      <td>293.951429</td>\n",
       "      <td>300.9</td>\n",
       "      <td>296.4</td>\n",
       "      <td>17.94</td>\n",
       "      <td>77.368571</td>\n",
       "      <td>22.82</td>\n",
       "      <td>15.372857</td>\n",
       "      <td>2.371429</td>\n",
       "      <td>26.714286</td>\n",
       "      <td>6.371429</td>\n",
       "      <td>31.7</td>\n",
       "      <td>22.2</td>\n",
       "      <td>8.6</td>\n",
       "      <td>5</td>\n",
       "    </tr>\n",
       "    <tr>\n",
       "      <th>2</th>\n",
       "      <td>sj</td>\n",
       "      <td>1990</td>\n",
       "      <td>20</td>\n",
       "      <td>1990-05-14</td>\n",
       "      <td>0.032250</td>\n",
       "      <td>0.172967</td>\n",
       "      <td>0.157200</td>\n",
       "      <td>0.170843</td>\n",
       "      <td>34.54</td>\n",
       "      <td>298.781429</td>\n",
       "      <td>298.878571</td>\n",
       "      <td>295.434286</td>\n",
       "      <td>300.5</td>\n",
       "      <td>297.3</td>\n",
       "      <td>26.10</td>\n",
       "      <td>82.052857</td>\n",
       "      <td>34.54</td>\n",
       "      <td>16.848571</td>\n",
       "      <td>2.300000</td>\n",
       "      <td>26.714286</td>\n",
       "      <td>6.485714</td>\n",
       "      <td>32.2</td>\n",
       "      <td>22.8</td>\n",
       "      <td>41.4</td>\n",
       "      <td>4</td>\n",
       "    </tr>\n",
       "    <tr>\n",
       "      <th>3</th>\n",
       "      <td>sj</td>\n",
       "      <td>1990</td>\n",
       "      <td>21</td>\n",
       "      <td>1990-05-21</td>\n",
       "      <td>0.128633</td>\n",
       "      <td>0.245067</td>\n",
       "      <td>0.227557</td>\n",
       "      <td>0.235886</td>\n",
       "      <td>15.36</td>\n",
       "      <td>298.987143</td>\n",
       "      <td>299.228571</td>\n",
       "      <td>295.310000</td>\n",
       "      <td>301.4</td>\n",
       "      <td>297.0</td>\n",
       "      <td>13.90</td>\n",
       "      <td>80.337143</td>\n",
       "      <td>15.36</td>\n",
       "      <td>16.672857</td>\n",
       "      <td>2.428571</td>\n",
       "      <td>27.471429</td>\n",
       "      <td>6.771429</td>\n",
       "      <td>33.3</td>\n",
       "      <td>23.3</td>\n",
       "      <td>4.0</td>\n",
       "      <td>3</td>\n",
       "    </tr>\n",
       "    <tr>\n",
       "      <th>4</th>\n",
       "      <td>sj</td>\n",
       "      <td>1990</td>\n",
       "      <td>22</td>\n",
       "      <td>1990-05-28</td>\n",
       "      <td>0.196200</td>\n",
       "      <td>0.262200</td>\n",
       "      <td>0.251200</td>\n",
       "      <td>0.247340</td>\n",
       "      <td>7.52</td>\n",
       "      <td>299.518571</td>\n",
       "      <td>299.664286</td>\n",
       "      <td>295.821429</td>\n",
       "      <td>301.9</td>\n",
       "      <td>297.5</td>\n",
       "      <td>12.20</td>\n",
       "      <td>80.460000</td>\n",
       "      <td>7.52</td>\n",
       "      <td>17.210000</td>\n",
       "      <td>3.014286</td>\n",
       "      <td>28.942857</td>\n",
       "      <td>9.371429</td>\n",
       "      <td>35.0</td>\n",
       "      <td>23.9</td>\n",
       "      <td>5.8</td>\n",
       "      <td>6</td>\n",
       "    </tr>\n",
       "  </tbody>\n",
       "</table>\n",
       "</div>"
      ],
      "text/plain": [
       "  city  year  weekofyear  ... station_min_temp_c  station_precip_mm  total_cases\n",
       "0   sj  1990          18  ...               20.0               16.0            4\n",
       "1   sj  1990          19  ...               22.2                8.6            5\n",
       "2   sj  1990          20  ...               22.8               41.4            4\n",
       "3   sj  1990          21  ...               23.3                4.0            3\n",
       "4   sj  1990          22  ...               23.9                5.8            6\n",
       "\n",
       "[5 rows x 25 columns]"
      ]
     },
     "execution_count": 895,
     "metadata": {},
     "output_type": "execute_result"
    }
   ],
   "source": [
    "train = pd.merge(train_features,train_labels,on=['city', 'year', 'weekofyear'])\n",
    "\n",
    "train.head()\n"
   ]
  },
  {
   "cell_type": "markdown",
   "metadata": {
    "id": "ClyKv5-kQequ"
   },
   "source": [
    "Finalmente subimos los datos para generar la evaluación final (dengue_features_test)"
   ]
  },
  {
   "cell_type": "code",
   "execution_count": 896,
   "metadata": {
    "colab": {
     "base_uri": "https://localhost:8080/",
     "height": 300,
     "resources": {
      "http://localhost:8080/nbextensions/google.colab/files.js": {
       "data": "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",
       "headers": [
        [
         "content-type",
         "application/javascript"
        ]
       ],
       "ok": true,
       "status": 200,
       "status_text": ""
      }
     }
    },
    "id": "8oyrsVOtdTJs",
    "outputId": "ea00cadb-93c0-4af5-8dad-5d7c6354677a"
   },
   "outputs": [
    {
     "data": {
      "text/html": [
       "\n",
       "     <input type=\"file\" id=\"files-ec943142-1e87-49cc-9360-82f3cd754692\" name=\"files[]\" multiple disabled\n",
       "        style=\"border:none\" />\n",
       "     <output id=\"result-ec943142-1e87-49cc-9360-82f3cd754692\">\n",
       "      Upload widget is only available when the cell has been executed in the\n",
       "      current browser session. Please rerun this cell to enable.\n",
       "      </output>\n",
       "      <script src=\"/nbextensions/google.colab/files.js\"></script> "
      ],
      "text/plain": [
       "<IPython.core.display.HTML object>"
      ]
     },
     "metadata": {},
     "output_type": "display_data"
    },
    {
     "name": "stdout",
     "output_type": "stream",
     "text": [
      "Saving dengue_features_test.csv to dengue_features_test (13).csv\n",
      "User uploaded file \"dengue_features_test.csv\" with length 82465 bytes\n"
     ]
    },
    {
     "data": {
      "text/html": [
       "<div>\n",
       "<style scoped>\n",
       "    .dataframe tbody tr th:only-of-type {\n",
       "        vertical-align: middle;\n",
       "    }\n",
       "\n",
       "    .dataframe tbody tr th {\n",
       "        vertical-align: top;\n",
       "    }\n",
       "\n",
       "    .dataframe thead th {\n",
       "        text-align: right;\n",
       "    }\n",
       "</style>\n",
       "<table border=\"1\" class=\"dataframe\">\n",
       "  <thead>\n",
       "    <tr style=\"text-align: right;\">\n",
       "      <th></th>\n",
       "      <th>city</th>\n",
       "      <th>year</th>\n",
       "      <th>weekofyear</th>\n",
       "      <th>week_start_date</th>\n",
       "      <th>ndvi_ne</th>\n",
       "      <th>ndvi_nw</th>\n",
       "      <th>ndvi_se</th>\n",
       "      <th>ndvi_sw</th>\n",
       "      <th>precipitation_amt_mm</th>\n",
       "      <th>reanalysis_air_temp_k</th>\n",
       "      <th>reanalysis_avg_temp_k</th>\n",
       "      <th>reanalysis_dew_point_temp_k</th>\n",
       "      <th>reanalysis_max_air_temp_k</th>\n",
       "      <th>reanalysis_min_air_temp_k</th>\n",
       "      <th>reanalysis_precip_amt_kg_per_m2</th>\n",
       "      <th>reanalysis_relative_humidity_percent</th>\n",
       "      <th>reanalysis_sat_precip_amt_mm</th>\n",
       "      <th>reanalysis_specific_humidity_g_per_kg</th>\n",
       "      <th>reanalysis_tdtr_k</th>\n",
       "      <th>station_avg_temp_c</th>\n",
       "      <th>station_diur_temp_rng_c</th>\n",
       "      <th>station_max_temp_c</th>\n",
       "      <th>station_min_temp_c</th>\n",
       "      <th>station_precip_mm</th>\n",
       "    </tr>\n",
       "  </thead>\n",
       "  <tbody>\n",
       "    <tr>\n",
       "      <th>0</th>\n",
       "      <td>sj</td>\n",
       "      <td>2008</td>\n",
       "      <td>18</td>\n",
       "      <td>2008-04-29</td>\n",
       "      <td>-0.0189</td>\n",
       "      <td>-0.018900</td>\n",
       "      <td>0.102729</td>\n",
       "      <td>0.091200</td>\n",
       "      <td>78.60</td>\n",
       "      <td>298.492857</td>\n",
       "      <td>298.550000</td>\n",
       "      <td>294.527143</td>\n",
       "      <td>301.1</td>\n",
       "      <td>296.4</td>\n",
       "      <td>25.37</td>\n",
       "      <td>78.781429</td>\n",
       "      <td>78.60</td>\n",
       "      <td>15.918571</td>\n",
       "      <td>3.128571</td>\n",
       "      <td>26.528571</td>\n",
       "      <td>7.057143</td>\n",
       "      <td>33.3</td>\n",
       "      <td>21.7</td>\n",
       "      <td>75.2</td>\n",
       "    </tr>\n",
       "    <tr>\n",
       "      <th>1</th>\n",
       "      <td>sj</td>\n",
       "      <td>2008</td>\n",
       "      <td>19</td>\n",
       "      <td>2008-05-06</td>\n",
       "      <td>-0.0180</td>\n",
       "      <td>-0.012400</td>\n",
       "      <td>0.082043</td>\n",
       "      <td>0.072314</td>\n",
       "      <td>12.56</td>\n",
       "      <td>298.475714</td>\n",
       "      <td>298.557143</td>\n",
       "      <td>294.395714</td>\n",
       "      <td>300.8</td>\n",
       "      <td>296.7</td>\n",
       "      <td>21.83</td>\n",
       "      <td>78.230000</td>\n",
       "      <td>12.56</td>\n",
       "      <td>15.791429</td>\n",
       "      <td>2.571429</td>\n",
       "      <td>26.071429</td>\n",
       "      <td>5.557143</td>\n",
       "      <td>30.0</td>\n",
       "      <td>22.2</td>\n",
       "      <td>34.3</td>\n",
       "    </tr>\n",
       "    <tr>\n",
       "      <th>2</th>\n",
       "      <td>sj</td>\n",
       "      <td>2008</td>\n",
       "      <td>20</td>\n",
       "      <td>2008-05-13</td>\n",
       "      <td>-0.0015</td>\n",
       "      <td>NaN</td>\n",
       "      <td>0.151083</td>\n",
       "      <td>0.091529</td>\n",
       "      <td>3.66</td>\n",
       "      <td>299.455714</td>\n",
       "      <td>299.357143</td>\n",
       "      <td>295.308571</td>\n",
       "      <td>302.2</td>\n",
       "      <td>296.4</td>\n",
       "      <td>4.12</td>\n",
       "      <td>78.270000</td>\n",
       "      <td>3.66</td>\n",
       "      <td>16.674286</td>\n",
       "      <td>4.428571</td>\n",
       "      <td>27.928571</td>\n",
       "      <td>7.785714</td>\n",
       "      <td>32.8</td>\n",
       "      <td>22.8</td>\n",
       "      <td>3.0</td>\n",
       "    </tr>\n",
       "    <tr>\n",
       "      <th>3</th>\n",
       "      <td>sj</td>\n",
       "      <td>2008</td>\n",
       "      <td>21</td>\n",
       "      <td>2008-05-20</td>\n",
       "      <td>NaN</td>\n",
       "      <td>-0.019867</td>\n",
       "      <td>0.124329</td>\n",
       "      <td>0.125686</td>\n",
       "      <td>0.00</td>\n",
       "      <td>299.690000</td>\n",
       "      <td>299.728571</td>\n",
       "      <td>294.402857</td>\n",
       "      <td>303.0</td>\n",
       "      <td>296.9</td>\n",
       "      <td>2.20</td>\n",
       "      <td>73.015714</td>\n",
       "      <td>0.00</td>\n",
       "      <td>15.775714</td>\n",
       "      <td>4.342857</td>\n",
       "      <td>28.057143</td>\n",
       "      <td>6.271429</td>\n",
       "      <td>33.3</td>\n",
       "      <td>24.4</td>\n",
       "      <td>0.3</td>\n",
       "    </tr>\n",
       "    <tr>\n",
       "      <th>4</th>\n",
       "      <td>sj</td>\n",
       "      <td>2008</td>\n",
       "      <td>22</td>\n",
       "      <td>2008-05-27</td>\n",
       "      <td>0.0568</td>\n",
       "      <td>0.039833</td>\n",
       "      <td>0.062267</td>\n",
       "      <td>0.075914</td>\n",
       "      <td>0.76</td>\n",
       "      <td>299.780000</td>\n",
       "      <td>299.671429</td>\n",
       "      <td>294.760000</td>\n",
       "      <td>302.3</td>\n",
       "      <td>297.3</td>\n",
       "      <td>4.36</td>\n",
       "      <td>74.084286</td>\n",
       "      <td>0.76</td>\n",
       "      <td>16.137143</td>\n",
       "      <td>3.542857</td>\n",
       "      <td>27.614286</td>\n",
       "      <td>7.085714</td>\n",
       "      <td>33.3</td>\n",
       "      <td>23.3</td>\n",
       "      <td>84.1</td>\n",
       "    </tr>\n",
       "  </tbody>\n",
       "</table>\n",
       "</div>"
      ],
      "text/plain": [
       "  city  year  ...  station_min_temp_c station_precip_mm\n",
       "0   sj  2008  ...                21.7              75.2\n",
       "1   sj  2008  ...                22.2              34.3\n",
       "2   sj  2008  ...                22.8               3.0\n",
       "3   sj  2008  ...                24.4               0.3\n",
       "4   sj  2008  ...                23.3              84.1\n",
       "\n",
       "[5 rows x 24 columns]"
      ]
     },
     "execution_count": 896,
     "metadata": {},
     "output_type": "execute_result"
    }
   ],
   "source": [
    "test = upload_files()\n",
    "test.head()"
   ]
  },
  {
   "cell_type": "markdown",
   "metadata": {
    "id": "jNyNQW8yQr1H"
   },
   "source": [
    "# Preproceso"
   ]
  },
  {
   "cell_type": "markdown",
   "metadata": {
    "id": "lgeiawkuQngD"
   },
   "source": [
    "A continuación llevamos a cabo la parte del preproceso.\n",
    "\n",
    "Eliminamos la variable week_start_date pues no la vamos a utilizar en nuestro análisis ya que no consideramos que aporte información adicional por criterio experto."
   ]
  },
  {
   "cell_type": "code",
   "execution_count": 897,
   "metadata": {
    "colab": {
     "base_uri": "https://localhost:8080/",
     "height": 226
    },
    "id": "Xl5MRJRjdTOs",
    "outputId": "432f6bf1-89e0-40b8-d8a9-10dc81fa53c0"
   },
   "outputs": [
    {
     "data": {
      "text/html": [
       "<div>\n",
       "<style scoped>\n",
       "    .dataframe tbody tr th:only-of-type {\n",
       "        vertical-align: middle;\n",
       "    }\n",
       "\n",
       "    .dataframe tbody tr th {\n",
       "        vertical-align: top;\n",
       "    }\n",
       "\n",
       "    .dataframe thead th {\n",
       "        text-align: right;\n",
       "    }\n",
       "</style>\n",
       "<table border=\"1\" class=\"dataframe\">\n",
       "  <thead>\n",
       "    <tr style=\"text-align: right;\">\n",
       "      <th></th>\n",
       "      <th>city</th>\n",
       "      <th>year</th>\n",
       "      <th>weekofyear</th>\n",
       "      <th>ndvi_ne</th>\n",
       "      <th>ndvi_nw</th>\n",
       "      <th>ndvi_se</th>\n",
       "      <th>ndvi_sw</th>\n",
       "      <th>precipitation_amt_mm</th>\n",
       "      <th>reanalysis_air_temp_k</th>\n",
       "      <th>reanalysis_avg_temp_k</th>\n",
       "      <th>reanalysis_dew_point_temp_k</th>\n",
       "      <th>reanalysis_max_air_temp_k</th>\n",
       "      <th>reanalysis_min_air_temp_k</th>\n",
       "      <th>reanalysis_precip_amt_kg_per_m2</th>\n",
       "      <th>reanalysis_relative_humidity_percent</th>\n",
       "      <th>reanalysis_sat_precip_amt_mm</th>\n",
       "      <th>reanalysis_specific_humidity_g_per_kg</th>\n",
       "      <th>reanalysis_tdtr_k</th>\n",
       "      <th>station_avg_temp_c</th>\n",
       "      <th>station_diur_temp_rng_c</th>\n",
       "      <th>station_max_temp_c</th>\n",
       "      <th>station_min_temp_c</th>\n",
       "      <th>station_precip_mm</th>\n",
       "      <th>total_cases</th>\n",
       "    </tr>\n",
       "  </thead>\n",
       "  <tbody>\n",
       "    <tr>\n",
       "      <th>0</th>\n",
       "      <td>sj</td>\n",
       "      <td>1990</td>\n",
       "      <td>18</td>\n",
       "      <td>0.122600</td>\n",
       "      <td>0.103725</td>\n",
       "      <td>0.198483</td>\n",
       "      <td>0.177617</td>\n",
       "      <td>12.42</td>\n",
       "      <td>297.572857</td>\n",
       "      <td>297.742857</td>\n",
       "      <td>292.414286</td>\n",
       "      <td>299.8</td>\n",
       "      <td>295.9</td>\n",
       "      <td>32.00</td>\n",
       "      <td>73.365714</td>\n",
       "      <td>12.42</td>\n",
       "      <td>14.012857</td>\n",
       "      <td>2.628571</td>\n",
       "      <td>25.442857</td>\n",
       "      <td>6.900000</td>\n",
       "      <td>29.4</td>\n",
       "      <td>20.0</td>\n",
       "      <td>16.0</td>\n",
       "      <td>4</td>\n",
       "    </tr>\n",
       "    <tr>\n",
       "      <th>1</th>\n",
       "      <td>sj</td>\n",
       "      <td>1990</td>\n",
       "      <td>19</td>\n",
       "      <td>0.169900</td>\n",
       "      <td>0.142175</td>\n",
       "      <td>0.162357</td>\n",
       "      <td>0.155486</td>\n",
       "      <td>22.82</td>\n",
       "      <td>298.211429</td>\n",
       "      <td>298.442857</td>\n",
       "      <td>293.951429</td>\n",
       "      <td>300.9</td>\n",
       "      <td>296.4</td>\n",
       "      <td>17.94</td>\n",
       "      <td>77.368571</td>\n",
       "      <td>22.82</td>\n",
       "      <td>15.372857</td>\n",
       "      <td>2.371429</td>\n",
       "      <td>26.714286</td>\n",
       "      <td>6.371429</td>\n",
       "      <td>31.7</td>\n",
       "      <td>22.2</td>\n",
       "      <td>8.6</td>\n",
       "      <td>5</td>\n",
       "    </tr>\n",
       "    <tr>\n",
       "      <th>2</th>\n",
       "      <td>sj</td>\n",
       "      <td>1990</td>\n",
       "      <td>20</td>\n",
       "      <td>0.032250</td>\n",
       "      <td>0.172967</td>\n",
       "      <td>0.157200</td>\n",
       "      <td>0.170843</td>\n",
       "      <td>34.54</td>\n",
       "      <td>298.781429</td>\n",
       "      <td>298.878571</td>\n",
       "      <td>295.434286</td>\n",
       "      <td>300.5</td>\n",
       "      <td>297.3</td>\n",
       "      <td>26.10</td>\n",
       "      <td>82.052857</td>\n",
       "      <td>34.54</td>\n",
       "      <td>16.848571</td>\n",
       "      <td>2.300000</td>\n",
       "      <td>26.714286</td>\n",
       "      <td>6.485714</td>\n",
       "      <td>32.2</td>\n",
       "      <td>22.8</td>\n",
       "      <td>41.4</td>\n",
       "      <td>4</td>\n",
       "    </tr>\n",
       "    <tr>\n",
       "      <th>3</th>\n",
       "      <td>sj</td>\n",
       "      <td>1990</td>\n",
       "      <td>21</td>\n",
       "      <td>0.128633</td>\n",
       "      <td>0.245067</td>\n",
       "      <td>0.227557</td>\n",
       "      <td>0.235886</td>\n",
       "      <td>15.36</td>\n",
       "      <td>298.987143</td>\n",
       "      <td>299.228571</td>\n",
       "      <td>295.310000</td>\n",
       "      <td>301.4</td>\n",
       "      <td>297.0</td>\n",
       "      <td>13.90</td>\n",
       "      <td>80.337143</td>\n",
       "      <td>15.36</td>\n",
       "      <td>16.672857</td>\n",
       "      <td>2.428571</td>\n",
       "      <td>27.471429</td>\n",
       "      <td>6.771429</td>\n",
       "      <td>33.3</td>\n",
       "      <td>23.3</td>\n",
       "      <td>4.0</td>\n",
       "      <td>3</td>\n",
       "    </tr>\n",
       "    <tr>\n",
       "      <th>4</th>\n",
       "      <td>sj</td>\n",
       "      <td>1990</td>\n",
       "      <td>22</td>\n",
       "      <td>0.196200</td>\n",
       "      <td>0.262200</td>\n",
       "      <td>0.251200</td>\n",
       "      <td>0.247340</td>\n",
       "      <td>7.52</td>\n",
       "      <td>299.518571</td>\n",
       "      <td>299.664286</td>\n",
       "      <td>295.821429</td>\n",
       "      <td>301.9</td>\n",
       "      <td>297.5</td>\n",
       "      <td>12.20</td>\n",
       "      <td>80.460000</td>\n",
       "      <td>7.52</td>\n",
       "      <td>17.210000</td>\n",
       "      <td>3.014286</td>\n",
       "      <td>28.942857</td>\n",
       "      <td>9.371429</td>\n",
       "      <td>35.0</td>\n",
       "      <td>23.9</td>\n",
       "      <td>5.8</td>\n",
       "      <td>6</td>\n",
       "    </tr>\n",
       "  </tbody>\n",
       "</table>\n",
       "</div>"
      ],
      "text/plain": [
       "  city  year  weekofyear  ...  station_min_temp_c  station_precip_mm  total_cases\n",
       "0   sj  1990          18  ...                20.0               16.0            4\n",
       "1   sj  1990          19  ...                22.2                8.6            5\n",
       "2   sj  1990          20  ...                22.8               41.4            4\n",
       "3   sj  1990          21  ...                23.3                4.0            3\n",
       "4   sj  1990          22  ...                23.9                5.8            6\n",
       "\n",
       "[5 rows x 24 columns]"
      ]
     },
     "execution_count": 897,
     "metadata": {},
     "output_type": "execute_result"
    }
   ],
   "source": [
    "train.drop(\"week_start_date\", axis = 1, inplace = True)\n",
    "test.drop(\"week_start_date\", axis = 1, inplace = True)\n",
    "train.head()\n"
   ]
  },
  {
   "cell_type": "markdown",
   "metadata": {
    "id": "0I1eYL3AQ3zx"
   },
   "source": [
    "A continuación voy a realizar un análisis de correlaciones de cada una de las ciudades por separado. De esta forma, podremos ver qué variables están directamente correlacionadas con nuestra variable objetivo y junto con los resultados obtenidos en la práctica 1 podremos decir las variables finales que elegimos para nuestro análisis."
   ]
  },
  {
   "cell_type": "markdown",
   "metadata": {
    "id": "H8wHK8rJdNLY"
   },
   "source": [
    "Se puede ver en primer lugar, el mapa de correlaciones para San Juan. Las variables que aparecen más claritas (más rojas) son las que más correlación tienen directamente con la target.\n",
    "\n",
    "De forma similar, se interpreta el mapa del calor de iquito, en el que salen variables diferentes a las de San Juan."
   ]
  },
  {
   "cell_type": "code",
   "execution_count": 898,
   "metadata": {
    "colab": {
     "base_uri": "https://localhost:8080/",
     "height": 735
    },
    "id": "U7cMEWdER_6h",
    "outputId": "14f90b94-5961-4664-995a-4055d3d8ba46"
   },
   "outputs": [
    {
     "data": {
      "text/plain": [
       "<matplotlib.axes._subplots.AxesSubplot at 0x7f7b06ad7290>"
      ]
     },
     "execution_count": 898,
     "metadata": {},
     "output_type": "execute_result"
    },
    {
     "data": {
      "image/png": "[encoded data removed]",
      "text/plain": [
       "<Figure size 1440x720 with 2 Axes>"
      ]
     },
     "metadata": {
      "needs_background": "light"
     },
     "output_type": "display_data"
    }
   ],
   "source": [
    "train_corr_sj = train[train['city'] == 'sj'].corr(method='spearman')\n",
    "train_corr_iq = train[train['city'] == 'iq'].corr(method='spearman')\n",
    "plt.figure(figsize=(20,10))\n",
    "sns.heatmap(train_corr_sj, \n",
    "            xticklabels=train_corr_sj.columns,\n",
    "            yticklabels=train_corr_sj.columns,\n",
    "            cmap=\"coolwarm\")"
   ]
  },
  {
   "cell_type": "code",
   "execution_count": 899,
   "metadata": {
    "colab": {
     "base_uri": "https://localhost:8080/",
     "height": 731
    },
    "id": "DSQysEeVSWWF",
    "outputId": "05fc8fe7-78d7-4a5b-c163-12ef5df0ff85"
   },
   "outputs": [
    {
     "data": {
      "text/plain": [
       "<matplotlib.axes._subplots.AxesSubplot at 0x7f7b0810f4d0>"
      ]
     },
     "execution_count": 899,
     "metadata": {},
     "output_type": "execute_result"
    },
    {
     "data": {
      "image/png": "[encoded data removed]",
      "text/plain": [
       "<Figure size 1440x720 with 2 Axes>"
      ]
     },
     "metadata": {
      "needs_background": "light"
     },
     "output_type": "display_data"
    }
   ],
   "source": [
    "plt.figure(figsize=(20,10))\n",
    "sns.heatmap(train_corr_iq,\n",
    "            xticklabels=train_corr_iq.columns,\n",
    "            yticklabels=train_corr_iq.columns,\n",
    "            cmap=\"coolwarm\")"
   ]
  },
  {
   "cell_type": "markdown",
   "metadata": {
    "id": "zV8cLW7SddaE"
   },
   "source": [
    "A continuación separamos nuestro dataset por las diferentes ciudades y consideramos el conjunto de training y test para probar nuestro modelo posteriormente y testear los resultados."
   ]
  },
  {
   "cell_type": "code",
   "execution_count": 900,
   "metadata": {
    "id": "AXKrzvL7dTRA"
   },
   "outputs": [],
   "source": [
    "train_sj = train[train['city'] == 'sj']\n",
    "train_iq = train[train['city'] == 'iq']\n",
    "test_sj = test[test['city'] == 'sj']\n",
    "test_iq = test[test['city'] == 'iq']"
   ]
  },
  {
   "cell_type": "markdown",
   "metadata": {
    "id": "uOeg2YMsdlBR"
   },
   "source": [
    "Es muy importante resetear los índices para tener un análisis sin errores. A veces, cuando no se resetean los índice puede haber problemas en las predicciones o en la unión de tablas, por lo que decido resetear los índices para evitar problemas futuros."
   ]
  },
  {
   "cell_type": "code",
   "execution_count": 901,
   "metadata": {
    "id": "D5ct8uM2dgiK"
   },
   "outputs": [],
   "source": [
    "train_sj=train_sj.reset_index()\n",
    "train_iq=train_iq.reset_index()\n",
    "test_sj=test_sj.reset_index()\n",
    "test_iq=test_iq.reset_index()"
   ]
  },
  {
   "cell_type": "markdown",
   "metadata": {
    "id": "BmBtuY1pdwzV"
   },
   "source": [
    "Chequeamos los valores nulos, de forma similar a como lo hice en la práctica número 1. Posteriormente pasamos a imputarlos con la mediana. Esta vez he usado una técnica diferente a la usada en la Practica 1 (usé ffill). También he probado a rellenarlos con ffill pero los resultados obtenidos han sido peores por lo que finalmente, he decidido rellenarlos usando el método de la mediana."
   ]
  },
  {
   "cell_type": "code",
   "execution_count": 902,
   "metadata": {
    "colab": {
     "base_uri": "https://localhost:8080/"
    },
    "id": "j_Q7oLu1dgk5",
    "outputId": "13e235a8-75bf-41be-8e9f-5a362f11eb11"
   },
   "outputs": [
    {
     "data": {
      "text/plain": [
       "index                                      0\n",
       "city                                       0\n",
       "year                                       0\n",
       "weekofyear                                 0\n",
       "ndvi_ne                                  191\n",
       "ndvi_nw                                   49\n",
       "ndvi_se                                   19\n",
       "ndvi_sw                                   19\n",
       "precipitation_amt_mm                       9\n",
       "reanalysis_air_temp_k                      6\n",
       "reanalysis_avg_temp_k                      6\n",
       "reanalysis_dew_point_temp_k                6\n",
       "reanalysis_max_air_temp_k                  6\n",
       "reanalysis_min_air_temp_k                  6\n",
       "reanalysis_precip_amt_kg_per_m2            6\n",
       "reanalysis_relative_humidity_percent       6\n",
       "reanalysis_sat_precip_amt_mm               9\n",
       "reanalysis_specific_humidity_g_per_kg      6\n",
       "reanalysis_tdtr_k                          6\n",
       "station_avg_temp_c                         6\n",
       "station_diur_temp_rng_c                    6\n",
       "station_max_temp_c                         6\n",
       "station_min_temp_c                         6\n",
       "station_precip_mm                          6\n",
       "total_cases                                0\n",
       "dtype: int64"
      ]
     },
     "execution_count": 902,
     "metadata": {},
     "output_type": "execute_result"
    }
   ],
   "source": [
    "pd.isnull(train_sj).sum()"
   ]
  },
  {
   "cell_type": "markdown",
   "metadata": {
    "id": "0XwLyzgPeB2E"
   },
   "source": [
    "Realizamos lo mismo que anteriormente pero para iquito."
   ]
  },
  {
   "cell_type": "code",
   "execution_count": 903,
   "metadata": {
    "colab": {
     "base_uri": "https://localhost:8080/"
    },
    "id": "uIhO9xzJdgne",
    "outputId": "264352c8-ba10-49ed-a337-50ed39429cb0"
   },
   "outputs": [
    {
     "data": {
      "text/plain": [
       "index                                     0\n",
       "city                                      0\n",
       "year                                      0\n",
       "weekofyear                                0\n",
       "ndvi_ne                                   3\n",
       "ndvi_nw                                   3\n",
       "ndvi_se                                   3\n",
       "ndvi_sw                                   3\n",
       "precipitation_amt_mm                      4\n",
       "reanalysis_air_temp_k                     4\n",
       "reanalysis_avg_temp_k                     4\n",
       "reanalysis_dew_point_temp_k               4\n",
       "reanalysis_max_air_temp_k                 4\n",
       "reanalysis_min_air_temp_k                 4\n",
       "reanalysis_precip_amt_kg_per_m2           4\n",
       "reanalysis_relative_humidity_percent      4\n",
       "reanalysis_sat_precip_amt_mm              4\n",
       "reanalysis_specific_humidity_g_per_kg     4\n",
       "reanalysis_tdtr_k                         4\n",
       "station_avg_temp_c                       37\n",
       "station_diur_temp_rng_c                  37\n",
       "station_max_temp_c                       14\n",
       "station_min_temp_c                        8\n",
       "station_precip_mm                        16\n",
       "total_cases                               0\n",
       "dtype: int64"
      ]
     },
     "execution_count": 903,
     "metadata": {},
     "output_type": "execute_result"
    }
   ],
   "source": [
    "pd.isnull(train_iq).sum()"
   ]
  },
  {
   "cell_type": "markdown",
   "metadata": {
    "id": "nM75EojNRJYi"
   },
   "source": [
    "Como he mencionado anteriormente, imputo los missings con la mediana. He probado también a rellenarlos con ffill pero los resultados obtenidos no eran tan buenos, por lo que he optado a rellenarlos con la mediana finalmente.\n",
    "\n",
    "Otra de las consideraciones de por qué rellenarlos con la mediana puede ser una mejor técnica es que si tenemos un outlier y justo después un valor missing, el valor missing sería rellenado por un outlier y queremos evitar este tipo de casos pues nuestros datos quedarían mucho menos alineados con la realidad, ya que podría haber varios missing values seguidos que serían imputados con outliers."
   ]
  },
  {
   "cell_type": "code",
   "execution_count": 904,
   "metadata": {
    "colab": {
     "base_uri": "https://localhost:8080/"
    },
    "id": "7hIXCxG1dgqJ",
    "outputId": "72ff9303-6301-4cfd-b668-bf14730c9e9d"
   },
   "outputs": [
    {
     "data": {
      "text/plain": [
       "index                                    False\n",
       "city                                     False\n",
       "year                                     False\n",
       "weekofyear                               False\n",
       "ndvi_ne                                  False\n",
       "ndvi_nw                                  False\n",
       "ndvi_se                                  False\n",
       "ndvi_sw                                  False\n",
       "precipitation_amt_mm                     False\n",
       "reanalysis_air_temp_k                    False\n",
       "reanalysis_avg_temp_k                    False\n",
       "reanalysis_dew_point_temp_k              False\n",
       "reanalysis_max_air_temp_k                False\n",
       "reanalysis_min_air_temp_k                False\n",
       "reanalysis_precip_amt_kg_per_m2          False\n",
       "reanalysis_relative_humidity_percent     False\n",
       "reanalysis_sat_precip_amt_mm             False\n",
       "reanalysis_specific_humidity_g_per_kg    False\n",
       "reanalysis_tdtr_k                        False\n",
       "station_avg_temp_c                       False\n",
       "station_diur_temp_rng_c                  False\n",
       "station_max_temp_c                       False\n",
       "station_min_temp_c                       False\n",
       "station_precip_mm                        False\n",
       "total_cases                              False\n",
       "dtype: bool"
      ]
     },
     "execution_count": 904,
     "metadata": {},
     "output_type": "execute_result"
    }
   ],
   "source": [
    "for i in train_sj.columns:\n",
    "    missing = train_sj[i].isnull()\n",
    "    num_missing = np.sum(missing)\n",
    "    \n",
    "    if num_missing > 0:  # sólo para las columnas con missing values.\n",
    "        med = train_sj[i].median()\n",
    "        train_sj[i] = train_sj[i].fillna(med)\n",
    "\n",
    "pd.isnull(train_sj).any()"
   ]
  },
  {
   "cell_type": "markdown",
   "metadata": {
    "id": "9tPnn-zferFK"
   },
   "source": [
    "Tras imputar los valores missings, vemos que ya no tenemos ningún valor missing en nuestros datasets. Lo tenemos que aplicar tanto a los datasets de training como a los datasets de test."
   ]
  },
  {
   "cell_type": "code",
   "execution_count": 905,
   "metadata": {
    "colab": {
     "base_uri": "https://localhost:8080/"
    },
    "id": "jZTz7vZrdgsu",
    "outputId": "559ec3f7-be21-478d-e527-7f521c6df0ad"
   },
   "outputs": [
    {
     "data": {
      "text/plain": [
       "index                                    False\n",
       "city                                     False\n",
       "year                                     False\n",
       "weekofyear                               False\n",
       "ndvi_ne                                  False\n",
       "ndvi_nw                                  False\n",
       "ndvi_se                                  False\n",
       "ndvi_sw                                  False\n",
       "precipitation_amt_mm                     False\n",
       "reanalysis_air_temp_k                    False\n",
       "reanalysis_avg_temp_k                    False\n",
       "reanalysis_dew_point_temp_k              False\n",
       "reanalysis_max_air_temp_k                False\n",
       "reanalysis_min_air_temp_k                False\n",
       "reanalysis_precip_amt_kg_per_m2          False\n",
       "reanalysis_relative_humidity_percent     False\n",
       "reanalysis_sat_precip_amt_mm             False\n",
       "reanalysis_specific_humidity_g_per_kg    False\n",
       "reanalysis_tdtr_k                        False\n",
       "station_avg_temp_c                       False\n",
       "station_diur_temp_rng_c                  False\n",
       "station_max_temp_c                       False\n",
       "station_min_temp_c                       False\n",
       "station_precip_mm                        False\n",
       "total_cases                              False\n",
       "dtype: bool"
      ]
     },
     "execution_count": 905,
     "metadata": {},
     "output_type": "execute_result"
    }
   ],
   "source": [
    "for i in train_iq.columns:\n",
    "    missing = train_iq[i].isnull()\n",
    "    num_missing = np.sum(missing)\n",
    "    \n",
    "    if num_missing > 0:  # sólo para las columnas con missing values.\n",
    "        med = train_iq[i].median()\n",
    "        train_iq[i] = train_iq[i].fillna(med)\n",
    "\n",
    "pd.isnull(train_iq).any()"
   ]
  },
  {
   "cell_type": "code",
   "execution_count": 906,
   "metadata": {
    "colab": {
     "base_uri": "https://localhost:8080/"
    },
    "id": "3_0V5sHRdgvd",
    "outputId": "9dcc4e86-c011-4bf1-d1e8-b2a5c760702c"
   },
   "outputs": [
    {
     "data": {
      "text/plain": [
       "index                                    False\n",
       "city                                     False\n",
       "year                                     False\n",
       "weekofyear                               False\n",
       "ndvi_ne                                  False\n",
       "ndvi_nw                                  False\n",
       "ndvi_se                                  False\n",
       "ndvi_sw                                  False\n",
       "precipitation_amt_mm                     False\n",
       "reanalysis_air_temp_k                    False\n",
       "reanalysis_avg_temp_k                    False\n",
       "reanalysis_dew_point_temp_k              False\n",
       "reanalysis_max_air_temp_k                False\n",
       "reanalysis_min_air_temp_k                False\n",
       "reanalysis_precip_amt_kg_per_m2          False\n",
       "reanalysis_relative_humidity_percent     False\n",
       "reanalysis_sat_precip_amt_mm             False\n",
       "reanalysis_specific_humidity_g_per_kg    False\n",
       "reanalysis_tdtr_k                        False\n",
       "station_avg_temp_c                       False\n",
       "station_diur_temp_rng_c                  False\n",
       "station_max_temp_c                       False\n",
       "station_min_temp_c                       False\n",
       "station_precip_mm                        False\n",
       "dtype: bool"
      ]
     },
     "execution_count": 906,
     "metadata": {},
     "output_type": "execute_result"
    }
   ],
   "source": [
    "for i in test_sj.columns:\n",
    "    missing = test_sj[i].isnull()\n",
    "    num_missing = np.sum(missing)\n",
    "    \n",
    "    if num_missing > 0:  # sólo para las columnas con missing values.\n",
    "        med = test_sj[i].median()\n",
    "        test_sj[i] = test_sj[i].fillna(med)\n",
    "\n",
    "pd.isnull(test_sj).any()"
   ]
  },
  {
   "cell_type": "code",
   "execution_count": 907,
   "metadata": {
    "colab": {
     "base_uri": "https://localhost:8080/"
    },
    "id": "8MwuIPLZdsIj",
    "outputId": "52f8f234-c784-44ed-b858-92dd15433e2b"
   },
   "outputs": [
    {
     "data": {
      "text/plain": [
       "index                                    False\n",
       "city                                     False\n",
       "year                                     False\n",
       "weekofyear                               False\n",
       "ndvi_ne                                  False\n",
       "ndvi_nw                                  False\n",
       "ndvi_se                                  False\n",
       "ndvi_sw                                  False\n",
       "precipitation_amt_mm                     False\n",
       "reanalysis_air_temp_k                    False\n",
       "reanalysis_avg_temp_k                    False\n",
       "reanalysis_dew_point_temp_k              False\n",
       "reanalysis_max_air_temp_k                False\n",
       "reanalysis_min_air_temp_k                False\n",
       "reanalysis_precip_amt_kg_per_m2          False\n",
       "reanalysis_relative_humidity_percent     False\n",
       "reanalysis_sat_precip_amt_mm             False\n",
       "reanalysis_specific_humidity_g_per_kg    False\n",
       "reanalysis_tdtr_k                        False\n",
       "station_avg_temp_c                       False\n",
       "station_diur_temp_rng_c                  False\n",
       "station_max_temp_c                       False\n",
       "station_min_temp_c                       False\n",
       "station_precip_mm                        False\n",
       "dtype: bool"
      ]
     },
     "execution_count": 907,
     "metadata": {},
     "output_type": "execute_result"
    }
   ],
   "source": [
    "for i in test_iq.columns:\n",
    "    missing = test_iq[i].isnull()\n",
    "    num_missing = np.sum(missing)\n",
    "    \n",
    "    if num_missing > 0:  # sólo para las columnas con missing values.\n",
    "        med = test_iq[i].median()\n",
    "        test_iq[i] = test_iq[i].fillna(med)\n",
    "\n",
    "pd.isnull(test_iq).any()"
   ]
  },
  {
   "cell_type": "code",
   "execution_count": 908,
   "metadata": {
    "colab": {
     "base_uri": "https://localhost:8080/"
    },
    "id": "HKpYNEPFhlB3",
    "outputId": "43f30e6f-c78d-4110-bfb0-845e9bd1530b"
   },
   "outputs": [
    {
     "data": {
      "text/plain": [
       "index                                    False\n",
       "city                                     False\n",
       "year                                     False\n",
       "weekofyear                               False\n",
       "ndvi_ne                                  False\n",
       "ndvi_nw                                  False\n",
       "ndvi_se                                  False\n",
       "ndvi_sw                                  False\n",
       "precipitation_amt_mm                     False\n",
       "reanalysis_air_temp_k                    False\n",
       "reanalysis_avg_temp_k                    False\n",
       "reanalysis_dew_point_temp_k              False\n",
       "reanalysis_max_air_temp_k                False\n",
       "reanalysis_min_air_temp_k                False\n",
       "reanalysis_precip_amt_kg_per_m2          False\n",
       "reanalysis_relative_humidity_percent     False\n",
       "reanalysis_sat_precip_amt_mm             False\n",
       "reanalysis_specific_humidity_g_per_kg    False\n",
       "reanalysis_tdtr_k                        False\n",
       "station_avg_temp_c                       False\n",
       "station_diur_temp_rng_c                  False\n",
       "station_max_temp_c                       False\n",
       "station_min_temp_c                       False\n",
       "station_precip_mm                        False\n",
       "dtype: bool"
      ]
     },
     "execution_count": 908,
     "metadata": {},
     "output_type": "execute_result"
    }
   ],
   "source": [
    "for i in test_iq.columns:\n",
    "    missing = test_iq[i].isnull()\n",
    "    num_missing = np.sum(missing)\n",
    "    \n",
    "    if num_missing > 0:  # sólo para las columnas con missing values.\n",
    "        med = test_iq[i].median()\n",
    "        test_iq[i] = test_iq[i].fillna(med)\n",
    "\n",
    "pd.isnull(test_iq).any()"
   ]
  },
  {
   "cell_type": "markdown",
   "metadata": {
    "id": "mMJDoM1Fe3dA"
   },
   "source": [
    "A continuación muestro el dataset de training de San Juan"
   ]
  },
  {
   "cell_type": "code",
   "execution_count": 909,
   "metadata": {
    "colab": {
     "base_uri": "https://localhost:8080/",
     "height": 444
    },
    "id": "ZZXjX9yN7AO-",
    "outputId": "29d64fe5-5f87-4035-a3ed-0cf5bc9f635d"
   },
   "outputs": [
    {
     "data": {
      "text/html": [
       "<div>\n",
       "<style scoped>\n",
       "    .dataframe tbody tr th:only-of-type {\n",
       "        vertical-align: middle;\n",
       "    }\n",
       "\n",
       "    .dataframe tbody tr th {\n",
       "        vertical-align: top;\n",
       "    }\n",
       "\n",
       "    .dataframe thead th {\n",
       "        text-align: right;\n",
       "    }\n",
       "</style>\n",
       "<table border=\"1\" class=\"dataframe\">\n",
       "  <thead>\n",
       "    <tr style=\"text-align: right;\">\n",
       "      <th></th>\n",
       "      <th>index</th>\n",
       "      <th>city</th>\n",
       "      <th>year</th>\n",
       "      <th>weekofyear</th>\n",
       "      <th>ndvi_ne</th>\n",
       "      <th>ndvi_nw</th>\n",
       "      <th>ndvi_se</th>\n",
       "      <th>ndvi_sw</th>\n",
       "      <th>precipitation_amt_mm</th>\n",
       "      <th>reanalysis_air_temp_k</th>\n",
       "      <th>reanalysis_avg_temp_k</th>\n",
       "      <th>reanalysis_dew_point_temp_k</th>\n",
       "      <th>reanalysis_max_air_temp_k</th>\n",
       "      <th>reanalysis_min_air_temp_k</th>\n",
       "      <th>reanalysis_precip_amt_kg_per_m2</th>\n",
       "      <th>reanalysis_relative_humidity_percent</th>\n",
       "      <th>reanalysis_sat_precip_amt_mm</th>\n",
       "      <th>reanalysis_specific_humidity_g_per_kg</th>\n",
       "      <th>reanalysis_tdtr_k</th>\n",
       "      <th>station_avg_temp_c</th>\n",
       "      <th>station_diur_temp_rng_c</th>\n",
       "      <th>station_max_temp_c</th>\n",
       "      <th>station_min_temp_c</th>\n",
       "      <th>station_precip_mm</th>\n",
       "      <th>total_cases</th>\n",
       "    </tr>\n",
       "  </thead>\n",
       "  <tbody>\n",
       "    <tr>\n",
       "      <th>0</th>\n",
       "      <td>0</td>\n",
       "      <td>sj</td>\n",
       "      <td>1990</td>\n",
       "      <td>18</td>\n",
       "      <td>0.122600</td>\n",
       "      <td>0.103725</td>\n",
       "      <td>0.198483</td>\n",
       "      <td>0.177617</td>\n",
       "      <td>12.42</td>\n",
       "      <td>297.572857</td>\n",
       "      <td>297.742857</td>\n",
       "      <td>292.414286</td>\n",
       "      <td>299.8</td>\n",
       "      <td>295.9</td>\n",
       "      <td>32.00</td>\n",
       "      <td>73.365714</td>\n",
       "      <td>12.42</td>\n",
       "      <td>14.012857</td>\n",
       "      <td>2.628571</td>\n",
       "      <td>25.442857</td>\n",
       "      <td>6.900000</td>\n",
       "      <td>29.4</td>\n",
       "      <td>20.0</td>\n",
       "      <td>16.0</td>\n",
       "      <td>4</td>\n",
       "    </tr>\n",
       "    <tr>\n",
       "      <th>1</th>\n",
       "      <td>1</td>\n",
       "      <td>sj</td>\n",
       "      <td>1990</td>\n",
       "      <td>19</td>\n",
       "      <td>0.169900</td>\n",
       "      <td>0.142175</td>\n",
       "      <td>0.162357</td>\n",
       "      <td>0.155486</td>\n",
       "      <td>22.82</td>\n",
       "      <td>298.211429</td>\n",
       "      <td>298.442857</td>\n",
       "      <td>293.951429</td>\n",
       "      <td>300.9</td>\n",
       "      <td>296.4</td>\n",
       "      <td>17.94</td>\n",
       "      <td>77.368571</td>\n",
       "      <td>22.82</td>\n",
       "      <td>15.372857</td>\n",
       "      <td>2.371429</td>\n",
       "      <td>26.714286</td>\n",
       "      <td>6.371429</td>\n",
       "      <td>31.7</td>\n",
       "      <td>22.2</td>\n",
       "      <td>8.6</td>\n",
       "      <td>5</td>\n",
       "    </tr>\n",
       "    <tr>\n",
       "      <th>2</th>\n",
       "      <td>2</td>\n",
       "      <td>sj</td>\n",
       "      <td>1990</td>\n",
       "      <td>20</td>\n",
       "      <td>0.032250</td>\n",
       "      <td>0.172967</td>\n",
       "      <td>0.157200</td>\n",
       "      <td>0.170843</td>\n",
       "      <td>34.54</td>\n",
       "      <td>298.781429</td>\n",
       "      <td>298.878571</td>\n",
       "      <td>295.434286</td>\n",
       "      <td>300.5</td>\n",
       "      <td>297.3</td>\n",
       "      <td>26.10</td>\n",
       "      <td>82.052857</td>\n",
       "      <td>34.54</td>\n",
       "      <td>16.848571</td>\n",
       "      <td>2.300000</td>\n",
       "      <td>26.714286</td>\n",
       "      <td>6.485714</td>\n",
       "      <td>32.2</td>\n",
       "      <td>22.8</td>\n",
       "      <td>41.4</td>\n",
       "      <td>4</td>\n",
       "    </tr>\n",
       "    <tr>\n",
       "      <th>3</th>\n",
       "      <td>3</td>\n",
       "      <td>sj</td>\n",
       "      <td>1990</td>\n",
       "      <td>21</td>\n",
       "      <td>0.128633</td>\n",
       "      <td>0.245067</td>\n",
       "      <td>0.227557</td>\n",
       "      <td>0.235886</td>\n",
       "      <td>15.36</td>\n",
       "      <td>298.987143</td>\n",
       "      <td>299.228571</td>\n",
       "      <td>295.310000</td>\n",
       "      <td>301.4</td>\n",
       "      <td>297.0</td>\n",
       "      <td>13.90</td>\n",
       "      <td>80.337143</td>\n",
       "      <td>15.36</td>\n",
       "      <td>16.672857</td>\n",
       "      <td>2.428571</td>\n",
       "      <td>27.471429</td>\n",
       "      <td>6.771429</td>\n",
       "      <td>33.3</td>\n",
       "      <td>23.3</td>\n",
       "      <td>4.0</td>\n",
       "      <td>3</td>\n",
       "    </tr>\n",
       "    <tr>\n",
       "      <th>4</th>\n",
       "      <td>4</td>\n",
       "      <td>sj</td>\n",
       "      <td>1990</td>\n",
       "      <td>22</td>\n",
       "      <td>0.196200</td>\n",
       "      <td>0.262200</td>\n",
       "      <td>0.251200</td>\n",
       "      <td>0.247340</td>\n",
       "      <td>7.52</td>\n",
       "      <td>299.518571</td>\n",
       "      <td>299.664286</td>\n",
       "      <td>295.821429</td>\n",
       "      <td>301.9</td>\n",
       "      <td>297.5</td>\n",
       "      <td>12.20</td>\n",
       "      <td>80.460000</td>\n",
       "      <td>7.52</td>\n",
       "      <td>17.210000</td>\n",
       "      <td>3.014286</td>\n",
       "      <td>28.942857</td>\n",
       "      <td>9.371429</td>\n",
       "      <td>35.0</td>\n",
       "      <td>23.9</td>\n",
       "      <td>5.8</td>\n",
       "      <td>6</td>\n",
       "    </tr>\n",
       "    <tr>\n",
       "      <th>...</th>\n",
       "      <td>...</td>\n",
       "      <td>...</td>\n",
       "      <td>...</td>\n",
       "      <td>...</td>\n",
       "      <td>...</td>\n",
       "      <td>...</td>\n",
       "      <td>...</td>\n",
       "      <td>...</td>\n",
       "      <td>...</td>\n",
       "      <td>...</td>\n",
       "      <td>...</td>\n",
       "      <td>...</td>\n",
       "      <td>...</td>\n",
       "      <td>...</td>\n",
       "      <td>...</td>\n",
       "      <td>...</td>\n",
       "      <td>...</td>\n",
       "      <td>...</td>\n",
       "      <td>...</td>\n",
       "      <td>...</td>\n",
       "      <td>...</td>\n",
       "      <td>...</td>\n",
       "      <td>...</td>\n",
       "      <td>...</td>\n",
       "      <td>...</td>\n",
       "    </tr>\n",
       "    <tr>\n",
       "      <th>931</th>\n",
       "      <td>931</td>\n",
       "      <td>sj</td>\n",
       "      <td>2008</td>\n",
       "      <td>13</td>\n",
       "      <td>0.077850</td>\n",
       "      <td>-0.039900</td>\n",
       "      <td>0.310471</td>\n",
       "      <td>0.296243</td>\n",
       "      <td>27.19</td>\n",
       "      <td>296.958571</td>\n",
       "      <td>296.957143</td>\n",
       "      <td>292.095714</td>\n",
       "      <td>299.7</td>\n",
       "      <td>294.4</td>\n",
       "      <td>7.55</td>\n",
       "      <td>74.247143</td>\n",
       "      <td>27.19</td>\n",
       "      <td>13.644286</td>\n",
       "      <td>2.885714</td>\n",
       "      <td>25.042857</td>\n",
       "      <td>5.785714</td>\n",
       "      <td>30.0</td>\n",
       "      <td>21.1</td>\n",
       "      <td>1.8</td>\n",
       "      <td>4</td>\n",
       "    </tr>\n",
       "    <tr>\n",
       "      <th>932</th>\n",
       "      <td>932</td>\n",
       "      <td>sj</td>\n",
       "      <td>2008</td>\n",
       "      <td>14</td>\n",
       "      <td>-0.038000</td>\n",
       "      <td>-0.016833</td>\n",
       "      <td>0.119371</td>\n",
       "      <td>0.066386</td>\n",
       "      <td>3.82</td>\n",
       "      <td>298.081429</td>\n",
       "      <td>298.228571</td>\n",
       "      <td>293.235714</td>\n",
       "      <td>299.8</td>\n",
       "      <td>296.5</td>\n",
       "      <td>3.67</td>\n",
       "      <td>74.600000</td>\n",
       "      <td>3.82</td>\n",
       "      <td>14.662857</td>\n",
       "      <td>2.714286</td>\n",
       "      <td>26.242857</td>\n",
       "      <td>6.814286</td>\n",
       "      <td>30.6</td>\n",
       "      <td>22.2</td>\n",
       "      <td>0.5</td>\n",
       "      <td>3</td>\n",
       "    </tr>\n",
       "    <tr>\n",
       "      <th>933</th>\n",
       "      <td>933</td>\n",
       "      <td>sj</td>\n",
       "      <td>2008</td>\n",
       "      <td>15</td>\n",
       "      <td>-0.155200</td>\n",
       "      <td>-0.052750</td>\n",
       "      <td>0.137757</td>\n",
       "      <td>0.141214</td>\n",
       "      <td>16.96</td>\n",
       "      <td>297.460000</td>\n",
       "      <td>297.564286</td>\n",
       "      <td>292.732857</td>\n",
       "      <td>299.4</td>\n",
       "      <td>295.8</td>\n",
       "      <td>35.00</td>\n",
       "      <td>75.027143</td>\n",
       "      <td>16.96</td>\n",
       "      <td>14.184286</td>\n",
       "      <td>2.185714</td>\n",
       "      <td>25.000000</td>\n",
       "      <td>5.714286</td>\n",
       "      <td>29.4</td>\n",
       "      <td>21.7</td>\n",
       "      <td>30.7</td>\n",
       "      <td>1</td>\n",
       "    </tr>\n",
       "    <tr>\n",
       "      <th>934</th>\n",
       "      <td>934</td>\n",
       "      <td>sj</td>\n",
       "      <td>2008</td>\n",
       "      <td>16</td>\n",
       "      <td>0.001800</td>\n",
       "      <td>0.068075</td>\n",
       "      <td>0.203900</td>\n",
       "      <td>0.209843</td>\n",
       "      <td>0.00</td>\n",
       "      <td>297.630000</td>\n",
       "      <td>297.778571</td>\n",
       "      <td>292.274286</td>\n",
       "      <td>299.7</td>\n",
       "      <td>295.9</td>\n",
       "      <td>4.82</td>\n",
       "      <td>72.285714</td>\n",
       "      <td>0.00</td>\n",
       "      <td>13.858571</td>\n",
       "      <td>2.785714</td>\n",
       "      <td>25.314286</td>\n",
       "      <td>6.242857</td>\n",
       "      <td>29.4</td>\n",
       "      <td>21.7</td>\n",
       "      <td>11.2</td>\n",
       "      <td>3</td>\n",
       "    </tr>\n",
       "    <tr>\n",
       "      <th>935</th>\n",
       "      <td>935</td>\n",
       "      <td>sj</td>\n",
       "      <td>2008</td>\n",
       "      <td>17</td>\n",
       "      <td>-0.037000</td>\n",
       "      <td>-0.010367</td>\n",
       "      <td>0.077314</td>\n",
       "      <td>0.090586</td>\n",
       "      <td>0.00</td>\n",
       "      <td>298.672857</td>\n",
       "      <td>298.692857</td>\n",
       "      <td>294.280000</td>\n",
       "      <td>300.9</td>\n",
       "      <td>295.9</td>\n",
       "      <td>2.17</td>\n",
       "      <td>76.960000</td>\n",
       "      <td>0.00</td>\n",
       "      <td>15.671429</td>\n",
       "      <td>3.957143</td>\n",
       "      <td>27.042857</td>\n",
       "      <td>7.514286</td>\n",
       "      <td>31.7</td>\n",
       "      <td>23.3</td>\n",
       "      <td>0.3</td>\n",
       "      <td>5</td>\n",
       "    </tr>\n",
       "  </tbody>\n",
       "</table>\n",
       "<p>936 rows × 25 columns</p>\n",
       "</div>"
      ],
      "text/plain": [
       "     index city  year  ...  station_min_temp_c  station_precip_mm  total_cases\n",
       "0        0   sj  1990  ...                20.0               16.0            4\n",
       "1        1   sj  1990  ...                22.2                8.6            5\n",
       "2        2   sj  1990  ...                22.8               41.4            4\n",
       "3        3   sj  1990  ...                23.3                4.0            3\n",
       "4        4   sj  1990  ...                23.9                5.8            6\n",
       "..     ...  ...   ...  ...                 ...                ...          ...\n",
       "931    931   sj  2008  ...                21.1                1.8            4\n",
       "932    932   sj  2008  ...                22.2                0.5            3\n",
       "933    933   sj  2008  ...                21.7               30.7            1\n",
       "934    934   sj  2008  ...                21.7               11.2            3\n",
       "935    935   sj  2008  ...                23.3                0.3            5\n",
       "\n",
       "[936 rows x 25 columns]"
      ]
     },
     "execution_count": 909,
     "metadata": {},
     "output_type": "execute_result"
    }
   ],
   "source": [
    "train_sj"
   ]
  },
  {
   "cell_type": "markdown",
   "metadata": {
    "id": "i82SqTPDRPr3"
   },
   "source": [
    "A continuación llega el momento de la selección de variables para poder llevar a cabo nuestros modelos de ML. Para considerar estas variables he tenido en cuenta los resultados obtenidos en la práctica 1 y además la matriz de correlaciones que he hecho anteriormente. La matriz de correlaciones que se ha realizado anteriormente por separada nos brinda mucha información adicional, ya que se realiza la correlación con el número total de casos y podemos ver qué variables están más correlacionadas con nuestra target.\n",
    "\n",
    "Tras tener en cuenta diferentes criterios, se puede ver fácilmente que en la matriz de correlación, las variables que están más correlacionadas con el número de casos para San Juan son:\n",
    "\n",
    "- Reanalysis_dew_point_temp_k\n",
    "- Reanalysis_specific_humidity_g_per_kg\n",
    "- station_avg_temp_c\n",
    "- station_min_temp_c\n",
    "\n",
    "En la matriz anterior de San Juan se puede ver perfectamente que estas variables son las que más relación guardan con la variable target y además también tienen sentido con los resultados obtenidos en la práctica 1 a través de los métodos de selección de variables."
   ]
  },
  {
   "cell_type": "code",
   "execution_count": 910,
   "metadata": {
    "colab": {
     "base_uri": "https://localhost:8080/",
     "height": 54
    },
    "id": "bMXKQkRwdsLK",
    "outputId": "4c8ae1f6-0600-4bd2-c592-d7cff26e6dbc"
   },
   "outputs": [
    {
     "data": {
      "application/vnd.google.colaboratory.intrinsic+json": {
       "type": "string"
      },
      "text/plain": [
       "\"['reanalysis_specific_humidity_g_per_kg', 'reanalysis_dew_point_temp_k', 'reanalysis_max_air_temp_k', \\n                 'station_avg_temp_c','reanalysis_relative_humidity_percent', 'precipitation_amt_mm']\""
      ]
     },
     "execution_count": 910,
     "metadata": {},
     "output_type": "execute_result"
    }
   ],
   "source": [
    "selected_features_sj = ['reanalysis_dew_point_temp_k', 'reanalysis_specific_humidity_g_per_kg',\n",
    "                 'station_avg_temp_c', 'station_min_temp_c']\n",
    "                 \n",
    "\n",
    "'''['reanalysis_specific_humidity_g_per_kg', 'reanalysis_dew_point_temp_k', \n",
    "                 'station_avg_temp_c', 'station_min_temp_c']'''\n",
    "\n",
    "'''['reanalysis_specific_humidity_g_per_kg', 'reanalysis_dew_point_temp_k', 'reanalysis_max_air_temp_k', \n",
    "                 'station_avg_temp_c','reanalysis_relative_humidity_percent', 'precipitation_amt_mm']'''\n",
    "                 \n"
   ]
  },
  {
   "cell_type": "code",
   "execution_count": 911,
   "metadata": {
    "id": "qIsCf1eadsPn"
   },
   "outputs": [],
   "source": [
    "F_train_sj=train_sj[selected_features_sj]\n",
    "F_test_sj=test_sj[selected_features_sj]"
   ]
  },
  {
   "cell_type": "markdown",
   "metadata": {
    "id": "B79A1Lrcfnis"
   },
   "source": [
    "Normalizamos el dataset de San Juan tras filtrar solo las variables elegidas anteriormente"
   ]
  },
  {
   "cell_type": "code",
   "execution_count": 912,
   "metadata": {
    "colab": {
     "base_uri": "https://localhost:8080/",
     "height": 424
    },
    "id": "LHgneoUZdgyB",
    "outputId": "bc3e756f-8a01-4393-cfe8-5ee125a94d50"
   },
   "outputs": [
    {
     "data": {
      "text/html": [
       "<div>\n",
       "<style scoped>\n",
       "    .dataframe tbody tr th:only-of-type {\n",
       "        vertical-align: middle;\n",
       "    }\n",
       "\n",
       "    .dataframe tbody tr th {\n",
       "        vertical-align: top;\n",
       "    }\n",
       "\n",
       "    .dataframe thead th {\n",
       "        text-align: right;\n",
       "    }\n",
       "</style>\n",
       "<table border=\"1\" class=\"dataframe\">\n",
       "  <thead>\n",
       "    <tr style=\"text-align: right;\">\n",
       "      <th></th>\n",
       "      <th>reanalysis_dew_point_temp_k</th>\n",
       "      <th>reanalysis_specific_humidity_g_per_kg</th>\n",
       "      <th>station_avg_temp_c</th>\n",
       "      <th>station_min_temp_c</th>\n",
       "      <th>total_cases</th>\n",
       "    </tr>\n",
       "  </thead>\n",
       "  <tbody>\n",
       "    <tr>\n",
       "      <th>0</th>\n",
       "      <td>0.339933</td>\n",
       "      <td>0.297392</td>\n",
       "      <td>0.359684</td>\n",
       "      <td>0.282051</td>\n",
       "      <td>4</td>\n",
       "    </tr>\n",
       "    <tr>\n",
       "      <th>1</th>\n",
       "      <td>0.528474</td>\n",
       "      <td>0.473460</td>\n",
       "      <td>0.535573</td>\n",
       "      <td>0.564103</td>\n",
       "      <td>5</td>\n",
       "    </tr>\n",
       "    <tr>\n",
       "      <th>2</th>\n",
       "      <td>0.710356</td>\n",
       "      <td>0.664509</td>\n",
       "      <td>0.535573</td>\n",
       "      <td>0.641026</td>\n",
       "      <td>4</td>\n",
       "    </tr>\n",
       "    <tr>\n",
       "      <th>3</th>\n",
       "      <td>0.695111</td>\n",
       "      <td>0.641761</td>\n",
       "      <td>0.640316</td>\n",
       "      <td>0.705128</td>\n",
       "      <td>3</td>\n",
       "    </tr>\n",
       "    <tr>\n",
       "      <th>4</th>\n",
       "      <td>0.757841</td>\n",
       "      <td>0.711300</td>\n",
       "      <td>0.843874</td>\n",
       "      <td>0.782051</td>\n",
       "      <td>6</td>\n",
       "    </tr>\n",
       "    <tr>\n",
       "      <th>...</th>\n",
       "      <td>...</td>\n",
       "      <td>...</td>\n",
       "      <td>...</td>\n",
       "      <td>...</td>\n",
       "      <td>...</td>\n",
       "    </tr>\n",
       "    <tr>\n",
       "      <th>931</th>\n",
       "      <td>0.300859</td>\n",
       "      <td>0.249676</td>\n",
       "      <td>0.304348</td>\n",
       "      <td>0.423077</td>\n",
       "      <td>4</td>\n",
       "    </tr>\n",
       "    <tr>\n",
       "      <th>932</th>\n",
       "      <td>0.440687</td>\n",
       "      <td>0.381542</td>\n",
       "      <td>0.470356</td>\n",
       "      <td>0.564103</td>\n",
       "      <td>3</td>\n",
       "    </tr>\n",
       "    <tr>\n",
       "      <th>933</th>\n",
       "      <td>0.379008</td>\n",
       "      <td>0.319586</td>\n",
       "      <td>0.298419</td>\n",
       "      <td>0.500000</td>\n",
       "      <td>1</td>\n",
       "    </tr>\n",
       "    <tr>\n",
       "      <th>934</th>\n",
       "      <td>0.322762</td>\n",
       "      <td>0.277418</td>\n",
       "      <td>0.341897</td>\n",
       "      <td>0.500000</td>\n",
       "      <td>3</td>\n",
       "    </tr>\n",
       "    <tr>\n",
       "      <th>935</th>\n",
       "      <td>0.568775</td>\n",
       "      <td>0.512114</td>\n",
       "      <td>0.581028</td>\n",
       "      <td>0.705128</td>\n",
       "      <td>5</td>\n",
       "    </tr>\n",
       "  </tbody>\n",
       "</table>\n",
       "<p>936 rows × 5 columns</p>\n",
       "</div>"
      ],
      "text/plain": [
       "     reanalysis_dew_point_temp_k  ...  total_cases\n",
       "0                       0.339933  ...            4\n",
       "1                       0.528474  ...            5\n",
       "2                       0.710356  ...            4\n",
       "3                       0.695111  ...            3\n",
       "4                       0.757841  ...            6\n",
       "..                           ...  ...          ...\n",
       "931                     0.300859  ...            4\n",
       "932                     0.440687  ...            3\n",
       "933                     0.379008  ...            1\n",
       "934                     0.322762  ...            3\n",
       "935                     0.568775  ...            5\n",
       "\n",
       "[936 rows x 5 columns]"
      ]
     },
     "execution_count": 912,
     "metadata": {},
     "output_type": "execute_result"
    }
   ],
   "source": [
    "from sklearn.preprocessing import MinMaxScaler\n",
    "# performin min-max scaling each continuous feature column to the range [0, 1]\n",
    "cols_train_sj= F_train_sj.columns\n",
    "cols_test_sj= F_test_sj.columns\n",
    "\n",
    "scaler = MinMaxScaler()\n",
    "X_train_sj = scaler.fit_transform(F_train_sj)\n",
    "X_test_sj = scaler.transform(F_test_sj)\n",
    "X_train_sj = pd.DataFrame(X_train_sj, columns=cols_train_sj)\n",
    "X_test_sj = pd.DataFrame(X_test_sj, columns=cols_test_sj)\n",
    "#y_train_sj = train_sj['total_cases']\n",
    "X_train_sj=pd.concat([X_train_sj, train_sj['total_cases']], axis=1,)\n",
    "X_train_sj"
   ]
  },
  {
   "cell_type": "markdown",
   "metadata": {
    "id": "zeuNAWAZfsGg"
   },
   "source": [
    "De forma similar, procedemos a realizar el análisis de las variables de iquito.\n",
    "Las siguientes variables también se pueden ver, facilmente en el mapa de correlaciones anterior, que están bastante correlacionadas con la variable target. Además, si unimos nuestra matriz de correlación anterior con las conclusiones extraidas de la práctica 1, obtenemos las variables que se muestran a continuación.\n",
    "\n",
    "Además, también se han probado con diferentes grupos de variables, combinandolas con los resultados obtenidos en la práctica 1 pero tras analizarlo con la matriz de correlación anterior, los mejores resultados se muestran a continuación"
   ]
  },
  {
   "cell_type": "code",
   "execution_count": 913,
   "metadata": {
    "id": "selsO41Mdg0y"
   },
   "outputs": [],
   "source": [
    "selected_features_iq = ['reanalysis_dew_point_temp_k', 'reanalysis_min_air_temp_k', 'reanalysis_specific_humidity_g_per_kg', 'station_min_temp_c' ]\n",
    "\n",
    "'''['reanalysis_specific_humidity_g_per_kg', 'reanalysis_dew_point_temp_k', \n",
    "                 'station_avg_temp_c', 'station_min_temp_c']'''\n",
    "\n",
    "F_train_iq=train_iq[selected_features_iq]\n",
    "F_test_iq=test_iq[selected_features_iq]"
   ]
  },
  {
   "cell_type": "code",
   "execution_count": 914,
   "metadata": {
    "colab": {
     "base_uri": "https://localhost:8080/",
     "height": 424
    },
    "id": "Jp_mODj3d8hr",
    "outputId": "2f3d55d5-26e8-4b61-c1dc-347a7e329ff8"
   },
   "outputs": [
    {
     "data": {
      "text/html": [
       "<div>\n",
       "<style scoped>\n",
       "    .dataframe tbody tr th:only-of-type {\n",
       "        vertical-align: middle;\n",
       "    }\n",
       "\n",
       "    .dataframe tbody tr th {\n",
       "        vertical-align: top;\n",
       "    }\n",
       "\n",
       "    .dataframe thead th {\n",
       "        text-align: right;\n",
       "    }\n",
       "</style>\n",
       "<table border=\"1\" class=\"dataframe\">\n",
       "  <thead>\n",
       "    <tr style=\"text-align: right;\">\n",
       "      <th></th>\n",
       "      <th>reanalysis_dew_point_temp_k</th>\n",
       "      <th>reanalysis_min_air_temp_k</th>\n",
       "      <th>reanalysis_specific_humidity_g_per_kg</th>\n",
       "      <th>station_min_temp_c</th>\n",
       "      <th>total_cases</th>\n",
       "    </tr>\n",
       "  </thead>\n",
       "  <tbody>\n",
       "    <tr>\n",
       "      <th>0</th>\n",
       "      <td>0.609431</td>\n",
       "      <td>0.681319</td>\n",
       "      <td>0.543713</td>\n",
       "      <td>0.631579</td>\n",
       "      <td>0</td>\n",
       "    </tr>\n",
       "    <tr>\n",
       "      <th>1</th>\n",
       "      <td>0.630275</td>\n",
       "      <td>0.461538</td>\n",
       "      <td>0.569033</td>\n",
       "      <td>0.642105</td>\n",
       "      <td>0</td>\n",
       "    </tr>\n",
       "    <tr>\n",
       "      <th>2</th>\n",
       "      <td>0.661883</td>\n",
       "      <td>0.626374</td>\n",
       "      <td>0.599829</td>\n",
       "      <td>0.631579</td>\n",
       "      <td>0</td>\n",
       "    </tr>\n",
       "    <tr>\n",
       "      <th>3</th>\n",
       "      <td>0.323936</td>\n",
       "      <td>0.186813</td>\n",
       "      <td>0.277844</td>\n",
       "      <td>0.000000</td>\n",
       "      <td>0</td>\n",
       "    </tr>\n",
       "    <tr>\n",
       "      <th>4</th>\n",
       "      <td>0.462669</td>\n",
       "      <td>0.505495</td>\n",
       "      <td>0.399145</td>\n",
       "      <td>0.463158</td>\n",
       "      <td>0</td>\n",
       "    </tr>\n",
       "    <tr>\n",
       "      <th>...</th>\n",
       "      <td>...</td>\n",
       "      <td>...</td>\n",
       "      <td>...</td>\n",
       "      <td>...</td>\n",
       "      <td>...</td>\n",
       "    </tr>\n",
       "    <tr>\n",
       "      <th>515</th>\n",
       "      <td>0.805741</td>\n",
       "      <td>0.835165</td>\n",
       "      <td>0.763388</td>\n",
       "      <td>0.810526</td>\n",
       "      <td>5</td>\n",
       "    </tr>\n",
       "    <tr>\n",
       "      <th>516</th>\n",
       "      <td>0.761148</td>\n",
       "      <td>0.549451</td>\n",
       "      <td>0.713601</td>\n",
       "      <td>0.736842</td>\n",
       "      <td>8</td>\n",
       "    </tr>\n",
       "    <tr>\n",
       "      <th>517</th>\n",
       "      <td>0.647360</td>\n",
       "      <td>0.604396</td>\n",
       "      <td>0.586484</td>\n",
       "      <td>0.473684</td>\n",
       "      <td>1</td>\n",
       "    </tr>\n",
       "    <tr>\n",
       "      <th>518</th>\n",
       "      <td>0.626175</td>\n",
       "      <td>0.549451</td>\n",
       "      <td>0.563388</td>\n",
       "      <td>0.663158</td>\n",
       "      <td>1</td>\n",
       "    </tr>\n",
       "    <tr>\n",
       "      <th>519</th>\n",
       "      <td>0.683923</td>\n",
       "      <td>0.593407</td>\n",
       "      <td>0.628058</td>\n",
       "      <td>0.789474</td>\n",
       "      <td>4</td>\n",
       "    </tr>\n",
       "  </tbody>\n",
       "</table>\n",
       "<p>520 rows × 5 columns</p>\n",
       "</div>"
      ],
      "text/plain": [
       "     reanalysis_dew_point_temp_k  ...  total_cases\n",
       "0                       0.609431  ...            0\n",
       "1                       0.630275  ...            0\n",
       "2                       0.661883  ...            0\n",
       "3                       0.323936  ...            0\n",
       "4                       0.462669  ...            0\n",
       "..                           ...  ...          ...\n",
       "515                     0.805741  ...            5\n",
       "516                     0.761148  ...            8\n",
       "517                     0.647360  ...            1\n",
       "518                     0.626175  ...            1\n",
       "519                     0.683923  ...            4\n",
       "\n",
       "[520 rows x 5 columns]"
      ]
     },
     "execution_count": 914,
     "metadata": {},
     "output_type": "execute_result"
    }
   ],
   "source": [
    "cols_train_iq= F_train_iq.columns\n",
    "cols_test_iq= F_test_iq.columns\n",
    "\n",
    "scaler = MinMaxScaler()\n",
    "X_train_iq = scaler.fit_transform(F_train_iq)\n",
    "X_test_iq = scaler.transform(F_test_iq)\n",
    "X_train_iq = pd.DataFrame(X_train_iq, columns=cols_train_iq)\n",
    "X_test_iq = pd.DataFrame(X_test_iq, columns=cols_test_iq)\n",
    "#y_train_iq = train_sj['total_cases']\n",
    "X_train_iq=pd.concat([X_train_iq, train_iq['total_cases']], axis=1,)\n",
    "X_train_iq"
   ]
  },
  {
   "cell_type": "markdown",
   "metadata": {
    "id": "GZlCLZ-GgRxo"
   },
   "source": [
    "A continuación cargamos todos los modelos que queremos probar. Lo mejor es ir probando de modelos más sencillos a más complejos para ver cómo es la evolución de los diferentes resultados que obtenemos.\n",
    "\n",
    "En mi caso, tras probar con todos ellos, el que mejor me salía eran las regresiones lineales por lo que en la evaluación final solo he dejado este modelo para reducir el tiempo de ejecución y de testeo, ya que al ejecutar todos, el tiempo de ejecución es muy grande."
   ]
  },
  {
   "cell_type": "code",
   "execution_count": 915,
   "metadata": {
    "id": "afUJZ3aud8kL"
   },
   "outputs": [],
   "source": [
    "from sklearn.tree import DecisionTreeRegressor\n",
    "dtr = DecisionTreeRegressor()\n",
    "\n",
    "from sklearn.ensemble import RandomForestRegressor\n",
    "rfr = RandomForestRegressor()\n",
    "\n",
    "from sklearn.ensemble import GradientBoostingRegressor\n",
    "gbr = GradientBoostingRegressor()\n",
    "\n",
    "from sklearn.linear_model import LinearRegression\n",
    "lr = Pipeline(steps=[(\"lr\",LinearRegression())\n",
    "                          ]\n",
    "                   )\n",
    "\n",
    "from sklearn.linear_model import Ridge\n",
    "ridge = Pipeline(steps=[\n",
    "                            (\"ridge\",Ridge())\n",
    "                          ]\n",
    "                   )\n",
    "\n",
    "from sklearn.linear_model import Lasso\n",
    "lasso = Pipeline(steps=[\n",
    "                            (\"lasso\",Lasso())\n",
    "                          ]\n",
    "                   )\n",
    "\n",
    "from sklearn.linear_model import ElasticNet\n",
    "en = Pipeline(steps=[\n",
    "                            (\"en\",ElasticNet())\n",
    "                          ]\n",
    "                   )\n",
    "\n",
    "from sklearn.neighbors import KNeighborsRegressor\n",
    "knr = Pipeline(steps=[\n",
    "                            (\"knr\",KNeighborsRegressor())\n",
    "                          ]\n",
    "                   )\n",
    "\n",
    "from sklearn.neighbors import RadiusNeighborsRegressor\n",
    "rnr = Pipeline(steps=[\n",
    "                            (\"rnr\",RadiusNeighborsRegressor())\n",
    "                          ]\n",
    "                   )\n",
    "\n",
    "from sklearn.svm import SVR\n",
    "svr = Pipeline(steps=[\n",
    "                            (\"svr\",SVR())\n",
    "                          ]\n",
    "                   )\n",
    "\n",
    "from sklearn.svm import LinearSVR\n",
    "lsvr= Pipeline(steps=[\n",
    "                            (\"lsvr\",LinearSVR())\n",
    "                          ]\n",
    "                   )"
   ]
  },
  {
   "cell_type": "markdown",
   "metadata": {
    "id": "ueEM44UogoB5"
   },
   "source": [
    "A continuación cargamos el Grid. En el grid tenemos que poner todos los hiperparámetros que queremos probar. En mi caso, he puesto un rango bastante amplio de hiperparámetros pero tras probar, he visto que el modelo que mejores resultados me salía era la regresión lineal, por lo que finalmente solo he ejecutado la regresión lineal y sus variaciones de lasso y ridge (que previenen overfitting)."
   ]
  },
  {
   "cell_type": "code",
   "execution_count": 916,
   "metadata": {
    "id": "RXQYlrqDd8nS"
   },
   "outputs": [],
   "source": [
    "grid_lsvr={\"lsvr__tol\":[0.001,0.0001], \"lsvr__C\": [0.1, 5.0, 50.0]}\n",
    "\n",
    "\n",
    "grid_dtr = {\"max_depth\":list(range(3,20)) # Profundidades de 1 a 10\n",
    "              }\n",
    "\n",
    "grid_rfr = {\"n_estimators\": [20,30,70,80,100], \n",
    "                     \n",
    "                     \"max_depth\": [10,15,20,50,80,120], \n",
    "                      \n",
    "                     \"max_features\": [\"sqrt\", 3, 4] \n",
    "                     }\n",
    "\n",
    "\n",
    "grid_gbr = {\"loss\": [\"ls\"],\n",
    "                          \"learning_rate\": [0.05, 0.8, 0.1,1.0, 0.9], \n",
    "                          \n",
    "                          \"n_estimators\": [3,5,10,12,15,20,25,40,30,50,60,70,80,90, 100], \n",
    "                          \n",
    "                          \"max_depth\": [20,25,30,50,60,70,80], \n",
    "                          \n",
    "                          \"subsample\": [0.8, 0.5, 1], \n",
    "                          \n",
    "                          \"max_features\": [\"sqrt\", 5, 10,3, 15,20], \n",
    "                          }\n",
    "\n",
    "\n",
    "grid_ridge= {'ridge__alpha': [1, 0.1, 0.01, 0.001,0.05,0.5,2,5,10,6,7,8,9]}\n",
    "grid_lasso= {'lasso__alpha': [1, 0.1, 0.01, 0.001,0.05,0.5,2,5,10,6,7,8,9]}\n",
    "grid_en ={'en__alpha': [1, 0.1, 0.01, 0.001,0.05,0.5],\n",
    "          'en__l1_ratio': [1, 0.1, 0.01, 0.001]}\n",
    "\n",
    "\n",
    "grid_knr = {\"knr__n_neighbors\": [3,5,7,9,11,13,15], \n",
    "                  \"knr__weights\": [\"uniform\",\"distance\"]  \n",
    "                  }\n",
    "\n",
    "grid_rnr={'rnr__weights': [\"uniform\",\"distance\"],\n",
    "          'rnr__radius': [1, 0.1, 1.5]}\n",
    "\n",
    "\n",
    "grid_svr={\"svr__C\": [1.0, 5.0],\n",
    "            \"svr__kernel\": [\"poly\"],\n",
    "            \"svr__gamma\": [0.001, 1, 10.0]\n",
    "           }"
   ]
  },
  {
   "cell_type": "markdown",
   "metadata": {
    "id": "cx3D_ldXg2wT"
   },
   "source": [
    "A continuación llamamos al grid search. Es decir, vamos a buscar todos los hiperparametros que hemos metido antes en los diferentes modelos, también aplicando k folds con 10 folds y teniendo el MAE como métrica de scoring)"
   ]
  },
  {
   "cell_type": "code",
   "execution_count": 917,
   "metadata": {
    "id": "eZRftD_Gd8pO"
   },
   "outputs": [],
   "source": [
    "from sklearn.model_selection import GridSearchCV\n",
    "\n",
    "gs_lsvr=GridSearchCV(lsvr,\n",
    "                    grid_lsvr,\n",
    "                    cv=10, \n",
    "                    scoring=\"neg_mean_absolute_error\", \n",
    "                    verbose=1, \n",
    "                    n_jobs=-1)\n",
    "\n",
    "gs_lr=GridSearchCV(lr,\n",
    "                    param_grid={},\n",
    "                    cv=10, \n",
    "                    scoring=\"neg_mean_absolute_error\", \n",
    "                    verbose=1, \n",
    "                    n_jobs=-1)\n",
    "\n",
    "gs_dtr= GridSearchCV(dtr, \n",
    "                    grid_dtr, \n",
    "                    cv=10, \n",
    "                    scoring=\"neg_mean_absolute_error\", \n",
    "                    verbose=1, \n",
    "                    n_jobs=-1)\n",
    "\n",
    "gs_rfr= GridSearchCV(rfr, \n",
    "                    grid_rfr, \n",
    "                    cv=10, \n",
    "                    scoring=\"neg_mean_absolute_error\", \n",
    "                    verbose=1, \n",
    "                    n_jobs=-1)\n",
    "\n",
    "gs_gbr= GridSearchCV(gbr, \n",
    "                    grid_gbr, \n",
    "                    cv=10, \n",
    "                    scoring=\"neg_mean_absolute_error\", \n",
    "                    verbose=1, \n",
    "                    n_jobs=-1)\n",
    "\n",
    "gs_ridge= GridSearchCV(ridge, \n",
    "                    grid_ridge, \n",
    "                    cv=10, \n",
    "                    scoring=\"neg_mean_absolute_error\", \n",
    "                    verbose=1, \n",
    "                    n_jobs=-1)\n",
    "\n",
    "gs_lasso= GridSearchCV(lasso, \n",
    "                    grid_lasso, \n",
    "                    cv=10, \n",
    "                    scoring=\"neg_mean_absolute_error\", \n",
    "                    verbose=1, \n",
    "                    n_jobs=-1)\n",
    "\n",
    "gs_en= GridSearchCV(en, \n",
    "                    grid_en, \n",
    "                    cv=10, \n",
    "                    scoring=\"neg_mean_absolute_error\", \n",
    "                    verbose=1, \n",
    "                    n_jobs=-1)\n",
    "\n",
    "gs_knr= GridSearchCV(knr, \n",
    "                    grid_knr, \n",
    "                    cv=10, \n",
    "                    scoring=\"neg_mean_absolute_error\", \n",
    "                    verbose=1, \n",
    "                    n_jobs=-1)\n",
    "\n",
    "gs_rnr= GridSearchCV(rnr, \n",
    "                    grid_rnr, \n",
    "                    cv=10, \n",
    "                    scoring=\"neg_mean_absolute_error\", \n",
    "                    verbose=1, \n",
    "                    n_jobs=-1)\n",
    "\n",
    "gs_svr= GridSearchCV(svr, \n",
    "                    grid_svr, \n",
    "                    cv=10, \n",
    "                    scoring=\"neg_mean_absolute_error\", \n",
    "                    verbose=1, \n",
    "                    n_jobs=-1)"
   ]
  },
  {
   "cell_type": "markdown",
   "metadata": {
    "id": "50nDp_8PhEiN"
   },
   "source": [
    "Como he mencionado anteriormente, ya que el tiempo de ejecución es muy grande, al ver en la primera ejecución que los mejores resultados son obtenidos con una regresión lineal, quedo con solo probar ese modelo en adelante para reducir el tiempo de ejecución.\n",
    "\n",
    "Probé a ejecutar también con decision tree, random forest, gradient boosting, etc. pero con el que mejor resultados obtenia era la regresión lineal."
   ]
  },
  {
   "cell_type": "code",
   "execution_count": 918,
   "metadata": {
    "id": "odjnt7J4d8rd"
   },
   "outputs": [],
   "source": [
    "'''todos_los_grid_searchs_r = {\"gs_lr\": gs_lr,\n",
    "                            \"gs_dtr\":gs_dtr,\n",
    "                          \"gs_rfr\":gs_rfr,\n",
    "                          \"gs_gbr\":gs_gbr,\n",
    "                          \"gs_ridge\":gs_ridge,\n",
    "                          \"gs_lasso\":gs_lasso,\n",
    "                          \"gs_en\":gs_en,\n",
    "                          \"gs_knr\":gs_knr,\n",
    "                          \"gs_rnr\":gs_rnr,\n",
    "                          \"gs_svr\":gs_svr,\n",
    "                          \"gs_lsvr\": gs_lsvr,\n",
    "                           }\n",
    "                           '''\n",
    "\n",
    "todos_los_grid_searchs_r = {\"gs_lr\": gs_lr,\n",
    "                          \"gs_ridge\":gs_ridge,\n",
    "                          \"gs_lasso\":gs_lasso,\n",
    "                           }"
   ]
  },
  {
   "cell_type": "markdown",
   "metadata": {
    "id": "peOJFWlOhWAY"
   },
   "source": [
    "Ejecutamos San Juan en primer lugar. Entrenamos nuestro modelo con el .fit "
   ]
  },
  {
   "cell_type": "code",
   "execution_count": 919,
   "metadata": {
    "id": "lJMlebi8d8uM"
   },
   "outputs": [],
   "source": [
    "from sklearn.model_selection import train_test_split\n",
    "sj_train_X, sj_test_X, sj_train_y, sj_test_y = train_test_split(\n",
    "                                        X_train_sj.drop(columns = \"total_cases\"),\n",
    "                                        X_train_sj['total_cases'],\n",
    "                                        test_size=0.25,\n",
    "                                        random_state = 123\n",
    "                                    )"
   ]
  },
  {
   "cell_type": "code",
   "execution_count": 920,
   "metadata": {
    "id": "NkxO3c9wd8wu"
   },
   "outputs": [],
   "source": [
    "sj_train_X.reset_index(drop = True, inplace = True)\n",
    "sj_test_X.reset_index(drop = True, inplace = True)\n",
    "sj_train_y.reset_index(drop = True, inplace = True)\n",
    "sj_test_y.reset_index(drop = True, inplace = True)"
   ]
  },
  {
   "cell_type": "code",
   "execution_count": 921,
   "metadata": {
    "colab": {
     "base_uri": "https://localhost:8080/"
    },
    "id": "cuByxPA0efbR",
    "outputId": "cc2b1720-1ba6-442d-cd68-5a5bd644015a"
   },
   "outputs": [
    {
     "name": "stdout",
     "output_type": "stream",
     "text": [
      "Haciendo Grid Search de gs_lr...\n",
      "Fitting 10 folds for each of 1 candidates, totalling 10 fits\n",
      "Haciendo Grid Search de gs_ridge...\n",
      "Fitting 10 folds for each of 13 candidates, totalling 130 fits\n",
      "Haciendo Grid Search de gs_lasso...\n",
      "Fitting 10 folds for each of 13 candidates, totalling 130 fits\n"
     ]
    },
    {
     "name": "stderr",
     "output_type": "stream",
     "text": [
      "/usr/local/lib/python3.7/dist-packages/sklearn/linear_model/_coordinate_descent.py:648: ConvergenceWarning:\n",
      "\n",
      "Objective did not converge. You might want to increase the number of iterations, check the scale of the features or consider increasing regularisation. Duality gap: 3.519e+05, tolerance: 1.697e+02\n",
      "\n"
     ]
    }
   ],
   "source": [
    "for nombre, grid_search in todos_los_grid_searchs_r.items():\n",
    "    print(\"Haciendo Grid Search de %s...\" % nombre)\n",
    "    grid_search.fit(sj_train_X, sj_train_y)"
   ]
  },
  {
   "cell_type": "markdown",
   "metadata": {
    "id": "DjD_5VbkhdIs"
   },
   "source": [
    "Después de entrenar nuestro modelo con .fit vemos el modelo que mejor score ha obtenido. En este caso es el modelo de regresión de lineal"
   ]
  },
  {
   "cell_type": "code",
   "execution_count": 922,
   "metadata": {
    "colab": {
     "base_uri": "https://localhost:8080/"
    },
    "id": "46FtaiuOefdo",
    "outputId": "160db83f-6811-40a9-a78a-9d83fce1033f"
   },
   "outputs": [
    {
     "data": {
      "text/plain": [
       "[('gs_lr', -26.075010001425632),\n",
       " ('gs_ridge', -26.076182340521406),\n",
       " ('gs_lasso', -26.078537270024178)]"
      ]
     },
     "execution_count": 922,
     "metadata": {},
     "output_type": "execute_result"
    }
   ],
   "source": [
    "mejor_score_de_cada_gridsearch_reg_sj = [(nombre_modelo, grid_search.best_score_) # Generamos una tupla\n",
    "                                  for nombre_modelo, grid_search           # por cada par clave-valor\n",
    "                                  in todos_los_grid_searchs_r.items()]       # del diccionario\n",
    "\n",
    "mejor_score_de_cada_gridsearch_reg_sj"
   ]
  },
  {
   "cell_type": "code",
   "execution_count": 923,
   "metadata": {
    "colab": {
     "base_uri": "https://localhost:8080/",
     "height": 144
    },
    "id": "5q9_ugeFefgb",
    "outputId": "912628f1-ad81-4faf-c546-e857fe611c4a"
   },
   "outputs": [
    {
     "data": {
      "text/html": [
       "<div>\n",
       "<style scoped>\n",
       "    .dataframe tbody tr th:only-of-type {\n",
       "        vertical-align: middle;\n",
       "    }\n",
       "\n",
       "    .dataframe tbody tr th {\n",
       "        vertical-align: top;\n",
       "    }\n",
       "\n",
       "    .dataframe thead th {\n",
       "        text-align: right;\n",
       "    }\n",
       "</style>\n",
       "<table border=\"1\" class=\"dataframe\">\n",
       "  <thead>\n",
       "    <tr style=\"text-align: right;\">\n",
       "      <th></th>\n",
       "      <th>GridSearchCV</th>\n",
       "      <th>Mejor score</th>\n",
       "    </tr>\n",
       "  </thead>\n",
       "  <tbody>\n",
       "    <tr>\n",
       "      <th>0</th>\n",
       "      <td>gs_lr</td>\n",
       "      <td>-26.075010</td>\n",
       "    </tr>\n",
       "    <tr>\n",
       "      <th>1</th>\n",
       "      <td>gs_ridge</td>\n",
       "      <td>-26.076182</td>\n",
       "    </tr>\n",
       "    <tr>\n",
       "      <th>2</th>\n",
       "      <td>gs_lasso</td>\n",
       "      <td>-26.078537</td>\n",
       "    </tr>\n",
       "  </tbody>\n",
       "</table>\n",
       "</div>"
      ],
      "text/plain": [
       "  GridSearchCV  Mejor score\n",
       "0        gs_lr   -26.075010\n",
       "1     gs_ridge   -26.076182\n",
       "2     gs_lasso   -26.078537"
      ]
     },
     "execution_count": 923,
     "metadata": {},
     "output_type": "execute_result"
    }
   ],
   "source": [
    "mejor_score_de_cada_gridsearch_df_r_sj = pd.DataFrame(mejor_score_de_cada_gridsearch_reg_sj,\n",
    "                                                 columns=[\"GridSearchCV\", \"Mejor score\"])\n",
    "\n",
    "mejor_score_de_cada_gridsearch_df_ordenado_r_sj = (mejor_score_de_cada_gridsearch_df_r_sj\n",
    "                                              .sort_values(by=\"Mejor score\", ascending=False)\n",
    "                                             )\n",
    "\n",
    "mejor_score_de_cada_gridsearch_df_ordenado_r_sj"
   ]
  },
  {
   "cell_type": "code",
   "execution_count": 924,
   "metadata": {
    "id": "OBgw6YvYefi0"
   },
   "outputs": [],
   "source": [
    "mejor_gridsearch_r_sj = todos_los_grid_searchs_r[\"gs_lr\"]"
   ]
  },
  {
   "cell_type": "code",
   "execution_count": 925,
   "metadata": {
    "colab": {
     "base_uri": "https://localhost:8080/"
    },
    "id": "e2PfuVCweflS",
    "outputId": "42899675-c079-4122-bc5c-bb32d14f1db1"
   },
   "outputs": [
    {
     "data": {
      "text/plain": [
       "GridSearchCV(cv=10, estimator=Pipeline(steps=[('lr', LinearRegression())]),\n",
       "             n_jobs=-1, param_grid={}, scoring='neg_mean_absolute_error',\n",
       "             verbose=1)"
      ]
     },
     "execution_count": 925,
     "metadata": {},
     "output_type": "execute_result"
    }
   ],
   "source": [
    "mejor_gridsearch_r_sj"
   ]
  },
  {
   "cell_type": "code",
   "execution_count": 926,
   "metadata": {
    "colab": {
     "base_uri": "https://localhost:8080/"
    },
    "id": "n_-QgCBwefnw",
    "outputId": "4dc8bafa-9814-45fc-d5fe-f82e087c156d"
   },
   "outputs": [
    {
     "data": {
      "text/plain": [
       "{'lr': LinearRegression(),\n",
       " 'lr__copy_X': True,\n",
       " 'lr__fit_intercept': True,\n",
       " 'lr__n_jobs': None,\n",
       " 'lr__normalize': 'deprecated',\n",
       " 'lr__positive': False,\n",
       " 'memory': None,\n",
       " 'steps': [('lr', LinearRegression())],\n",
       " 'verbose': False}"
      ]
     },
     "execution_count": 926,
     "metadata": {},
     "output_type": "execute_result"
    }
   ],
   "source": [
    "mejor_pipeline_r_sj = mejor_gridsearch_r_sj.best_estimator_\n",
    "\n",
    "mejor_pipeline_r_sj.get_params()"
   ]
  },
  {
   "cell_type": "code",
   "execution_count": 927,
   "metadata": {
    "id": "sBO48p1ldTXg"
   },
   "outputs": [],
   "source": [
    "from sklearn.metrics import mean_absolute_error\n",
    "from sklearn.metrics import mean_squared_error\n",
    "mse = mean_squared_error(y_true=sj_test_y,\n",
    "                         y_pred=mejor_pipeline_r_sj.predict(sj_test_X))\n",
    "\n",
    "mae = mean_absolute_error(y_true=sj_test_y,\n",
    "                         y_pred=mejor_pipeline_r_sj.predict(sj_test_X))\n",
    "\n",
    "rmse = np.sqrt(mse)\n"
   ]
  },
  {
   "cell_type": "markdown",
   "metadata": {
    "id": "orpuhTmylmzB"
   },
   "source": [
    "Realizamos la predicción a continuación para San Juan"
   ]
  },
  {
   "cell_type": "code",
   "execution_count": 928,
   "metadata": {
    "id": "f4uCoC1Rewxo"
   },
   "outputs": [],
   "source": [
    "predic_sj=mejor_pipeline_r_sj.predict(sj_test_X)"
   ]
  },
  {
   "cell_type": "markdown",
   "metadata": {
    "id": "BBtoTnughv0n"
   },
   "source": [
    "Calculamos las métricas de error"
   ]
  },
  {
   "cell_type": "code",
   "execution_count": 929,
   "metadata": {
    "colab": {
     "base_uri": "https://localhost:8080/"
    },
    "id": "C8kp-0ryew0S",
    "outputId": "1618ea2b-d352-4d4b-8ad0-8b7a5c2aa0fa"
   },
   "outputs": [
    {
     "name": "stdout",
     "output_type": "stream",
     "text": [
      "MSE: 3199.316100463813\n",
      "MAE: 30.682594732984818\n",
      "RMSE: 56.56249729691762\n"
     ]
    }
   ],
   "source": [
    "print(\"MSE: \" + str(mse))\n",
    "print(\"MAE: \" +  str(mae))\n",
    "print(\"RMSE: \" +  str(rmse))"
   ]
  },
  {
   "cell_type": "markdown",
   "metadata": {
    "id": "GV3O_ep0hyYk"
   },
   "source": [
    "A continuación visualizamos las predicciones"
   ]
  },
  {
   "cell_type": "code",
   "execution_count": 930,
   "metadata": {
    "colab": {
     "base_uri": "https://localhost:8080/",
     "height": 562
    },
    "id": "hSek4j8sew2s",
    "outputId": "b7ac0a69-0b98-49ba-851b-7645686ddfef"
   },
   "outputs": [
    {
     "name": "stderr",
     "output_type": "stream",
     "text": [
      "/usr/local/lib/python3.7/dist-packages/IPython/core/interactiveshell.py:2822: FutureWarning:\n",
      "\n",
      "arrays to stack must be passed as a \"sequence\" type such as list or tuple. Support for non-sequence iterables such as generators is deprecated as of NumPy 1.16 and will raise an error in the future.\n",
      "\n"
     ]
    },
    {
     "data": {
      "image/png": "[encoded data removed]",
      "text/plain": [
       "<Figure size 1440x576 with 1 Axes>"
      ]
     },
     "metadata": {
      "needs_background": "light"
     },
     "output_type": "display_data"
    }
   ],
   "source": [
    "import numpy as np\n",
    "plt.figure(figsize=(20,8))\n",
    "xx = np.stack(i for i in range(sj_test_y.shape[0]))\n",
    "plt.plot(xx, sj_test_y, c='r', label='data',marker='o')\n",
    "plt.plot(xx, predic_sj, c='g', label='prediction',marker='o')\n",
    "plt.axis('tight')\n",
    "plt.legend()\n",
    "\n",
    "\n",
    "plt.show()"
   ]
  },
  {
   "cell_type": "markdown",
   "metadata": {
    "id": "lRZe4v1Lh1l1"
   },
   "source": [
    "Ahora, vamos a proceder a hacer lo mismo que hicimos para San Juan pero en este caso para iquito"
   ]
  },
  {
   "cell_type": "code",
   "execution_count": 931,
   "metadata": {
    "id": "gm6KfIU0ew69"
   },
   "outputs": [],
   "source": [
    "from sklearn.model_selection import train_test_split\n",
    "iq_train_X, iq_test_X, iq_train_y, iq_test_y = train_test_split(\n",
    "                                        X_train_iq.drop(columns = \"total_cases\"),\n",
    "                                        X_train_iq['total_cases'],\n",
    "                                        test_size=0.25,\n",
    "                                        random_state = 123\n",
    "                                    )"
   ]
  },
  {
   "cell_type": "code",
   "execution_count": 932,
   "metadata": {
    "id": "xHG09pUPew9l"
   },
   "outputs": [],
   "source": [
    "iq_train_X.reset_index(drop = True, inplace = True)\n",
    "iq_test_X.reset_index(drop = True, inplace = True)\n",
    "iq_train_y.reset_index(drop = True, inplace = True)\n",
    "iq_test_y.reset_index(drop = True, inplace = True)"
   ]
  },
  {
   "cell_type": "markdown",
   "metadata": {
    "id": "jnCrOxE2h-2z"
   },
   "source": [
    "Entrenamos nuestros modelos"
   ]
  },
  {
   "cell_type": "code",
   "execution_count": 933,
   "metadata": {
    "colab": {
     "base_uri": "https://localhost:8080/"
    },
    "id": "PAqKagKzfRnb",
    "outputId": "7b6db4c3-40ce-4c2b-8a7a-1ee346303b5f"
   },
   "outputs": [
    {
     "name": "stdout",
     "output_type": "stream",
     "text": [
      "Haciendo Grid Search de gs_lr...\n",
      "Fitting 10 folds for each of 1 candidates, totalling 10 fits\n",
      "Haciendo Grid Search de gs_ridge...\n",
      "Fitting 10 folds for each of 13 candidates, totalling 130 fits\n",
      "Haciendo Grid Search de gs_lasso...\n",
      "Fitting 10 folds for each of 13 candidates, totalling 130 fits\n"
     ]
    },
    {
     "name": "stderr",
     "output_type": "stream",
     "text": [
      "/usr/local/lib/python3.7/dist-packages/sklearn/linear_model/_coordinate_descent.py:648: ConvergenceWarning:\n",
      "\n",
      "Objective did not converge. You might want to increase the number of iterations, check the scale of the features or consider increasing regularisation. Duality gap: 2.430e+02, tolerance: 5.367e+00\n",
      "\n"
     ]
    }
   ],
   "source": [
    "for nombre, grid_search in todos_los_grid_searchs_r.items():\n",
    "    print(\"Haciendo Grid Search de %s...\" % nombre)\n",
    "    grid_search.fit(iq_train_X, iq_train_y)"
   ]
  },
  {
   "cell_type": "code",
   "execution_count": 934,
   "metadata": {
    "colab": {
     "base_uri": "https://localhost:8080/"
    },
    "id": "hrGbifA-fRp2",
    "outputId": "ccc2b982-264e-4016-c69e-3a8d4dc81a75"
   },
   "outputs": [
    {
     "data": {
      "text/plain": [
       "[('gs_lr', -6.937078136340024),\n",
       " ('gs_ridge', -6.936593738949571),\n",
       " ('gs_lasso', -6.944185539922692)]"
      ]
     },
     "execution_count": 934,
     "metadata": {},
     "output_type": "execute_result"
    }
   ],
   "source": [
    "mejor_score_de_cada_gridsearch_reg_iq = [(nombre_modelo, grid_search.best_score_) # Generamos una tupla\n",
    "                                  for nombre_modelo, grid_search           # por cada par clave-valor\n",
    "                                  in todos_los_grid_searchs_r.items()]       # del diccionario\n",
    "\n",
    "mejor_score_de_cada_gridsearch_reg_iq"
   ]
  },
  {
   "cell_type": "code",
   "execution_count": 935,
   "metadata": {
    "colab": {
     "base_uri": "https://localhost:8080/",
     "height": 144
    },
    "id": "FQ5e0-1-fRsT",
    "outputId": "a90e7048-3009-4317-a9df-8e37892cc2b9"
   },
   "outputs": [
    {
     "data": {
      "text/html": [
       "<div>\n",
       "<style scoped>\n",
       "    .dataframe tbody tr th:only-of-type {\n",
       "        vertical-align: middle;\n",
       "    }\n",
       "\n",
       "    .dataframe tbody tr th {\n",
       "        vertical-align: top;\n",
       "    }\n",
       "\n",
       "    .dataframe thead th {\n",
       "        text-align: right;\n",
       "    }\n",
       "</style>\n",
       "<table border=\"1\" class=\"dataframe\">\n",
       "  <thead>\n",
       "    <tr style=\"text-align: right;\">\n",
       "      <th></th>\n",
       "      <th>GridSearchCV</th>\n",
       "      <th>Mejor score</th>\n",
       "    </tr>\n",
       "  </thead>\n",
       "  <tbody>\n",
       "    <tr>\n",
       "      <th>1</th>\n",
       "      <td>gs_ridge</td>\n",
       "      <td>-6.936594</td>\n",
       "    </tr>\n",
       "    <tr>\n",
       "      <th>0</th>\n",
       "      <td>gs_lr</td>\n",
       "      <td>-6.937078</td>\n",
       "    </tr>\n",
       "    <tr>\n",
       "      <th>2</th>\n",
       "      <td>gs_lasso</td>\n",
       "      <td>-6.944186</td>\n",
       "    </tr>\n",
       "  </tbody>\n",
       "</table>\n",
       "</div>"
      ],
      "text/plain": [
       "  GridSearchCV  Mejor score\n",
       "1     gs_ridge    -6.936594\n",
       "0        gs_lr    -6.937078\n",
       "2     gs_lasso    -6.944186"
      ]
     },
     "execution_count": 935,
     "metadata": {},
     "output_type": "execute_result"
    }
   ],
   "source": [
    "mejor_score_de_cada_gridsearch_df_r_iq = pd.DataFrame(mejor_score_de_cada_gridsearch_reg_iq,\n",
    "                                                 columns=[\"GridSearchCV\", \"Mejor score\"])\n",
    "\n",
    "mejor_score_de_cada_gridsearch_df_ordenado_r_iq = (mejor_score_de_cada_gridsearch_df_r_iq\n",
    "                                              .sort_values(by=\"Mejor score\", ascending=False)\n",
    "                                             )\n",
    "\n",
    "mejor_score_de_cada_gridsearch_df_ordenado_r_iq"
   ]
  },
  {
   "cell_type": "markdown",
   "metadata": {
    "id": "eZQu-6iAiECM"
   },
   "source": [
    "En este caso el mejor modelo obtenido es el de ridge"
   ]
  },
  {
   "cell_type": "code",
   "execution_count": 936,
   "metadata": {
    "id": "gkQ3icp8fRui"
   },
   "outputs": [],
   "source": [
    "mejor_gridsearch_r_iq = todos_los_grid_searchs_r[\"gs_ridge\"]"
   ]
  },
  {
   "cell_type": "code",
   "execution_count": 937,
   "metadata": {
    "colab": {
     "base_uri": "https://localhost:8080/"
    },
    "id": "KBjVeLt2fRxE",
    "outputId": "920c1bce-237c-4a0a-ccfa-0da636479338"
   },
   "outputs": [
    {
     "data": {
      "text/plain": [
       "GridSearchCV(cv=10, estimator=Pipeline(steps=[('ridge', Ridge())]), n_jobs=-1,\n",
       "             param_grid={'ridge__alpha': [1, 0.1, 0.01, 0.001, 0.05, 0.5, 2, 5,\n",
       "                                          10, 6, 7, 8, 9]},\n",
       "             scoring='neg_mean_absolute_error', verbose=1)"
      ]
     },
     "execution_count": 937,
     "metadata": {},
     "output_type": "execute_result"
    }
   ],
   "source": [
    "mejor_gridsearch_r_iq"
   ]
  },
  {
   "cell_type": "code",
   "execution_count": 938,
   "metadata": {
    "colab": {
     "base_uri": "https://localhost:8080/"
    },
    "id": "X4kJVeqHfRz2",
    "outputId": "b770de84-9778-42a0-d47d-4aa10b23fb19"
   },
   "outputs": [
    {
     "data": {
      "text/plain": [
       "{'memory': None,\n",
       " 'ridge': Ridge(alpha=10),\n",
       " 'ridge__alpha': 10,\n",
       " 'ridge__copy_X': True,\n",
       " 'ridge__fit_intercept': True,\n",
       " 'ridge__max_iter': None,\n",
       " 'ridge__normalize': 'deprecated',\n",
       " 'ridge__positive': False,\n",
       " 'ridge__random_state': None,\n",
       " 'ridge__solver': 'auto',\n",
       " 'ridge__tol': 0.001,\n",
       " 'steps': [('ridge', Ridge(alpha=10))],\n",
       " 'verbose': False}"
      ]
     },
     "execution_count": 938,
     "metadata": {},
     "output_type": "execute_result"
    }
   ],
   "source": [
    "mejor_pipeline_r_iq = mejor_gridsearch_r_iq.best_estimator_\n",
    "\n",
    "mejor_pipeline_r_iq.get_params()"
   ]
  },
  {
   "cell_type": "code",
   "execution_count": 939,
   "metadata": {
    "id": "Zg4OQNUsfR3p"
   },
   "outputs": [],
   "source": [
    "from sklearn.metrics import mean_absolute_error\n",
    "from sklearn.metrics import mean_squared_error\n",
    "mse = mean_squared_error(y_true=iq_test_y,\n",
    "                         y_pred=mejor_pipeline_r_iq.predict(iq_test_X))\n",
    "\n",
    "mae = mean_absolute_error(y_true=iq_test_y,\n",
    "                         y_pred=mejor_pipeline_r_iq.predict(iq_test_X))\n",
    "\n",
    "rmse = np.sqrt(mse)"
   ]
  },
  {
   "cell_type": "markdown",
   "metadata": {
    "id": "25qD2oUiiIqZ"
   },
   "source": [
    "Realizamos la predicción"
   ]
  },
  {
   "cell_type": "code",
   "execution_count": 940,
   "metadata": {
    "id": "uBP2cVw9fR7l"
   },
   "outputs": [],
   "source": [
    "predic_iq=mejor_pipeline_r_iq.predict(iq_test_X)"
   ]
  },
  {
   "cell_type": "markdown",
   "metadata": {
    "id": "d9r6zP8hiKOt"
   },
   "source": [
    "Calculamos los errores"
   ]
  },
  {
   "cell_type": "code",
   "execution_count": 941,
   "metadata": {
    "colab": {
     "base_uri": "https://localhost:8080/"
    },
    "id": "Gi2rX_EufR_M",
    "outputId": "6edd55a7-9b30-4ce9-cbe1-21ba38434736"
   },
   "outputs": [
    {
     "name": "stdout",
     "output_type": "stream",
     "text": [
      "MSE: 45.63408340601492\n",
      "MAE: 5.382982432034935\n",
      "RMSE: 6.755300393469925\n"
     ]
    }
   ],
   "source": [
    "print(\"MSE: \" + str(mse))\n",
    "print(\"MAE: \" +  str(mae))\n",
    "print(\"RMSE: \" +  str(rmse))"
   ]
  },
  {
   "cell_type": "markdown",
   "metadata": {
    "id": "Vqz5n9lqiN0y"
   },
   "source": [
    "Visualizamos las predicciones obtenidas al igual que hicimos con San Juan"
   ]
  },
  {
   "cell_type": "code",
   "execution_count": 942,
   "metadata": {
    "colab": {
     "base_uri": "https://localhost:8080/",
     "height": 564
    },
    "id": "1Ywj0-VvfSBw",
    "outputId": "6266709c-f114-4dec-8729-709a2b90aefc"
   },
   "outputs": [
    {
     "name": "stderr",
     "output_type": "stream",
     "text": [
      "/usr/local/lib/python3.7/dist-packages/IPython/core/interactiveshell.py:2822: FutureWarning:\n",
      "\n",
      "arrays to stack must be passed as a \"sequence\" type such as list or tuple. Support for non-sequence iterables such as generators is deprecated as of NumPy 1.16 and will raise an error in the future.\n",
      "\n"
     ]
    },
    {
     "data": {
      "image/png": "[encoded data removed]",
      "text/plain": [
       "<Figure size 1440x576 with 1 Axes>"
      ]
     },
     "metadata": {
      "needs_background": "light"
     },
     "output_type": "display_data"
    }
   ],
   "source": [
    "import numpy as np\n",
    "plt.figure(figsize=(20,8))\n",
    "xx = np.stack(i for i in range(iq_test_y.shape[0]))\n",
    "plt.plot(xx, iq_test_y, c='r', label='data',marker='o')\n",
    "plt.plot(xx, predic_iq, c='g', label='prediction',marker='o')\n",
    "plt.axis('tight')\n",
    "plt.legend()\n",
    "plt.show()"
   ]
  },
  {
   "cell_type": "markdown",
   "metadata": {
    "id": "HTzjoiekRyni"
   },
   "source": [
    "Procedemos a general el resultado final para ponerlo todo en un mismo excel y poder subirlo a la plataforma de DrivenData"
   ]
  },
  {
   "cell_type": "code",
   "execution_count": 943,
   "metadata": {
    "id": "wc7XtJZ4fSHm"
   },
   "outputs": [],
   "source": [
    "predic_iq = mejor_pipeline_r_iq.predict(iq_test_X)\n",
    "y_pred_iq = mejor_pipeline_r_iq.predict(X_test_iq)"
   ]
  },
  {
   "cell_type": "code",
   "execution_count": 944,
   "metadata": {
    "id": "dpmCqnvafSKN"
   },
   "outputs": [],
   "source": [
    "y_pred_sj = mejor_pipeline_r_sj.predict(X_test_sj)\n",
    "y_pred_iq = mejor_pipeline_r_iq.predict(X_test_iq)"
   ]
  },
  {
   "cell_type": "code",
   "execution_count": 945,
   "metadata": {
    "colab": {
     "base_uri": "https://localhost:8080/"
    },
    "id": "uP-rDQU0fSNG",
    "outputId": "dae4358f-915e-429a-c644-82a0b550bff7"
   },
   "outputs": [
    {
     "data": {
      "text/plain": [
       "(416,)"
      ]
     },
     "execution_count": 945,
     "metadata": {},
     "output_type": "execute_result"
    }
   ],
   "source": [
    "y_pred = np.concatenate((y_pred_sj,y_pred_iq), axis = 0)\n",
    "y_pred.shape"
   ]
  },
  {
   "cell_type": "code",
   "execution_count": 946,
   "metadata": {
    "colab": {
     "base_uri": "https://localhost:8080/"
    },
    "id": "SCMfmlnxfSPW",
    "outputId": "b5dc84b2-ef9c-472d-d8d9-0e7f9e944fbe"
   },
   "outputs": [
    {
     "data": {
      "text/plain": [
       "(416,)"
      ]
     },
     "execution_count": 946,
     "metadata": {},
     "output_type": "execute_result"
    }
   ],
   "source": [
    "# round the result and cast to int\n",
    "import numpy as np\n",
    "y = np.rint(y_pred) # round\n",
    "y = y.astype(int) # cast to int\n",
    "res = np.hstack(y)\n",
    "\n",
    "res.shape"
   ]
  },
  {
   "cell_type": "code",
   "execution_count": 947,
   "metadata": {
    "id": "gxFyG0iTfSRm"
   },
   "outputs": [],
   "source": [
    "y_pred_no_neg = res.copy()"
   ]
  },
  {
   "cell_type": "code",
   "execution_count": 948,
   "metadata": {
    "colab": {
     "base_uri": "https://localhost:8080/"
    },
    "id": "1RmkfZ3MfSUV",
    "outputId": "3e14c5dd-9761-456f-edf9-5f757aa4e864"
   },
   "outputs": [
    {
     "data": {
      "text/plain": [
       "(416,)"
      ]
     },
     "execution_count": 948,
     "metadata": {},
     "output_type": "execute_result"
    }
   ],
   "source": [
    "y_pred_no_neg.shape"
   ]
  },
  {
   "cell_type": "markdown",
   "metadata": {
    "id": "GDWuCeHfib0l"
   },
   "source": [
    "Si hay alguna predicción menor a 0 dejamos el valor 0 pues no es posible que sea menor a 0"
   ]
  },
  {
   "cell_type": "code",
   "execution_count": 949,
   "metadata": {
    "colab": {
     "base_uri": "https://localhost:8080/"
    },
    "id": "Hi5tWjj1fSWt",
    "outputId": "af3d8633-2139-4429-f905-102b253f7554"
   },
   "outputs": [
    {
     "data": {
      "text/plain": [
       "array([28, 24, 35, 26, 30, 29, 33, 41, 43, 39, 35, 36, 44, 41, 51, 51, 52,\n",
       "       56, 64, 60, 50, 46, 57, 41, 42, 37, 33, 40, 37, 34, 27, 17, 17, 25,\n",
       "       22, 36, 21, 20, 22, 26, 18, 16, 15, 18, 18, 21, 17, 19, 19, 18, 19,\n",
       "       23, 24, 20, 25, 25, 41, 36, 34, 38, 39, 43, 47, 46, 51, 53, 45, 45,\n",
       "       46, 51, 52, 53, 48, 47, 52, 52, 55, 53, 44, 36, 41, 43, 44, 31, 32,\n",
       "       31, 28, 36, 29, 26, 23, 23, 20, 23, 28, 28, 40, 35, 32, 42, 31, 30,\n",
       "       25, 31, 48, 48, 34, 39, 46, 59, 55, 49, 49, 52, 57, 63, 54, 53, 53,\n",
       "       60, 54, 59, 61, 60, 58, 53, 49, 53, 58, 46, 39, 44, 46, 31, 22, 23,\n",
       "       26, 26, 22, 11, 14, 21, 19, 20, 15, 17, 16, 14, 12, 16, 16, 14, 22,\n",
       "       28, 16, 17, 18, 22, 16, 34, 39, 41, 44, 58, 56, 51, 46, 47, 42, 49,\n",
       "       44, 57, 52, 53, 51, 44, 49, 43, 47, 53, 42, 41, 32, 45, 38, 36, 32,\n",
       "       29, 23, 24, 15, 16, 20, 17, 13, 13, 11, 13, 15, 14, 16, 16, 12, 14,\n",
       "       16, 21, 22, 21, 27, 30, 25, 38, 33, 26, 42, 39, 41, 46, 42, 44, 43,\n",
       "       44, 41, 45, 53, 45, 43, 36, 40, 40, 48, 47, 39, 56, 48, 54, 39, 40,\n",
       "       40, 31, 27, 24, 22, 26, 17, 16, 12, 17, 17, 16, 15, 14, 22, 17, 20,\n",
       "       27, 20, 27, 24, 22,  9,  7,  9,  2,  4,  7,  4,  7,  5,  8,  8,  7,\n",
       "        8,  7,  7,  8,  8, 10, 11,  8,  9, 10, 10, 11, 10,  8,  9,  7,  9,\n",
       "        8,  7,  7,  8,  9,  9, 10,  9,  9,  9,  9,  9,  9,  9,  9, 10,  7,\n",
       "        8,  8,  8,  7,  7,  5,  6,  7,  4,  6,  6,  6,  6,  5,  5,  4,  6,\n",
       "        7,  7,  8,  8,  9, 11,  8,  8,  9,  9,  9, 10, 10,  9,  9, 10,  9,\n",
       "        9,  8,  8,  9, 10,  9,  8,  7,  9,  8,  7,  9,  8, 10, 10,  9,  9,\n",
       "        5,  8,  7,  7,  7,  4,  6,  6,  6,  5,  6,  1,  5,  3,  3,  6,  6,\n",
       "        6,  7,  6,  7,  5, 10,  8, 10,  9,  9, 11, 11, 11, 10, 10, 10, 10,\n",
       "        8,  8, 10,  9, 10,  9, 10,  9, 10, 10, 11, 10, 10,  9, 10,  9,  3,\n",
       "       10,  9,  8,  8,  8,  7,  6,  6])"
      ]
     },
     "execution_count": 949,
     "metadata": {},
     "output_type": "execute_result"
    }
   ],
   "source": [
    "y_pred_no_neg[y_pred < 0] = 0\n",
    "y_pred_no_neg"
   ]
  },
  {
   "cell_type": "markdown",
   "metadata": {
    "id": "-vuWXsPAiinv"
   },
   "source": [
    "A continuación obtenemos nuestro fichero final, que subimos a Driven Data"
   ]
  },
  {
   "cell_type": "code",
   "execution_count": 950,
   "metadata": {
    "colab": {
     "base_uri": "https://localhost:8080/",
     "height": 206
    },
    "id": "HqUug-7mew_a",
    "outputId": "07cb9471-1bc5-4caa-ca8c-3d091be960d9"
   },
   "outputs": [
    {
     "data": {
      "application/javascript": [
       "\n",
       "    async function download(id, filename, size) {\n",
       "      if (!google.colab.kernel.accessAllowed) {\n",
       "        return;\n",
       "      }\n",
       "      const div = document.createElement('div');\n",
       "      const label = document.createElement('label');\n",
       "      label.textContent = `Downloading \"${filename}\": `;\n",
       "      div.appendChild(label);\n",
       "      const progress = document.createElement('progress');\n",
       "      progress.max = size;\n",
       "      div.appendChild(progress);\n",
       "      document.body.appendChild(div);\n",
       "\n",
       "      const buffers = [];\n",
       "      let downloaded = 0;\n",
       "\n",
       "      const channel = await google.colab.kernel.comms.open(id);\n",
       "      // Send a message to notify the kernel that we're ready.\n",
       "      channel.send({})\n",
       "\n",
       "      for await (const message of channel.messages) {\n",
       "        // Send a message to notify the kernel that we're ready.\n",
       "        channel.send({})\n",
       "        if (message.buffers) {\n",
       "          for (const buffer of message.buffers) {\n",
       "            buffers.push(buffer);\n",
       "            downloaded += buffer.byteLength;\n",
       "            progress.value = downloaded;\n",
       "          }\n",
       "        }\n",
       "      }\n",
       "      const blob = new Blob(buffers, {type: 'application/binary'});\n",
       "      const a = document.createElement('a');\n",
       "      a.href = window.URL.createObjectURL(blob);\n",
       "      a.download = filename;\n",
       "      div.appendChild(a);\n",
       "      a.click();\n",
       "      div.remove();\n",
       "    }\n",
       "  "
      ],
      "text/plain": [
       "<IPython.core.display.Javascript object>"
      ]
     },
     "metadata": {},
     "output_type": "display_data"
    },
    {
     "data": {
      "application/javascript": [
       "download(\"download_24a24876-6da3-4db6-bdb7-0f1a8501437c\", \"result.csv\", 5663)"
      ],
      "text/plain": [
       "<IPython.core.display.Javascript object>"
      ]
     },
     "metadata": {},
     "output_type": "display_data"
    },
    {
     "data": {
      "text/html": [
       "<div>\n",
       "<style scoped>\n",
       "    .dataframe tbody tr th:only-of-type {\n",
       "        vertical-align: middle;\n",
       "    }\n",
       "\n",
       "    .dataframe tbody tr th {\n",
       "        vertical-align: top;\n",
       "    }\n",
       "\n",
       "    .dataframe thead th {\n",
       "        text-align: right;\n",
       "    }\n",
       "</style>\n",
       "<table border=\"1\" class=\"dataframe\">\n",
       "  <thead>\n",
       "    <tr style=\"text-align: right;\">\n",
       "      <th></th>\n",
       "      <th>city</th>\n",
       "      <th>year</th>\n",
       "      <th>weekofyear</th>\n",
       "      <th>total_cases</th>\n",
       "    </tr>\n",
       "  </thead>\n",
       "  <tbody>\n",
       "    <tr>\n",
       "      <th>0</th>\n",
       "      <td>sj</td>\n",
       "      <td>2008</td>\n",
       "      <td>18</td>\n",
       "      <td>28</td>\n",
       "    </tr>\n",
       "    <tr>\n",
       "      <th>1</th>\n",
       "      <td>sj</td>\n",
       "      <td>2008</td>\n",
       "      <td>19</td>\n",
       "      <td>24</td>\n",
       "    </tr>\n",
       "    <tr>\n",
       "      <th>2</th>\n",
       "      <td>sj</td>\n",
       "      <td>2008</td>\n",
       "      <td>20</td>\n",
       "      <td>35</td>\n",
       "    </tr>\n",
       "    <tr>\n",
       "      <th>3</th>\n",
       "      <td>sj</td>\n",
       "      <td>2008</td>\n",
       "      <td>21</td>\n",
       "      <td>26</td>\n",
       "    </tr>\n",
       "    <tr>\n",
       "      <th>4</th>\n",
       "      <td>sj</td>\n",
       "      <td>2008</td>\n",
       "      <td>22</td>\n",
       "      <td>30</td>\n",
       "    </tr>\n",
       "  </tbody>\n",
       "</table>\n",
       "</div>"
      ],
      "text/plain": [
       "  city  year  weekofyear  total_cases\n",
       "0   sj  2008          18           28\n",
       "1   sj  2008          19           24\n",
       "2   sj  2008          20           35\n",
       "3   sj  2008          21           26\n",
       "4   sj  2008          22           30"
      ]
     },
     "execution_count": 950,
     "metadata": {},
     "output_type": "execute_result"
    }
   ],
   "source": [
    "# generate output\n",
    "output = pd.DataFrame({ 'city': test['city'], 'year': test['year'], 'weekofyear': test['weekofyear'], \n",
    "                       'total_cases': y_pred_no_neg})\n",
    "\n",
    "\n",
    "from google.colab import files\n",
    "\n",
    "with open('result.csv', 'w') as f:\n",
    "  output.to_csv(f,  index = False)\n",
    "  \n",
    "\n",
    "files.download('result.csv')\n",
    "\n",
    "output.head()\n"
   ]
  },
  {
   "cell_type": "markdown",
   "metadata": {
    "id": "U1F9FtpjlzOH"
   },
   "source": [
    "A continuación podemos ver que el resultado obtenido en DrivenData para DengAI: Predicting Disease Spread es de MAE 25.9519"
   ]
  },
  {
   "cell_type": "markdown",
   "metadata": {
    "id": "RUi_moTukTDZ"
   },
   "source": [
    "![Captura.PNG](data:image/png;base64,iVBORw0KGgoAAAANSUhEUgAAAxEAAAK6CAYAAABGy9H/AAAAAXNSR0IArs4c6QAAAARnQU1BAACxjwv8YQUAAAAJcEhZcwAADsMAAA7DAcdvqGQAAOqYSURBVHhe7P3/c1bHle+PfmryR5C5/mVOKlXnk6po5lQFcqtufDW/yLlVYOfqHsSdGmHXGRHnQ0gurhHHmRLhxOAaHBg8NjAnkX1iDME5EGwi7IAgMMhWDMgQKTEaOZECKBBpbIwSgmRGQhJWsu5avbv307t372+Pnkc8wPtV9bZ59tf+srp7rb27t/6Psek/EQRBEARBEARBUF4hiIAgCIIgCIIgqJAQREAQBEEQBEEQVEgIIiAIgiAIgiAIKiQEERAEQRAEQRAEFRKCCAiCIAiCIAiCCglBBARBEARBEARBhYQgAoIgCIIgCIKgQkIQAUEQBEEQBEFQISGIgCAIgiAIgiCokBBEQBAEQRAEQRBUSAgiIAiCIAiCIAgqJAQREARBEARBEAQVEoIICIIgCIIgCIIKCUEEBEEQBEEQBEGFVJ0gYnKGLo19FKqv/5fUccpR/zXeN+U/H6o5jV7X9XnpcrwulS5TH+8fnfSff7do9PIllZ83L89490NV0nipv7g0MkJHY/Y1RGdGeN9HnnOhu0MyLnjr1qrf62h3ldKlwaBsz1z174cgCJqvqhJEvHfwh/RnX/xePn3pZXr0O7+k9+5y57NiutpLX37YKp+vvE19vuM8MuX+8MHfe/eXryH6pklPDj204U06+r7vOrWv9DK8RN9UdfMyPd3v7ltg9f6EPinl3fSv9KZv/12lYvb1n7/yBr3w3kee69iqobqCqO/YG/TQl+J16dcP6YUR/3Wg/Dq6PSjPb57174cgCJqvqhpE/OXfd9LT3ztD+2NPnd6lF773E/raf3+Z/sIMHH/bQfsv+693P6lv/w9UeTy04Sf05VVSNj+g7Zf8x7qqfhDxMjX909u0J1afvbT9X35CrRt+QP/ZBEBf4vq8C5+ApZdhydmtzsD8MY2qp/FT2W90znYG5fzFTjrq239XyZTrD+jLbEfbO137YnW+TU//cwc91KTti/XQC5do1Hs9UbXrCsqrUQ54P6/r4i9WdVCrd0z4Je0/+CY9zfX/9L+8TUfH/NeC8gtBBARB1VZVg4hczuzIL+mbq7VjIE/d7+s3Eu/T9q9IWbxG+3kQHe16Q5XLQ/vf9xwbV/WDiBxPCMe4Pv82qM+//M4l/zE1rNxBRK+7rxIqUM4miHj4J/fQm4gcAdHkR3TmYEfolH6tK2lKZLXrCsqnj2j/+qAeHnp5xLMfqpYQREAQVG3d+SBCdP2X1KqfMD7aecN/zP2gS2/TQ1wGf7a+ly7J7/F/o6/J7/+Wb0pTTQQRInZw79apNlllGKwNqdZangLlbNYdjX/s339XqUAQodX3alBPysYSHjxUt66gfDJ1+wN6AW+aF1QIIiAIqrZqI4hgmWk8f/YP2oG+D2XK4MvHzHzvGerYLAPB92n7r+PHu6qZIMIEP3z8nrtsbUT1yjCPCpbzPaPiQYTYWKtZ8/ALz36oNjTWS18uWrdQRYQgAoKgaqtmgoixy2foYTXYvEEd457997zep+3/TfIfTGUy282Upr984bJ1rF81E0Tcxc4wgog7oTKCCNbRf5Jzvkf138833Q+6Axox/TqCiIUWgggIgqqt2gki8n5NZfL39Gbn2/S1//59qv9v36fPf+l79J8flX//gL78z2/T/sHkr7Zc6n3bs2jvY7o0+C5t3/yaup4sDP68XOvld6nvun2cRx9do6MH3wzTUt/0Pfpkk/73f39DLxK09SZ1JDmHv36b6mWwNVOZjMxT/RxTg+6GIMJbB5Mz9N7ZM/T0hh9Q/aMv0yf//iy9Z50THPMR9Z3Sx+iy/ou/Ccr60c1v0gtnr2UvRh67THu+00EP8zklu3mNvva9M9Sh7Sa9DD+io/tzLPyUefsn3lYLzWN28TW9sPS90rQ98ynGjlNv0qOq3GQBu2s7P6H99tuosSG1mP3p/UPeN3c1besxlRdEvHcoqKtYm1HKqCuxJ64jOz9yrcAmovnaeuz95AXc87FLLtM3wwXFnfTlr5XuLfaprsP28nTnZbqUZttj79P+H7xBj+pz1ccNHn45vJbo0c1Bnez/dconVOfRtyZq8pfUqup2/g+HvDat8q7Ljste0vvwBslnWlr5HLFRrtfI9qsjYTlK3n1raS79+pf0gu5DVF/1JV3ObCtbDw7Re0mfIJY+Tj51fuIMbeV7h32D6G+4fNR1uJy/00tn0voWo5FfOu2YryN9yw96w89TI4iAIKjaqqEg4vf0wtqg02s949v/Jxr9xZv0MHfuynEQmYFSOnOzjfX5p3q9C7RNuoJO9WN6T5y2R0vnqQFTOnT9+8/+9if0ZsLAN3r2J1Svgh6WM2Cbjj28jh5oZHBLcj7ffOFldWxpKpORmdKU/anK9HKfor5ecVQzHBKvLCcv17nJQUSQRrNd6uAn0ToVbR+KnDN2uZe+ZtWTSA2a/836uhfrk6s50EpwhiP1JZI6s+tazm/6IX1t/ffVv/1laGw0JZi6dIYedfJjnErbTu03S2awz1LEGTBPeNeeiQdcrFq29bjKCyLCxeWrz3jWDKXV1Q3a/5ROr5XmiHRQobT53/xBxDztMgyCbFnlK46s2f7Jv+c8+tre1Xfpy9Zxoa1Zsuvna13+IGK+fWuyzBvW+U87C21anPvJG3T0Oz8slTOn9/N2nbGaDl7zXie0N9PPjF2mF57+fiSfMbuZvEb7nWNMWdv19GcP/4Dz6VmH8/5ZarLONQqDVrstPsz3Tlk/0nfotYh9Kft18v4Xq96gL+vxFEEEBEHVUg0FEaXpCd7zrL+fUP9PvXTmqrugVJ6y9lKrHtQ/75n+Ew5CJ0bCQeMvvtYZf1p4tfSFobhTzwrnY3+fWk8kPGmcnKG+Tv0Vmb9NXvwZ6DI9rQaB6FQmo3BKU8bXjtLLPdmxz1ZBJy+cBx3PT5BGdig4mNn+D3KMDHgdtJXr5D3fIuFJLhtdF3/xD+yYev4I3OjlIdqqr/VJ31PpcU6/HmTr/+nd+NPC8d/TGf002ThcZQUR1/+NvqbP/4uv/YQ6LqUs6rXtIfxDa+/qp7Y/oO3vmW0lRewsbxBRc7buU5lBRDgF0ndeSl2Zt35Nb9D+kTIXplfCLiengrpNWxw/wjah7+Ozyb7vB0HvX25muy5c7loV6FvTFK53W8W2kTuwjMvYdOsxtlmdloe/8240vZMf0Zvf/6F29pM+j63tbf1ZOnOiMwiQOQhp+uczdJTbrM/G33whKOc/+9JrtNX3dkne1L2snfuHud+Lfd669Pnm6HZLk7+n/Vv0fRLadWl62Pfo0f3xB0Kj16/pt0mlQBZBBARB1VJtBRH6iazvPPOk/pNJTwWNzBeOPJ++NOlS13m0g7afTU7fpc7XgmPdp+KiM8ET0OxPmE7pJ54ZbxH6/5X+Uu7lnZbBsqc0pTgK6eW+cEHE6IkOlQ7fFCy3Dl7oT58icemYroesz/+Gzm58MXd4jaSB2VJ6GaYHEaGzxPcp71PFBeooZxAhqilb96rMICJ1vn1KXek8ffJfyv8EcSXsMq/MQwRf/2AevMznM7aV6FtTdZ3rVwdCooc2dNLWg+/Sm5eK/YV726ZVkJ4YAE5xuQR58q8lM/YW6GH5Y6dpfwk9fCjCQUnqBy5mqGNLcM2mQ2V+ZdD09QkPlExd/SW31dS6YmE6EwRB1dZdEkRYr8QzHRRzbNx5MOnK9dTOTJXwOFbmOknTrmyZY71PebXe/E7SVCYja0pTypSA9HI3a07KcWbyOnkf06X+t6lJP9X8vOe78CaN9f8ylGNalcl3evkFKh0bHTRL25OmcthKL8O0IMLYHdtFd/Z9/Kp8EFFrtu7XwgYRZhrRw68mTXfJUiXssoAS6/oG7fl7ufZ8Pp9amb41U94pQ4FkWpBaP3JqJLVPCG36n36Z3XeYBzPez2Mbe3uN85H9JiotiHMVHusLyHMpTx+T72t9CCIgCKq27o4gwv5MYKbjeY1eUH+8zuM8FEnXQjlWk5dSpzIZ5ZnSVG65Z8sMuj9Qf1E4voi2tBhRlZnob7mufPPAC6XRTPPK5ySFT2Ujg6axh3zXSE9fygCfMoUrvyofRNSUrSdqYYOIML9ZT94TVQm7LKCUujZ9Zp4A2asK9a259dEU9fW/Sy98L1gMHVlPI3r4+9Ta5X+KX8imwyf6vnwVszfz9D9X0KnfclUliAgXqeepKwQREARVX3dHEGEG0Tx/vOxqr/7CTbyjrZRjlXeNQq4pHr/QT8xk4aQ1/z2my3qwfzh5ACm33LNlBt1sfbIp/Ws/xdJo7pvDMQ+DMdexK3ANVnr6UgZ4Y6Pz+gvSJq21E0RU1NYTVcypC1VuEBFOMeLyUXPqizrglbBLs3+GLg0O6a9zJejHncEaDk9dj3a/ETzd/9IP6ekTI3QpbVqOTxXqW+cjNY//xBn65tfk2qLve22oWN9RevMab0vF7M2MS3mCY/NWOSngGL06Qkd9dRyql1qT3vYUqSsWgggIgqqtu2NhtXFy/lsn7fF2vEa99E31pIyd2S3xp4yVcqxKTkjaYtOP6MzB7MWmZtApoqRBodxyz5Zn0P1ILwq1lcOBKZTG0El8jbZ669voXdr+lF6QKHPUI9cp5jCkpy/FMe39SeDMJTj1+WTSWjtBRCVtPVnF6ihUuQurWbGvEbE+L5/7/Ze3uY8ZojMj/gW2ShWxS5bn606p8tb1FL35svWVIpF8rUc+T/uDXuroHaH3rqcESRXqWyuj0lqGefffqfVfxN7Mdb5Hj37fVy4l7d+v2wAHjLEF3Z6vO6UrJYjI2ccgiIAgqNqqoSCi1FnHOj0z0OXUX6z6yfyn0qQ5VqzRX/wrPWRexcc+e2l94vFLr9GepCkPkzyYqWskTRNytCFYuJs0iJdX7nlUppPnUaE0hs5aPn2yyVfWxdKenr4Ux8TYy70WRLAqYuupKtO+Uss8PYhQkuDn1Bna+s/y3f/oZ1lNXpu+45l/XxG7fJ+2fyXY//mnztCbI3ZA7gQweZzHqyPUcfDN4O8POJ8uDtLwQ3r6jGeaUIX61orJfDkr5cMY+fq3ygcRucQ28+ih+FuI8KMLfysfk/i9VdesyMOXlHQjiIAgqMZUQ0GEef3sWTRmnjj+7b/SUbvz9SnlqVslHauxkbNqAXHTP+mBO+JYyXfyO2l75+X0Ra18D/VkKseCPSUzz/dh/x9uKq/c8+gOBRHhHOAOdsI8dR1R0qcTrbTneEKenr6UAd44P96FnHlVm0FERWw9VeXZV/h3FrxrG3IEETHJZzh/T2d636UXvvNa+LcxPv8vl6LXr4Rdhn83IMcfYSvoPCrJ52NHRujoiTP09HrzBPz79M1ep3+sUN9aMYVlG58qVqx/S1u/UczezBvyL//Ycf498r+9Mgvg86xdyRFEeP8uSlwIIiAIqrZqJ4gwTphvUDWdZ05HMEmVdKxUB51zbqpfM+HnAPMvRC196cX3BaCyyj2X7lAQEd433wJWv8wi2HzOZHr6cgzw8yqj2gwi5m/rWSrHvkptof77zl8eVioniHB0nR1aZTuuQ1sBuywSGBQ5NkGjZzr9n5GuUN9aOSW3gfL6Dt/X6IrZm3HGy/+aVxFbTDnWXgRvb08QgggIgqqtmgkiwte93qfyKW8pCqhyjpXu6FMWOWcqnGueb8GvkVnoOv85w0VUjpPnV7E0FnmCl6TSNfJ8Sz89fWnOQCVsNNmBimnBgogK2HqmyrCvsP0kLeQu4rglK3gK7d6jAna5wEFE+IQ/FgxWpm+tmMzb1vm+iQjf9Phsqpi9pb/xyqMitpinj8n3mW4EERAEVVu1EURYfzHV/4390lP77K/EJKtyjlWpg5Y/erTn1GXqc+cxZyj8qkreqUxG4SAbf2OTnr8p6uuVBYDxv3KarTsVRFjB5T8ULCdL4V/1zbId+evA5i/hetOXNsCXnow/5H0ynkcFvsO/YEHE/G09W8XtK/wLwr4Fy0rVDCIqYJem/rLe8Lz/y3BBc3WCiMr0rRWT+fsO81wTEf4BRW//WtDezB/Z48BmT+wvUeeRscWML5dN3qCj//IDPfUsvY95tDP9j9ldeu9telR/OABBBARB1dIdDyIuvXeGvqz/mukn5TOnSc4JDy7Bly++T988U/Q79IEq6ViNXb9ET68K0m3rk03fD76M8r0ztF8cLu884tLAXfyb+qWBxH0Kmp4/M3CW41TduSDCDjCbXi3TOQ//0i7n/ZLnj0vprwvV833+Qg+8/vSlO6ajbDPKASrbRu0n3ElrPLQWMIiYn63nUQH7mvw9dYSOFpfz2aRyqkAQcZ0DdmV7nreF87XL8KMKCXn46Bp1vBysy/j8Ux3zfhMhbzATH1pUoG+tiCbfpxe0/ae9af3LzWfozUsp7cP6C9lfPuZztov2Zzdo/3qdrrQxKkUmEP88t7HY24zJGXrv1Jv0qDzA+NsO+nJaH2MePsnf4fG9wZb28Z3ga12mL0MQAUFQtVTVIOIv/77T/5UhkXwRxfqKyCcfzfrqxwy9+bJxHr5H//nv9ScMI5/Zkz9iJNfvpC//IP5UrWKOFTud5rOKj+7/pfru954f/CRYdProy2EajeQJ7lH79XPKK/s8MlOa3Nfr6fkzA+ddFkSw3jthPp3IZbmqg1qV02rXe1D+Yldf297rcbSmeBDXT67lizub5TOe2l6+00EPmcDh5Ut06VLgnJcTRETuw0q10e+8632CfunYa6H9PLTBaj/f+7dovhYqiJivreeSsa/0r5R97b9H/ziZ7ys4JaXV1fu032NDoTrfVv2TsYtPJrwtnK9d9r0a1FFgkyaf3Hd9RZfrw9+nrx0c4Tau8+Kr61+/S1sPvhu5py1TV+bLU36nev59a5rO/DhlHNCK1K0E+561JsamP2mO+9LLalF/Kf/R9pzs8JfRn428Gz7s+rMvsZ3+85v0wgm7fFhiN5Ifrsv9bhsIP0esy1fnW+rG5Lv+6TN0hsfAIJ8JfczktTDQUun4jrG5Xtq++YfBtcRuOt9X62DkOAQREARVS1UNIvLoL/7mNfrmwaGcX3b5mN479RNqUosdU8SD8kP/En/iUynHykylaDqY7MSMXv+I+vp7aav5Moo17SIMAopOZTKyghD79Xp6/orNp43qzgYRInlj9TXP03BXn/+Hs/7pLZM3qOOfS86Urf/89z+hjhH9hkI75+UFEaJ8NvoXf8POtu/valhOe/QcZ/raAgUR87X1fDL2lUPStje8Sft/nfXEPKWuwi8AZeuhzYFjFznf0vzscip8AxY5XpxD+YON4QOGj4In4b66Nn8hOUt8zSAgcc4PNb++NVkf09F/9lwnQZG26Khk09foEgdPodPsXENkHHLfdcruz8Yu0wub/X2ILRnTXnD/TgRrVGzF83dBXHuWBwmpfcz1Edq+Ph7Aq2uJvRq70e0aQQQEQdVSVYKIQPK5RP9n8EIV/euqlgLHxXoKJH9USa457h+AKiYzDUHmFucKfIwzM58vDEGhxj+i9yJ/4Vfm6HO9551K89FUyW762RmZhw1mKclGc60nkE90mnZS8TUIObXQtu77A4YRZUzxKiipH3XdS5dLdWTsomiZz8cu5a9WmzyWMyXMOj9ib6w3LxW/ZnX61tJ44KYxLKuMtugPjOW61+hNcy2pu6qPAfrzuVYeVDnntJnQ7ubbrsflc8TB/Y8O/v7O9BEQBN3XqmIQcY8q4wmwT/hKBnRXCrYO1ZDKfYsJQRAEVUcIIorKOFY5/+CPyPyxIjhW0F0l2DpUQ0IQAUEQVFtCEFFU4VdVfpDvu+rhF17KWYsAQXdQsHWohoQgAoIgqLaEIKIMhd+of/j79OjLvXoOtZnnGkjmR+8/2EkPZ3zhBYJqWbB1qFaEIAKCIKi2hCCiHMkfBdLf4lYOVoYe2txb1rfFIeiOC7YO1YgQREAQBNWWEETMR5NTwRdZTpyhrfq730bbO/WXQqr49R8IWjDB1qE7rEu9wd9h2N57B/8gHgRBEBQKQQQEQRAEQRAEQYWEIAKCIAiCIAiCoEJCEAFBEARBEARBUCEhiIAgCIIgCIIgqJAQREAQBEEQBEEQVEgIIiAIgiAIgiAIKqSKBhHv/WyK/vrYNL1nb78yTY8eukVv2tv09m8emaT/9OokfYL1nzqm6Ol/ux09ZvpjerN7ij7/WnCM6P/smKStQ2b/bdp/bJL++pBP9j35Oqen6BHnmKcH5vR+1r9P09d5m0mP6PNvTNGLFz4uHZOgN7s5XdZ5/yfn5fHTMzQaHjNLe45O0td/Hs3fpZ9zeR25RWeSPo2ZO00ztJXL5c+t4yQNWwejx8XqR9XNFO2/VjpG6cItLqtb1PF7s+2P1PeLW3xstPwePTtbOufGDH1Ttr/B5X7DnOe3CbWN02vS+gmu30eOT9OZ66VjbJ05xcfztR9527qfSJePnaZQ3TPRY1WeeLukb8raDkEQBEEQBBVWZYOInin6xBtOEDE6TY+8eouO2dumZulpdiI/z45j37XbdIn1JjuK4gTv+I113NAt+qtXp2jHpeCYQB/TaOgE/pFGf2+2T9M6OfZC6bjwOuxsNvG1nx4w+wKN3jTXYal02uebNLGT/aF1nEfH/pUd4RPTpWtfYodV8jJcOmb0F3ytg5YDy2Ww43UOLH6REqTkThM78Hy/dRykmOPOcND0CS53O3iL1w+ngR1rNw19pzg/nZyfcFtwfQkazPWVJv5YOk+ldZK+yHl69FwpWPLZRLCNgydznX+foR2HOQiK3NOIbeUgB45nb9Ff2+Unmvq4lBYOyCLX/IMVILLefEsCi2nayvl9etBKNwRBEARBEFRYdyaI0MHBnogjHDi0TWetp/UDt5QjHDk3UeLoTtGLo5592hn37jPyHhM4sI/3um9IolJBxL/aT76DAOGbA/ZxwTbjYKug4vVb1Jf2VDx3mgInP3I/z7m++hHn+s+PR9+avPhGNBDwXt+VuV/vLfq85ewnBxGOnWibiL0Vke1yPSm/tABAbMW9ZqigzJ4eCgKkv3rTeUsBQRAEQRAEFVIVggjrabBIppG4gYA3OPgjHTvhOOMfTtOj8oT9Z7P0nvNkOa7sIMJ+on/p984bAK/Dfpv2HJ6kvz7lTKNxFA0i/kijw5Ln+BuM0XfN24ggoEh9CyHKnSaPkz8oTjmXsRWkJDvv1nHXpunx2D2D69tvOiJvekRhWjl9R0pBTu4gQr8tst/eiCTIMU6//e+Y0oIIE4hIHu1/+46FIAiCIAiCMlX5IIIdwcjcdDVXPxowiDPte8MQf6L/R7r0b7foUT1/XtZNfL1nli55HcCsICJYTxGmy1274XXYfWmKSx3zWim/ktbIeoFQwVP+r//rFP1V1lsIUe40BU7+f7Ly93kpq95oGrzO+9RM+JRefssbkrgzHr9+dM0Jy06rBDA6f7mDCF8gpN8+fHNAv31ICwBSggh5+/DnYXnptxKY0gRBEARBEFS27sx0poRpSqkO+x9u05nzt9TT6sedBcqBsoKIhH1G3mNu0/7OSfqrt4q8iWDdnKWtr0/SunfjbxpGOe9/xXnIfAshyp2mwAF/9O0Z6jjP+jmXEwc1W4eijrLfef+jSn/wZuNj6jg+SV887ebX5+A7iqQ1eBshecwdRKg3IKVgRmn4Fv01bwuDP/6/rJuJHGOUGEQEgcifc+BgAiBZBJ9VpxAEQRAEQVCy7uiaiOj89+Ap/SNnCjrsoaoRRAQOaGSdhke+NMm2Pz/pSWeetBjlTlPcyY+vdUgKIljsgP+5bJ8KruNOKSoeROhg6fVbdMbzZsObDhUwTNGefy9tU28QOm8FgZHWjqSgLimI0NfdYV2jQxanq3UWzrEQBEEQBEFQLt2ZIOLGDK1jp1Q+2RlMTQqmLX2et229YB3n6iY70Bxo+NcoZAcROy6nTGGJOexzdOl8kKbIF6M8SnoT4U2nNzBIUO40eZx8CQyk3K2pP4lBxI1p+jrfZ/+77PgfukV97n59/XXnU9alxNIaBIWPd+YIIm7epg4pQ5kCFR4XBEvuG5twXYm1TSkhiFBfmjo2HQmmjP1532hAEARBEARBmbozQQRrdPAWPWL9/Qe1juD0bNTZU+dGj/lz+bsGXgc8JYhgh1T+noT9dxRE6/7NCio895J1Du66Ap9UEOGcm5jOmLOdotxp8gQRKjCIzv1PDCL0NCa5/ue7ffn9mN58eyry9ypEkbdGnnwph1+OPewJIpxr/ScprytWfeg3CB3W35xQ8uRLyRtE+AMRlV+2B3ylCYIgCIIgqDxVNIgoLvN3Huy//eDK+lsQmV9oqoT0/ey/gZBXE/J3C9LyUq7mkaZalvo7D9UoLwiCIAiCIKiausNBBARBEARBEARBd5sQREAQBEEQBEEQVEgIIiAIgiAIgiAIKiQEERAEQRAEQRAEFRKCCAiCIAiCIAiCCglBBARBEARBEARBhYQgAoIgCIIgCIKgQkIQAUEQBEEQBEFQISGIgCAIgiAIgiCokBBEQBAEQRAEQRBUSAgiIAiCIAiCIAgqJAQREARBEARBEAQVEoIICIIgCIIgCIIKCUEEBEEQBEEQBEGFhCACgiAIgiAIgqBCQhABQRAEQRAEQVAhIYiAIAiCIAiCIKiQEERAEARBEARBEFRICCIgCIIgCIIgCCokBBEQBEEQBEEQBBUSgggIgiAIgiAIggoJQQQEQRAEQRAEQYWEIAKCIAiCIAiCoEJCEAFBEARBEARBUCEhiIAgCIIgCIIgqJAQREAQBEEQBEEQVEgIIiAIgiAIgiAIKiQEERAEQRAEQRAEFRKCCAiCIAiCIAiCCglBBARBEARBEARBhYQgAoIgCIIgCIKgQkIQAUEQBEEQBEFQISGIgCAIgiAIgiCokBBEQBAEQRAEQRBUSAgiIAiCIAiCIAgqJAQREARBEARBEAQVEoIICIIgCIIgCIIKCUEEBEEQBEEQBEGFhCACgiAIgiAIgqBCQhABQRAEQRAEQVAhIYiAIAiCIAiCIKiQEERAEARBEARBEFRICCIgCIIgCIIgCCokBBEQBEEQBEEQBBUSgggIgiAIgiAIggoJQQQEQRAEQRAEQYWEIAKCIAiCIAiCoEJCEAFBEARBEARBUCEhiIAgCIIgCIIgqJD+DwIAAAAAAACAAiCIAAAAAAAAABQCQQQAAAAAAACgEAgiAAAAAAAAAIVAEAEAAAAAAAAoBIIIAAAAAAAAQCEQRAAAAAAAAAAKgSACAAAAAAAAUAgEEQAAAAAAAIBCIIgAAAAAAAAAFAJBBAAAAAAAAKAQCCIAAAAAAAAAhUAQAQAAAAAAACgEgggAAAAAAABAIRBEAAAAAAAAAAqBIAIAAAAAAABQCAQRAAAAAAAAgEIgiAAAAAAAAAAUAkEEAAAAAAAAoBAIIgAAAAAAAACFQBABAAAAAAAAKMQCBxHXqOOJpbT9vP4J7jhjh9fRop39+pePSbp4cCM9WL+UFi1upLbuG3p7FTnfToueOEJj+icAdy0LYctjR2jV4nbq0z/BPLhDfU/fzqW06vA1/atKwE5qjorX+x0dO/tp++J11JF28+s9tL2lkX2JpVTXtJcG9Oa7gnLKtmibq1AbXZD+RFO5IEIKmA0jUcpRvbeDiJFTe6ljcFL/ujvIDCKG99Ky+m3UdZP/PTdLM3PB5qqSp7FODVHHKz00shDpuRu42kO7Dw/RjP7pZaHKLE9a7hcWYlCHc5iDYOzxjk1K2vm5Q04Ygog7ySQNHN5Lp6/qnwvI/RVETFLX043UvG84+Dk7G/z/bqGcskUQUS5iTL5g4W4LItjoN2RE1iFBA1n2im4gdwlZQYTav7Wneg7hhV3U4N4/T2NVwc3mILi53/CU2UT3ZvVk56L+7S3XBSqzWFruZ2o2iCjSt917qH7NVy8IIhyGqP2Rez3wGKbdTfKWfeEfAN75IKKS/UBWECH7W2jfFf3zbgNBhBcEEWnMcT7q7+2BNlcQkbJ/vnivf4cG8ruFPHVS7XoDOanVIOI+6NvSUO3DVy8IIqJUyKkBfu54EFHRfkD8vqwg4i7ucxBEeLkzQcSpYerYupqWyGvk+hXUvPUIXZzShygm6eLhbdS8NJg7t6RlI+0bSHlKIJW7s5dGTppzGunB1r00wNccOW5fZxt1Oa8sZ4aP0KbHV1CdpKVhNbUd7KcJme4xfICaG+zX3aVKkQrafn6SBl5ZF6wV0IYVq7i5G9T3ysbw/nVLV1N7ny8fQbnEKt012uu91P7kyqDcJI/N66md02FIzIthKih3lWZV7t3U93qSszlM+8y1jMxxkq+X1tMyXT5LmjgdffZaCckPdxZXr1GXqefYPSZ5n3N903hUvjtooG8XrTF1597DbWwZZeMyM3yCtlvHL2s7QiN6n3utZU/uor7rwS6F3Jvr5eLgXmptitrWxEBpW93SdbTbnt6m7XTCzhef1zHspNO+P9fTmp3degpSVpmJraQc4+mgIjbja4u+NMfq28GxWznXlIncY7mUZ9LbEH2/4m05q8/g/Ud3RNKxZqc9tUvb7HBW3+Qw1kO7n9JtytzXrXPXlt06t9ul7G9aS23HR/VOJo892vUq93TqOfIAJ6VvK9z3Mun9TlJfkNZHRNMg/eamw8ORt6FJfXBe0oOIjL5HSGyjfiYuHIn0Nw+27ohMn1Fjx+v93K/q/PAxMdvL6OMy27JjJ/4yKDl6E6e2hTZpFI7pkTEgyE+XZbJxMuxK96kjV7tpk54zr+6VtF2oyDgkWG1DyGqPLlwvpT6Ay+JxLmPdv+Wq98i4z+V03OqnGlZS61G5d5DGTB/B/Z3WP6X1Aznq1+7Xpex3D3YnBgkTp3aE9RSodFy+MaifZni8Ddqk/x5Clg+UVR/J5c/k7Rts3L559hqdtnzCII3W1F99fJfkw6wdYT8ido+M+onbVfW4I0FEXdNm6ryi58PNjlJHa3Qa0NjRdbSk9QANjAe/Jy4coDX1q2lfUjuWyq1vpNYDQ4HBzEmnwYbU3EKrxAFS2ya5YFfSorYTNKFOYrjC1jSs40alK+gmO86cluaD+kaqQuMGqyqodT217umnkfFJmrgZ5CVaccH96iQf13n/3CxNjI3SmNchydNB3KDOVj6G02bWJcyMDtFFXUaZeeHzuzY0UsMG7pB10U9Io+Ry83esAfEn2la+9L1nrpygtqaVXN9mUJD8tNCa1rW05fgwjUkZJThiUmax++v6bH6p1AFMnGuPTsWJNM6MsnG5ymVVv5K2nNLHT03yIKXLbYptlzuQNaEtzbLzupmWNfG9TB7UvRtp+fPdNCZlybZ1cR+XU1MLNbd1hOU7wgFa3SO7aECnKW6nszTGA/Wy+nXUaWxsVu4vabsWpE1s+Vku72dLU8oSy8waPLzHRMqMCcvB3Is7pj1rue2xjThpVnWh8xWkOWValJ2W63wPbkP7THuX8hwcLrVBl1gZ5WvLefqMi33dJZvgfmcft7m2k7bN6r5pWKdVt6HUKYrjQ9R1XpcfM9GzgxqkzoOfKXW+kbp0WgZe5Hb5fE+wn5m5PkwXr+o05LZHq17lnvZvRZC/sE9W58T7tsJ9L18nvd9J6guS+4gR7nPqmiRI1GUw3k/tj3MZWP1jUh+cl9QgIqvvydFGY1zppa4ruoykDg/y/Td0h/Yr+alrWF8qR3Y21DXDYzL6uDxt2bGTrCBC4bWlWbbZlbTsWd3/MYFNb6PTCdWQaVeStsfW0Zqvb2Pf4BpNcJ2qfCRtr+g4FG0bqe3RxW6fcsjsJI2Nch0Ee3PVuz3uh7Y/GtxvZpx9BvXAIEhjuo/AuL+z+idvP5Cjfi/somWLV3MQ69irp08p4diWkHcM4mCwtW0v9Y1yHYY24JDZFzEZ9ZFc/kyevsHFaXPSjgdO9YflSuM9tOWRFdR+Qf9Wx1u+BTMxKG1lZemYHPXj2lU1uSNBhJu5mZ5ttIiNJrAtmYMZnzfX9/xSWn4gYSRTlcsVZRuWbFvsdGpXDtByq0IH9qyIX7NvBy167EDwVNrbwIIKigQjmkjFaecpuUHZ5OkgSoOIj/LzUjCISMjXxPH1VlqD/DS8NKR+paHK0htEOPVJ7PQ91kjbTe8XaZzpZeMig0RdQp5lsIsPrHz9Nqt+fGWptjl2O9tDm+zjvPmKXnvi5Mb4GpSrHXztaAdRiSDCWw5z0v64nE3bzVMXLnZaTBCRr2r895NtqW25jD6DGTnQQnUvmvzn6ZtyoOu8MzLwpNd54LToAMkhvz2W6jUoL+u3IshfehBRvBwz+53EviBpO48dPFDHxo7BXdRglWNSH5yX9CDCra+ovedpo5mI/fJ9TBOS/MTa4vgJag3rKL2Py9WWHTspO4i42U1tsbxyfX51KW3q8RVADrtSaWNnajD4GZK0vaLjULRtpLVHF3/7TMFT76U+J8H2FUEa3f5J1Y99f/e3i9s/+fqBHPUrfkPM3rx9ik08iMg9Bi1eT50mYE4guy/yEKmPtPJncvQNMZw2F2eWTm9dSmuO6sAmoQwHXlpRKqdc9eOxlSpRG2sibMNXhcgDhE+usRl8DUe2ucYTqdAgLd77mGMSKjSpgiLbleGnGY9Nzg5Cv9KVV5Lth61oNk9eEtITCxIcYvuT8hVx6hLq2YOUWZZDHOBc022ciWXjklDWGm96GHE4w+3uvQW1zW3YngHZ08FL52eure7vrcfSdfKUmfcYj/3HyyHo1CJ2nFUXLs45ampSQyM1P7WLOqynYl5895NtaW1Z/dsuK0tWGYyd20ttX2+h5UvZTppaglfB4f6EPHnzb3FzmDp3rqflj62kJfU8iDXLq/TsOo/Uz9QQ7W5dQUuWrqNNB623JUxZ9ij3dO3T236cvi1nOZYIruk93rGzuK0kbPelS3ACcimXpDach9QgIrY9mlZVJ948e9JtGJMpL2sD+2hYScvVdIlSHfnz44yjGf1/Zlt27KTsIEJt8+U/oU7y2JWTtpCk7V4bZ8oah5zjUtqjS1L7DClS70m2r0ioY9de3d9Z/ZPvnpn1m2Rvju3EcPfntFs3T16Ca/nSHLGTtPpILX/Gmw7Hdlxc+5VZCzJd6jEZfxrpweYWNdUszGuCvUfaamb9zL9/LEKNBhFphujBV7m+bZEKSjJgi4S0JFVQZLuq6Lgx+ElIiy8PzMSVXtonczzrW7gs5dVtjrwkpKdiQYR8Dcgp2+zOO6ET9ubbuWZCY4uXjUt6WXnTw9iOvvfe3vR4BmRPfcaCCM/9bfKUmfeYXPY/SV0bHDvOqgsX3zlzN+jiuQ7lBNU1cxq80woY37m+bXZe1L/T+wx5YljX1E6nZWqhJlpGCXny5l+jprU00prXh0uBkZuWhPN99TNzdYg61Zz4Rmo9GpR/kj2k2qPcM2aLvvbjlFmOcoyS3pYCkmwlYXtSGtTTt9J2KZf0+6Yz7yDCUyeJcJ5kOsL2czdKduLUkT8//nE0f//vtGXHTuYXRLj2lUIeu3LSFpK0PSkNZY1D/uN87dEl1RaK1ntqOSXUsVzPrkP7d57+yXfPzPpNsjfHdmK4+3ParZtHL0nXssiqj9TyZ7zp8NtOiLqmKctgGlJda4e15sNJd+T4EvEgIq1+5t8/FqH2ggg5lxvtlnOJj5Lj+CrXt82pIPUqLW0ea4JRJVVQ/g7Bxd8AEgc6jXp1q6da5MtL/JWgvCZLGxBjQYQzmBt8r5GzO++ETjhPY01obAa7bFy8r2I1aqpC7N4Z00cEb3qcTlM1fvdtRfTa6vV4S0fy61cmT5l5j3HSKI5orlfJWXXh4j3HEOQ3fH3r4jvXty2Sl6w+w9e+gqddpTJKyFNaXmSfW+fqSahb5ztSpzPF0FN35A15WfboS5f6Covbftx2XLzvzex3Em0labtjfwbPdKbE8svBfIKIPG3UxncvNU3OqiPVXp/v1b80kelMcSL9f5627NiJtwxcu/DZkppKlLJOJkYOu3Jt2JC0vaLjUMZxVnt0SRuj89Z7aMeqjSZNpwnS6Np87B62/frqzu2ffP1AjvqVMTQ2TSzDXmPjIVP+GBQnqy/KrI/U8mdy9A0xIvYr+XePlelQbl++ljoii705b/Z0plz1M7/+sQg1GESYxS2bqcMskJHFiFd6aSDJinyV69vmdkh6UU/bYb1okZkZG6bTg3ajXsGdn36inTGARbdPspPCRm0v/OJrjyS8Gr34ykpO7166qBfozFztpi3y1DbMwyj1nRoOF7fKk93TsrDMGFZWXtjxkIXV9mIcWbDT2lB0YXUpmjYLiGe8C9pSGpZF0LD5WpJmne5cjTVSlxll48IdafNiazHX7CSNXNGL4cKnN3oBY56FrIJvm9tpSr64k1oeLhDmax/dyANUaZGtWajX/GJvWE8zN0dpoG80nP+dp8y8x7hp5N/myYwicVFbRl242OeM9quFbOGTn/Felb9c5xp825y8ZPUZatAziyVl36kdtKrJDqDz9U0RVBqsRePjQ7Rvcwst89T5mn2lhdHRhdWTNNDTTyPGtsQmZEG+uWc59igOFvdbm7pNP3aDBg5spAcbrPwl9G2F+97MfifJVpJtKHxrZNpE0sLqWB88SV1bW6h5T39KUBPgcygU3vp20pqjjUbga9Y9siPMj+rbv77SemIe5KeuXr7mpss9trA6o4/L05ZdO5G/G8O2uvuCtgG55/PyhsOyX2PjxmFR19KLmh/nOjILjqUPHeylkYQFppl25abNkLS9ouOQfVxGe3SZ6qFN0r7tDydc0XaQs95tOx45sJoWWR8VELsa0f/O9hEY235N3aX1T95+IEf9ysJqtpPIhwCebym+sJrTWN4Y5CGrL8pRH2nl709Hho1F7Dc4Nvw4guqXN9PyJssG5Hi2p2Vb0xZWZ9dPko9aDWoyiJBCinxma7F81pArP8mKfJXr2+bpkKKf+gw+2bW9x2rUaj53kIbW44GhJ1VQbLs0COsTdPKpQvPHGmNEPisn88c5+Bjm9IZ5GKXOp9aWPpPGDd/9FFpWXsw91H4+X33iso/LqVAQwcxxR3twY/h5OP+n9VIalo2efxp8kk1/NSJPY43UZXbZuEQ+BSf29Sw7mHof3eynfU/pclK2l/FJTcG3zRdEsGPfZ3++9HH/J17tz/KJ3UQ+A5enzHzH+NI42k3bzXG+cstTFy72OaM8sHNHbWzS97nOCL77+bbF8pLRZ0TKYyW1vsIDjSy6m08Qwdj9g9Rl19VR6vhqtM4b5AtC4edp3TrnAWHPerVOo5Rux97KsEf784vyicDtHDBL/2Tnz9e3Fe57mfR+J8lW0m1ohIM88xnFpE+8xvtgDiKebqQlm622nMC8ggghq41GsD5Fq8pzLw3c7KUtVp317VxB7QPcj5kxINYWc/RxWW3Z12bcz64O8hghn0UNCyCa9nbzOF7GNvtTlXK/pzpoQPs0cTLsytt/MknbhYqNQ/ZxOdqji/vp3ccP6D+0mafeXTuO1on0VVtO6b4i00dgHPvN7J8Ybz+Qo36ljyl9ttpnOy6eIEIoawzyk94XZddHavnn7RtsXPvlwKX06Vbu105e4yB1bckG5PgNJ2jE+lR83K6ZjPpJ8lGrQZWCCABAjAKdIQAAAABALYMgAoCFAkEEAAAAAO4REEQAsFAgiAAAAADAPQKCCAAWCgQRAAAAALhHQBABAAAAAAAAKASCCAAAAAAAAEAhEEQAAAAAAAAACoEgAgAAAAAAAFAIBBEAAAAAAACAQiCIAAAAAAAAABQCQQQAAAAAAACgEAgiAAAAAAAAAIVAEAEAAAAAAAAoBIIIAAAAAAAAQCEQRAAAAAAAAAAKcZcEEdeo44mltP28/lkrjB2hVYvbqU//BNWin7YvXkcdY/pnHlA3C0iNts8FoG/nUlp1+Jr+VSGK2m6lbP18Oy164ggVaWagukz07KDmhqW0aHEjLXtlSG8F1ef+7dO8VLpvwPh8z1DZIGJqiDpe6aGROf27YtyPQcQkDRzeS6ev6p9lU6nr3EkQRNQ2CCIqyj0QRIwdXseOrzi/UVW8rO4SRk7tpY7BSf0rJze7qa1+Ne0eDn7OzAb/vzu428cdBBER7pUgQt2X+6KUvAy8tEL1Vd66V+c3puyL93n3+oOZygYRw3tpWf1m6rqpf5fFJHVtcB3G+zGIGKbdTY3U1l1w4IlRqevcSbKCiCFqf8SphzvVSd2X3A8Drq9fQhCRhAoidvbrX/c7bDtPy5sEHQ3kRerjsQM0on/WLr62cbePO7XSp/n7nQWnBoKIiZMb59/Xyn2/uo5WcXC+b1Rvs5ntoS31LbT8MX/djxxczftaqO7ZHprR20LuU5+j9qYzzbHDWI8gAthkBBG+ekDdLCD3QRDh7ZcQRCSBIKICVNpxqxYJbePupkb6tFop2xoIIvp2NlYmiKhvp/aXVtDyA/EoYqZnGwcIHbTPW/fysHIFtfd0U9vijfGH5fepz1HZIMItRDG8nb000beL1ixtVK92ljStp/a+G/oAh+EDev5nSYHR6AZ9apg6tq6mJbKvfgU1bz1CF6eCUwMm6eLhbdRs7tWykfYNpDwJud5L7U+uDK63uJEebOa0ndfHS9pjBuF0LDq/XcNHaFNLcM+6peuc/Mk53AkMD9Fuc6+G1bTpJOfrZn9pG+dnzStDVnTr3GsqyPuD9UG5LGlaS23HdSNI2+frDJ18L3tyF/VdD3YpJF/cYVyM5IvTfHg4Hn1bTFw4Qtvt8mzdEXmdLQ7Xdi6bvpfW6bR67s2IvbQ2lexl92B3YhAxcWpbmG8jlVdv3XjyMCfpWU/L9LxjSXOX3bcUtWFh9hqdfmVjaIdS320Hdd3O6Y5oUB1ZQqV3PXWOBz9nJN2Pr6C68Px+mjDTBHX9jFztDvNm6jerDuhqD21v1deV8n9MnrqwNp8IB4jUezP2flWmJ3vjNuaQmS5pu8d3hPW+qGEltR7VFaHqoJ9mBvfqOijZQiStvj4hrY2nthuLxH5JBxGv92fYdMF+Sdtu2Pek2ZPgtXW3H2Ly2LrlKNjtUMp2ueQr51vmzCAikhZfm9L95tVr1GX6fO/1yu1fmZz9oK+dZZalQzTYNGlOGs8mqetZky6tsF6ituTr01Q/yzY+8Iq2SXOu7stGTprzJd17aYDvOXLcts9t1GW3zTT7yxqzF2DcyW1LieXtQ6e/oM/hplcc34izqvp/Pi5iy7LNM0Umpd/JYwcxpJysepRz2vt0PzTWQ7ufsvpC6aPs6XdO3yDMDJ+I9OnL2rit8HbV9p1jYw8CC/Vxw7RP20OohPaQu2+9sIsaHtlFA5Gp9zeos03qwWO7wqA5R45bSq3Hnf7VzVNRssYju/1If7az21k6ULAsKkT1g4j6Rmp+iZ0QPZ9zjJ2+1ClP6hqWsSmCSq1r2kydV/SFZkepo5UN13pFPHZ0HS1pPUAD2hGbuHCA1iS9thKDaeVGeXCUZnRFzIwO0UV9rkp7zCAc41Jp5U7i+W4a08maGJR7rqT2C8HvMO3NPMhcDQ6auLCXz1tJy1vWU4fJz2gHn2c7l9F7DbzYSA3P94TO3Mz1Ybqor5e2L5bmKW7M7BisOTAUHD83ywPIZlrWxHk1naPO17KnSx1mUJYrw/m5Xq70UtcV3bDkuge5M9nQTRPBFjW41dWvZSfuRlDmc+wg8GBZ93TpGOLGvWwxd258jII7F3VM2psIX11ZeRjRRTFzRcrYzsMsl91KWvZsqf4C+9xGp03xlWPDbFsDp/rDa9J4D22RwEHbxMAednqd16HymjQsK077moZ13InrMrjJnSjbejPbqkLy9tg6WvP1bdwertHE+GRow+l1EEwxWGMGorlJOv38Cmp4yVqwmXXvcZmnvYLa2MEP6pDzum8d16un07XJsI0RHnjqmth5GQ0KbWZ8lMaMg6EGsHXU2raX+kYnS/m9ymnl+txy6lqYlr49a7kP4DpX5ZHextPbjYOyp7gN2jat4DSc3hm16WL9EqPuZdtzuj0Fx2f1Qzlt3QzO17lsOb/7TP8kdTY4XGqnGaQHEZNcblxGVpnMXDlBbU0r2YbMoCf9VgutaV1LW44P0xjX+YTX4Suzf83bD3rbWY6ydIgHEXo8G9Yn6HYWmfJk14cmbCfGTsf7qf1xq00z6l6t66l1Tz+NSLnd1Mfqvqw1zLMEaNwXNbfQKnlQorYFdbOo7YRV13nszz9mV3/cyWtLOco7gnVOis+RVR/yZDtSh+KIcl+2ynZgr3ZwvhNsx1u2+ewgilVO1/kcLv+JMe5jTdmPD1EXO8+mn5QF/cphDn7GbTHse3XfOjXJwXbQB5YVRGTZmK6PUhsKKL9vHeXAxOoPBNmn6sWxXcUsnX6Wxws9Vk4cX0+LWjqiUw1jeSpG6ng0K+3HHuu0X2T5EYXLokIsQBDBv01jUXDlPcbRXmidDuoa/g7JNSDVQNlhCA6VaL6FBz31I6Tv+aXe11a2g+FF0h4zCMe4vGllY3iJO+ZwAPWlPdgWTRcb6Vb7uOi9AgPTHb1D2j73OmJo8QYeRNbhvb35CtK35qh2lvJw5QAt5/o3Va0cLtexiB3TGD8moZxDfHWVJw+ycDHWeXN5fXUpberRG8ux4RjOfdmhaY44HNKhNdKWc8EGCTJiNtu3ozQ/WuXN6QCTsMvXVybO4JB1b+8AoV65u51uBpF6l/MTFqsJqn5Lb2kMYvcxW1FP+sy10tt4ertxSLDBbJsu2i8x6l5u32Pj2FNC2iL9UF5bN3VrgoiEJGah7ESemEWk06iv7aZXDcyhbQX9ViTA9RIcV7R/zd8PetpZnrJ08AUR0TS74xnjtM3EdiKOqdVHyb2iQYDG15eptuXkRex33vYX5LHq404BW8os7wh5zslRH8pWSlNfpH9ddbgncGC1gyxz/e0HKhG8ZZLPDiIklFMisz20iY/vjDzIKZWVt+/VlBdEuLj17quP+fWt8uDOdsLVegd1XtR2Fao8rL5g/AS1LnYcdHVtt8+L21ASaeORspGtzjqMSPBZRllUiOoHETFj8lSQjbfRJJxjXz+hApUSjJ30a2p57dN+2IqCBdW5ukbupMPNrybaiHxpD7a5A45voAnPmxqi3a0raMnSdbTpYHfpjYmQts+5jhpgPOUxcqCltD0hX9H0eRjrpd1PraXlzey8NKyk5WoqROk63vMj9wrSGr+H0wG5+OoqTx7UeY6taEWOKWrDc5PB1JzHWmhZg0yhaVGvKEv5cupfXq2GnX+wz5emMI8JeVOk1YF2sDed0k/o9JuIUkeafW+//WSUh5CWLpWfjPpNqIO4rUSdxdQ2ntpuHBLSmGnT6t9uWWol9Utu/WbZk3u8JtIPlWHratoL36/5qV3UYT2lzIO6d1L+VFri6Y06rzlsSuE7LtiW1r/67ThfP5irLB2idpKQN9fO3d8qPZ52oh0+s91rk4J7PUG2uYu3y7I/N13RPM6nvBPzI6i6KNOWfOURkuOcXPUh1zEOv/S/geMp+Q6cO6e/cvHdI9d9HZLKyXBzmDp3rqflj62kJfUrgn7avlakrIKySUpzWUFEzjEzck91jXgbVErqe+z7SiAQPsyTB4MmKIjXvQpKI9OfgmPct/je/iIvKeORaj++fJoyLacsKsQ9FkQkNKAMJq700j6Z91jfwvfQDpa30TnpSDCavEGEm588A83M1SHqVPOvG6n1aLQR+/dFr5PUmcsTknl15nyOvN7cfk5PVRKcMvSeH7lXkNb4PaoZRMSPiWDbWIi/bgKCqQ51rR3W3Nl4vlSnpJ8WyhPjUmeUVAYWCXnLUwc0eoRa/19sAw0r6EFWdI5v9r399pNWHkxWulR+Muo3oQ7iaZ2krg3x7d42rklrUyEJacy06ay8+bDPz2NPkeNLxIOI+DERfOU8d4MunutQgVhdM58fpiGdsoIICabD7Rk2FeI7zn+uXVd+O87XD+YqS4eonSTkzS1/93eSLamn3aXtXpsUfPXr21aW/bnpiuZxPuWdmB8hqS7y2JIv7yE5zslZHxIwNOzh/l3SZAI282/1Fjf+BDnEd4+c942QVE6CmirTSGteHy71z+49ImXl1L9D8SAiz5jpuWdSOaQRuW/wJqztJI8HappZNH+lug9+ex10O7CIXLt8fONRUvsJKacsKsS9E0SIkXKhmykh5aAcO/Oq0tfo3GkbKq1rqcP5FrZvOlM07f785BpoDPrVpXdGTWRf9DrqtVisTnyvleONIa0z93Uc6tWvdR3v+c69ZDpTbAqDenWY0kB8dZUnD+oVb8acwcI2LJ2lu0+ecjh5V0+N1lPn9dLTKYN6Vez7hJwhIW956kCmFSx7Mbkzyrq3uoc7VUIvFkyy1cx0qXbleT1v8NZB4ICkT2eKE2njLmltSpV53AazbbqMfsk9P8ue1PEZ/VDZtm4I+ojEaSUOqs6TBr0EZ8c3BSXRJkJ8x/nPtetqPv1grrJ0iNpJQt7c8o/VR4JtO9NYvDYp+OrXt60s+0sfs6s17szLllLtPc85+epDBQxf7aCu8O2DIOdyunsO0HJ77YGLt2xz3tfGex2N5Mktd/UmxzreKSvvtGONr7+P3T9S13nGzKA+onYw375V22XbEerk/JQWSjt1L9OPfe1drQ+07u9ce95Y45GaDuiuwYhQRllUiNoLIpRDsYILw0y5kP/k6wSCxUabqcMsCp2bpbErvTQQTYBmlPpODYeLZcMFkaZhSOfE6djUrY1WFpAe2EgPNljpkPxyxS3bmr2wOpp2f36SB5pJGujppxETpcuitNc5ryrvafsE517hUwezMDZpgVu8MaR25lwXdY/soNP6FdzM1W7a8vWV1tOghPPde3GHu6zeWtgrC6ufb0lfWK2uYc3flnzlyoNebPZ4O50OFzBN0shgL42YRdOFbTjYFy7mVXazmZY3uXmfVQu1Wjdvpga3c9CL1toO60WIzMzYMJ0e1Ocn5C13HbyeUIdC1r1VxxldzDxwYD0tsYNrlxzpGjmwmhZZCwVnbo7SiKkTbx0wXA7mDYeC0xJdWJ3WxrPajYO3X8pn08X6JSZyfg57kuMz+6GCtj7arxbCh08mx3tVv2H6o66tLdS8pz892EwKIqwnj6WPHvgXwybaVIjvOP+5kbqaRz+YqywdonaSkDfXzj12L85EHafRtKXEhdWuTQq+duTbVtT+8ozZ1Rp35mNLvryH5DsnT30E5bOOVj0RfeMgjnhzy+pEZ1yR0O/kum+ESTq9lR1/ewE69+sj8m9V7tZHFMaHaN/mFlqWEkRIkNG82BoHxP6v8L9ln/y9MD539wWdZjWGy1vgpCAih40x6gGjWTOgy2F+fSsz20NbuO+si6xRjNa9eliVsGZFHtSEaxUS7LcEX/erSbacMR7pDxM0v9gb9vEyRg70jYbpKlwWFaL2gggmmIsrr4tMdJivQUtFRD4TKV96eJKdF28hjlLnU2vDz8L5Pt82YX3iUD6ZuJ0bjHRoYTokvxtO0MjA3sgnSeOfl3PT7s9P8kDDg9ae9bTcfP5M5ct8Hi9tn+C5181+2veU/mxd7HgmoTGkd+bWJwXVNffSwM1e2mJdx3u+515S7sGnPM2n5oY5DylBhHPvdhW658yDOJ72p+XEDp7qoAHToZRjw3oevlxPfXrv5DXuENbG8y5PGviY2KfimOjn8wK72t6jz0/IW546mBmQr18F1wykj7PsPvXejPqsapg/T7uIkZ0uOcb+PJ184nWLWbvhrQPNaHfpk7WxNpzWxrPaTZx4v5TXpov0S4x7fpY9yfGZ/RBTxNZH2RHjQM/YQPQTkhxEPN1ISzb3+BeDMulBBDPHNnGQ06LrJl+/6cN3nP/cWF2V2Q8qssrSIXrvhLy5dp5g9yOndoT9o+/Tnl6bFHzX820ran9MrjG7KuMOU64tJZRvQP5zsupDAh1Z9xBbe8LXkn4raTG+wdfvCNn3dRCbtT6FK+fs0x+asu/x4OPyMGeUHd6UIIKJfF5b6vNZ0x9E+3LvGF6GjUWOaTOfJJ9n36of5kXfvlt1r95sp3zERL2l0B/9UNcOyjYiU25zMuYlTV3LMR5dl3WFpU/ASjlFPvVdtCwqRGWDCABAzTLDA8GylnY6rT+TGog799bGYM4uAAAAACqPTBFLm7p2l4IgAoD7gknvgmNBnvikPjUGAAAAQNnI+ovw7y3dQyCIAOA+Qc3ttOYOCxODR6itqZE29Zj5wwAAAAAA2SCIAOB+YW6UunaW5sTKPO7lX99Iu9258wAAAAAAGSCIAAAAAAAAABQCQQQAAAAAAACgEAgiAAAAAAAAAIVAEAEAAAAAAAAoBIIIAAAAAAAAQCEQRAAAAAAAAAAKgSACAAAAAAAAUAgEEQAAAAAAAIBCIIgAAAAAAAAAFAJBBAAAAAAAAKAQCCLAfcI16nhiKW0/r3/e65xvp0VPHKEx/RPUCGNHaNXidurTP8E8QXnWFH07l9Kqw9f0r3ubuzmv91M9gepyh4OIOfrwwgy99duP9e/bdKz7Fh0b1T9d/jBLb703Sx/e0r+rxOV3b9Fz78zQuPr1MQ2+N0Pnr86pX1VndIae656hy/qny/iv7bTVHiOn9lLH4KT+VR7SwS1aXNKSprXUdrCfJuZVBQgiKsKYtEFus7++TdN6U8jcx3T517yP9w9e/5PeWGncPuMuoxad3qs9tPvwEM3on+UwdnhdpM0ualhJq57aS33X9QEF6dvZmM9+EURUnnnYw73hnPbTdtuWYwrs7d4NIiZp4PBeOn1V/7yrKCftFcrv1BB1vNJDIwvkKtYKdziIuE37fzxJn+gy3dUMPfPqJD0zqH+6DN6iT7w6Rfur3G7PdnGafjxNH6pfQZqazt1Wv6qOyuMtOqt/unx4bspKW60xSV1PN9KyV4b17/KIdHBzszQ2eITampbSsj1DwbZMhqj9EdexuIeDiAu7qGFnv/6hqVIQodrGa5P0aW4Tz7nVzLb7AG+XfaU2nYcigbrbZ9xl1KDTO9G9meqa9tJF/bscVBBhbJDb7MTYMHU+u5IWNe2igaKD6mwPbalvoeWPraZ9SQ+UDAgiKs587KFSjvXEyY3x6/j6uQVA8hTatsW9G0QM0+6mRmrrLudhIPsAG9ZRxx17BV5O2ueTX4vhvbSsfjN13dS/7xPucBDxJ5q++TGNT/5R/84IIm7P0fj4xzRd5UgvGkT8kab5nuPT1Xqy6nBXBxGVwdfBzfRso0X17TSgf6fidSzu3SAi4sAZqhJE3KZDh8WBn6ZDnZPUcGZWbxf+ROe5E/7E8Vv0cmEnv0ig7vYZdxn3qNPrtcGb3dS2uLhDIQ7kog3ddHrPCmrIenCAIKKmqJRjLW+i3Ot4bWwBuP+CiHkw10/b6+9kEAEWmsoFEbdu03mZxvAH/Vu4HWw7O2pPPZhTUx6Cp47u1IR4EDH9vkyPmKUPxSdxpjNNX+Xf6tw/0vhv+bjzM3Ts17M0Hgky2OmQ4zgdx3j/W7Lf9VVkioacK09D3+f0nbUddecp6RwHMu/rKR1p10zESY++ztkRXQaxICIor7eGgxv4gwidf3NNPjYMtHKkt1SOOm18zPlxezvDZX9Wn3/5P4JNPqKdkzju3KEMD1PH1tW0RF4F16+g5q1H6OKUPsSDt4MzzsKcvGVojAcD4yeolR2W/314Gz1Yb147BwqO1UHEqay0TNJFvkbz0kZ1bt3S1bTp8DBbZglJ3/a+G9T30jp9r0Za9uSuglM3ct7n/CQNvKLvEwsKJqlr6wqq0/kMpB0qFUR00EDfLlqj77GkaT21c7ojXO+l9idXhuWxZmd3yuvY0luAuB3O0nM/mqRv9M/R2ZNuEJHSBuXBwNg0reV233ByOrDTCzJVKugbVH/CNvzhMJ/bz+d5pzM59s//vzyhg/7b3H6l/fB2ad/q+qY/ieG31zUv9Uan0o310O6nVod2tqRlI+1zpvDNDJ+g7aZcxT7ajtCI7HCd3rlR6mhtpDWvm0fubBdHd1BrU1BnQZ1EX5HPDB6gtpbS/uWPyVN71ivG4Y7alkrfQMpTNifgLMe+KxdE3KDOtqXUepztdHAXNTyS8SbDE0TMDB+hTY/rduG2cXX8Njptxb8Tx9dzHqPpVIFMWCYZ5SnX5GNHrnbTJl0v3ocVU4FdhXYj0zSPW69auC2W7KqRHnyc82Weas5JfaynZQ3mXLcta9u9eo37BG27YX3Mzx4muA+x7XG52ELC01bVd7/eH7EdX38fqaOG1dZ01WHaZ2zb6Ikf0Y+S+jkhtQ9LK5d8SJ4Sgwgnr752kpxXH9zfH9xIzbqe65bqts3abZ6gZdoC19mFI5H+58HWHZHpOirtiUGEHiuNDWfZrWH4QJhuo9I9sse7KKYvHqLdJh9cdptO8vVu9pe2SX1zv1e6jpN23TYvSh1ou4rfO+Gcwb2h3S9p2UZdXH4TA6VtdUvX0W6734/0RcE15biILDsqZhe1SwXfRMzSy4eiTyfFGX+gY5I+96NbFPap44HD8MygDPIZ05k+mKZH+fej5gmlM51JOTLy5LNzkj7N92ng+8tUii+8OaPna/+JLvMxMsXiC51T9Fz3FD3Kjs4nOjg9JhC5cIu+wPs/3TFF3zgxRQ18HTUdI3SQ3Keks/RdyaeIr/mtY1P0Wd7/wNHpfOsULgf3++xhSc8tpW9w+r/xczuPJogw6ec8fxA4RXHnjZ02eXPC13z4GF/v5BQ9/Bqn57A5Jju9phz3H+ftvO8Lh7h82Jgj2/maco0v8P/jQUyJaOcUNKS6ps3UOazt4iYPEuw0pU158nVw6k2EOBT875GDq6nu2Z5IB6QcgbYTNCE/ZBB0HItIWq7otMwGDpydlhF2huqapMPQx4z3U/vj7ORZ6ZH01dWvpfbzN2hGGv0cD1DPrqS6p7uD++cg731Wta6n1j39NDI+SRM3S23LRo6LDXJSBvU8gL9U6pgmzrVHX7fO9tP2ppW05dS1aD6csi0RtNcHuH3RyC1qYLs8ZB4a6N/H2KiUPYb2l9EGL/J5bFfS5h7g7cpOj8u5wb3Wnp6mb/A2mULV8FNJldtnlOz/s7oPEH2rX4KMj+nYseDctSeDtibto0nsOzjZQdtI8w6rXoYCe32xv1QmvK3rvC4zZqJnR+DsBj+Jrh6hNfVSrqPBMVOT7GDqQd4eaLi8xf6W29dmLvZ100XTONlG93Ga2jgwU4hjzteW4FLBQYjsV063ZuzoOlrSeoAG9DUmLhzg9KRMDfIEEUXt2w0iZq4H05nqNuRvE4rRDmpevJ46Je36gcGWc367V0QGbiYse2PT7HDtWcvlwU6+qi8ur8fshxAStLSw07AiUoZ9zy+l5QeCAsssT0nDY+tozde3cd9yjSa4rRrbsBl4sZEanu8J26OU0UVjZ1PSFrn9HxiiCdk0O0ljo5wHtXOS64TL0krDzJUT1MZtN7QDZbsttKZ1LW05Pkxj0l9ox31e9nCdy5MDrH2mz5ybpZHB4cQ6VbbTsJ6Dal2Ws9p2bDvg8lrTwNc0x+gxofmgSVDQDt0xwNvPZfZhyeWSF+99GbudKNjWTks92e0kM69RgqlkbM8mjdweVpn2oMhjC8yVXuq6YtLFdXaQ26dVB5L2vEFEqt26qPYYf3CQZ7yLEqTB7osnLuzla6+k5S3rqcPYI5fPGg4k2sMHz9G0B+nh/vvpUiAb2P9K2h0O+/5zlj/fLc+Xufw4ANrH5dfUQs1tHTSibz3yOufJfsihznP9Ds1UD23ie7Zf0L8L2kUtU9HpTOd/ygN26GDO0VvsfK59V5xwcYLVRpruZ8eUf7+lnPiUIOI/+N/sFHyB94ULOH1BBP9++Telp5Lj3PpkmzgzNBdc72F72sWtGfoGb/vWr8Qp/1Pw1PSNW5GFzNHpTG4QEWf8Xbln8hQkmyDNKcdaQcQ0/1sCjmcGSyNSLIi4Nk1NfIw8AQ7RDp0pcxc3vaYcnzlvPSFmwu3vld5sZKU/2jkFjdMbEPCg7vQzIZFr8GA6cr6DO0nucI7qbcrRsJ8mBvcJHa2UICI9LfIq1vOWQ56I1vP1dBmowcMdVK4coOV5p1sVuE8YGKWgjvMGEaVrBWgHSidSPW3d6gQMV2XQij6pLRG016AtBG8e1r4btL3L75TaTKT9ZLZBwdfGdMDCbfNY5K2D02do+28662uf2W03it9G3HqJMcsDBA+cnfoJpAy6MfswmIFGnJ2nV9IyPi5S/h5GDrRQHQcaCo9tRx14cbxb2OnTPzW2UxzDF0QUtG+VhshTtxXU9jo7m0llloDk1bb5gZdWpAS1jDNwe8veeXs5YE+TUkFZO53mfqDk6Mrx7JioAT9Heao02I6Mn8AZc95qacTRt+sggnbkXcdMPTgJzwlst+Eld/rXPO3BBBE5fRuv7ei3xCb9Uv6xe/ftoEWPHQje1iW0Q18/l92HJZVLfrz9K5OnnWTnNUr8XkH6w7Eily14cNIl94n1cyHRe6bZbQzVFtz05RvvovhsINgWLc9ZOr3VPs4pL296gnPWHNUOfJ5z1DanHel+PzxOHRPtmwNuUNeGRlr1eikvRe2ilqnsmoiLt+hzxoFXA7g4sh/TsaPGyWWnXRyM4yYw8AcR8kT9G29M0qc7p+mybWC+IMJ2qAXlQOtFn9rBiKyx+P00fYW3BQ6Me/+A9CDiTzQ+OkOH3tFPNkXytDNnEGHeRDx8/BYd+vUsfejO7VZ5ZOese4oe5v9/pTfqAMXy7JSJ4kJQD0EQkZ1ebzkyvu3lBBGxzsNxWlxURxo6I/JafyPtPmdn0JryIEhQUW85vh5HK1davB0O43QW3g44sQPxMJ/7eFDl5Q5m3jKOlkG0nG150qaItgX10EC15aAdPfxOsD3SfjLboOBz9oNrxgMAp80a+/cGzPpNRMcUPXdOpipmradKsBF3Ws7NYercuZ6WP7aSlsj0jmZ5JW32B9dIrDdV95tp+86VtOhv/FN1xs7tpbavt9DypY20pKklmLZg6lc5ZKtLT9H0m4jwCZa6vlufWh5HSOHYSjn2HQ1kgvbZnOSkJqGc/ehbFUlbXeRJrEMkXUll7zgack2dX3FCVZCi2p7uQ7TDpZybPOWZUTYhU0O0u3UFLVm6jjYdtN42Md42bJD68V1f0unkPWa7FbCHkZPbqLmhkZqf2kUd1hs4H/4+i51Ivl+QtiCd3vRk1KOvjLL7sIRyKUBS3Xjz6rFHf/r89qKCgZa9dNGUsXoTYb01ymULzJhMjVsb9E0NK2m5moJT2u+vJ4NTZil2G0Pl3xk/fNsE1wmP4Ku3YNumnugTrmhenPMS2mbhc9Q29+Ga2LWV/oR7yVuY0ptQIbhfEbuoZSobROinjipgUM58MG3g8hk9BcJ5epkURHzl9AztP8Hb5Q2B3WHlCSJsp0X/W5xyW589bKYzlRFEWEFAWUGEOPW/mabvytQpmdbB13rgR5wnY2E6j999b5q+1eE8wWX8QURwHVsPn5gJjsmR3loMIpI7uAD1BkE/sYxNb/J2tDnSktTZOU6kN30JHYiX+dzHgxwXG+S8ZRwtA+95qThtgW1Pptq9xe1Mpii+rB+hSHsP7SazDQoVCCKSiun2bXqLA+i1fI6apsh6mM/1j4MJNmLXi5o+0UhrXh8uOVOR+gyukVhv6liZwnQkmCbF5W/3PvJEWqYznL5eavduPU1w3S7nAaduKQ/s7CC02ms2kmwrDcdWyrHv2JqIC7toWf1G6kpzOFw4HdF57yVFAgubSLqSyn6SujZY25Xzwmm7GWwPnJLSv1VezNPtPOWZUTYuM1eHqFPNo2+kVv12NbUtSv34ri9fK3LyHrPdCtiDYu4GXTzXoeaV1zXzPROmBHltxxNEJLYPhf8YXxmllpsioVwKkHQPb15z2WMKc5PU92IL13cjPageIjjrHfLYAqdBputsP6enIwrOef56MvjLzGe3MXz2lmSD7sOZCL40+NMVzYtzTKQ+ShQ+x3udHEGETK9s4GMin48N7lfILmqYygYRMoWJnf8HZJCWKTPmjcMFdjYOcUDgzqNOCCJUAHCL/y3TmX5qOdF5gohheQqvHZqxYE1FZKpPBP21mZP2MJ4eRHidaJWuvEGEwySn4Sjfz6xRsK5l1ms8N2ye2HryLGVr8ushT3q95cj4tnuvZ5HaOA2+QcoivYPTsCOwRX0FYpT2tThTCbwdbZ60RKc9hHimGcXSl9BZ+ZnHfTzIcbFBzlvG0TJQUyhaOgq8PnWcfT0t6RvH2SasdU/GRtTvzDYozDeISLb/CPKRgV/fUm/4Yp+nVQTlE3vNbNeLz7bUU8DSYCJflsmcziT/1vNko/Pa3ToPnqKX6neWBl7kwCF8Fe/CAxsP8qnrCFwcWynHvmNBhH6FL5/kjPauSXA+n+Vy80xdGtizMtlOnXTJNIGs6UwmYNhyqrv09oFRbyV29lAXl3c4NTJPeRZq+xbarmSKiSq/pD4xwdnyTWeK9SkVsIcowVum0lSQKKover5X/9K405lkylnaFDVvO/D3c9l9WFK55MfbvzJ52kl2Xh3UQ4r14dTIGDlswWdL6qGblS5v2kMyysyy2xgq/2768o13UXxp8KcrmhfnmIS2Wfgc73UygghZ8/ZEI/cl8bZS2C5qmAoHEXrNAwcM3+VOOOpsTNHL77hOaUoQwRgnOlwT4Asi+F5vva+nKcx9HAQAfIxZc/HyGxIQsEPzBzNtKPhEpJnWoKZkSGAjX1+6PUeX37tFTZHFw1EHJ1hPwHl5n68nx7NTsvYQB06WYy3zTX2djpfbH9Ox43w/sxA14uDP0fk3eV8H/9ZfRAocNE4v51l95pLL9lucvs9xwPZh+Bla+SxtkME86fUFC4Jvu3EQ73gQwch86TUvttMq9wsuuiMLXwGrffnSEj4JNk9QkxY8u+lzOpAsGyj7Ph6CQYMHUsmnKQdvGTtloBdzNr/YGywgY2ZujtJA32jCOoygLZSmIbF9/nRKLWRust7zRm0kuw2a636Og/kPw88p5wwixmfUW5CI/XOwMO39JDPf9zdBEPGMWeAWISgfWRgaLtyTemmx/kaJsa1w/xDt29xCy+zBhIOK5sXWYk9Z13NFL5J17GSG62mZBMP6SZUEIOEiRvkbKad20KqmFZYtSRpX0JY+axGlQ7CIcTN1mEV7cp0rvTSQ1OAcW8lj3y7xIIJR5VAql4lT22j549xWff6sco6shYc2ygmNz+tXuOni3+YprCK2sDpA0rv8iXXUYM+nl2s9spqaH4k6QZnlmVE2AZM00NNPI+YJvix2lYWZptxVQMntXxZWm7q/YtphEDjWtZYWdfoXVnv6N2Ze9jDarxbohk+0x3tVn+G7jyC2U8f2vNvcy7ewWi9+bzus88rMjA3T6UG777Pm4etjvP1cZh+WVC4cSG5toeY92UGu5KncICJPXiMoG9yR+KYnly1w/dXxNczYMnO1m7Z8faX11ioh7SF2mWXYrYv6xCv3T+d0Wkzd5RjvovjqzV+X0bw4xyS0zcLneK+THkTIw486d72Ooahd1DAVDyLMoC5PB78brlbWAz9vM/OmA9KDCLFA5UT/aCpwor1BxBR947A4xcH1RZF1BB/or7tY+9U1zBxqWcBt7Zcvwwye5/skBBF0a5a+q/MSHv8bmbJhnCY2yK/G5+2F6Dcl5nyjaKBkOen6jYw4WOqtzrVp+ooEOXKeLrfpizrwsa/5Gl9Ddmem9+4NIoInwEs935K3Pou6uJHa1SOT/GkZYcdtTcqn6Lzpi3QgGTagKes+PvSc1eBTcforQd4y9pRB5LOSQTraDib8tVr9ViGyvsFDzEay2iA794PvBF9wkn3B1MecQQSfe5kDZfkimX39T3dL2Qfrseztap+71ipEl88p+7OCznQhJpgjHtjWg4/LF0dGub6jjmfk83183LJnOTCQHZ7BaOTA6pJzFKlLvvcrPMjIgjvLiZk4vlHVVSgetJu32p+1nKSLx63PxMr9n2SnIqnBObaSbd9xvEGEebugB1L15ZkG/x9jUk9SEz8iEFzHuzjWl67RbtpuylCVTfwTo6bviLbRoP7jixszyjOjbAImOZhZr9a5lK7hfA7U/lSpsq0DpT/4Nhf99Kf/E6+e/k0xD3sYZQeVHdAgTf5+yqZv5wrub0ep03wSNKH8o59ADvKzvceyOetzuXVsFyotvn5OSO3DksqFg4inG2nJZt0uU5D2UHYQwWTm1YaD3s4NwXFGqszl06aGTFuIjn/LntxLAzd7aYuVrvSxxS6zHHbrYPeP9jTErPEuiq/e/HUZzYtzTELbLHyO9zppQYTsC+onIqufLWQXNUzlg4gFJOLkTn8c/CE61+dQBE8+Zb//j1SV8QflJhPuFc631b99yLQKuZ+S15tJR53vnqfzkJSPpPTezaiyzvFXbReaPDZw35HVBhlpw2X/EbmS/cfsnG0/bG+pbdw/SNUS8lR52YYOGhibVJ8SVRqTp8P2FBwAwF2H+uTzSmp7fSj4FK3WmHyaG+MJqFHunSCiVpAFhffIXLdaZ+bcNqorNKd/gYAN3KXUehARfL3Ilz6ZPpf8ZBEAUPNEFspbzMlbhOibTgBqBQQR4O5Ez83d1IOnr6BS1HoQMakWBC/baU2vkvnt59qpWf54mG/NAADg7kCvCwrX8wiz1+j0i2upruVAZE0PALXCXR1EgPsRPdew3v1z9wDMl9qfzkQ3+2mfNf9b1k0sf3IHdQ4jmAbgbmdi4AC1hWupZJ58C7XuPBFf0wNAjYAgAgAAAAAAAFAIBBEAAAAAAACAQiCIAAAAAAAAABQCQQQAAAAAAACgEAgiAAAAAAAAAIVAEAEAAAAAAAAoBIIIAAAAAAAAQCEQRAAAAAAAAAAKgSACAAAAAAAAUAgEEQAAAAAAAIBCIIgAAAAAAAAAFKLCQUQ/bV+8lBbVt1PfnN7kMHF8PS3iY1Ydvqa3WMzx+fUJ+8y1Y+J76SMAAAAAAAAA1acKQcQ6WvVEI205N6u32YzSvpYWWv6YP1CYObeN6h7j/S0dNKK3lQiu3TGmfwIAAAAAAADuCFUJItr3rKdFW3toRm8NuXJABQj7dvqCiEnq2rCU2k72UPsjK6j9gt4cgiACAAAAAACAWqAqQUTHhW5qW7yeOsf1Zs3ASytU8NDnCyLGT1CrPkeOa3hpSO8wIIgAAAAAAACgFqhOEDE2S6efbaTW4zf0dkatdwiCBF8QMXJwNS1qO0ET8mNwFzXUb6PTkRlRCCIAAAAAAACoBaoUROj1DdbaBvVbT3GKBxGjtO+xpaWgY26I2h9x11XItT0Lq3f26/0AAAAAAACAhaBqQUQQCKymfaOyfZZOby0FBbEgQt48ONOf+nY2lt5MKPAmAgAAAAAAgFqgekEEo9Y27BkK1jtYn311gwgVMPjeMkQCCwQRAAAAAAAA1AJVDSLowi5qeGQXdb6+LrJQOhJEzPbQlnrPJ2HlTUbTUmo+qF5lMAgiAAAAAAAAqAWqG0SovwvRSHX1LbTvit7E2EHExMmNtKhpFw14/jid+sN0jx3Q6yqygohh2vd4C7Uet9daAAAAAAAAACpNlYMI/dUl54/HlYKIG9TZZi2odlFvKVZQ+6D8kGv7pjyZv1g9TLubGmn5vmH1CwAAAAAAAFAdKhxEAAAAAAAAAO51EEQAAAAAAAAACoEgAgAAAAAAAFAIBBEAAAAAAACAQiCIAAAAAAAAABQCQQQAAAAAAACgEAgiAAAAAAAAAIVAEAEAAAAAAAAoBIIIAAAAAAAAQCEQRAAAAAAAAAAKgSACAAAAAAAAUAgEEQAAAAAAAIBCIIgAAAAAAAAAFAJBBAAAAAAAAKAQCCIAAAAAAAAAhUAQAQAAAAAAACgEgggAAAAAAABAIRBEAAAAAAAAAAqBIAIAAAAAAABQCAQRAAAAAAAAgEIgiAAAAAAAAAAUAkEEAAAAAAAAoBAIIgAAAAAAAACFQBABAAAAAAAAKASCCAAAAAAAAEAhEEQAAAAAAAAACoEgAgAAAAAAAFAIBBEAAAAAAACAQiCIAAAAAAAAABQCQQQAAAAAAACgEAgiAAAAAAAAAIVAEAEAAAAAAAAoBIIIAAAAAAAAQCEQRAAAAAAAAAAKgSACAAAAAAAAUAgEEQAAAAAAAIBCIIgAAAAAAAAAFAJBBAAAAAAAAKAQCCIAAAAAAAAAhUAQAQAAAAAAAChEhYOIP9H01Vl66/w0fbf7Fn333Ay99d4MnR39WO83zNGHF3jfb/NuLzH9ftI1S4z/NjgmouHbND2nD3CZvE3nPcenMjFLZ/m4y/+hf1uo+w/O0rj+HTIt95mml7lsnjs1TccS0/QxDfK1z191dyaUzy1P+lmDf/ijPiAdld4LnBb9W3HbXJPzEUnGHF3+NW/31dFtTjfv23+K88d5PPRrPjehGAvV0R/YpjgdH97SvxU6HU49efMCAAAAAAAqSkWDiOlfTdGnX52kB340SQ2HLB2fpg/1MQG3af+PJ+kTXTP6tyFpu2GWnuNrf5r1wKu36GxCUHC2i6/B6bDToNJ1eJouu+eMTlMT7/vEa9HjGw7dovP6EC9znJaOSfpc96zeoJHtnL6Hz0S3Tw/fooflPiZdfO4Dkia+z9lYIDJDz/C+pnOuB55QPteCPHyarxmmn9Mg93pmMKGQLC6fneJjpyLlOf6ubAvK7Rv91o5bM/QNSdtZJ23XZmgt31/O+YJOg5z7idem6NAHf9IHlShUR4O3VPr2X9O/mWne9gU+/pkL0YPVdX/s2hsAAAAAAKgkFQ0ilAPHTnG231pmEDFyixrYmTzGDqs4ss8Mxp1TwedITvdPKaf9uWG9QfPhucCBfivylDsf4mg/wOce+oPewIz36etFAoPb9PIbnKYOJ2B4/5Zy/r9wyglEygwinhnUvwUOZtQ9j07H34i4cPCnnPQP9G/m/Jt87skZOnacHXw7IFJ1IM67/q2Yo7dO8PHqGladTMzQtyTgOzYTS0OROooFEf8RXPcLP3XLDUEEAAAAAMBCUPkgIpcDV14QcfmMuf7HdOwoO6cJx3nT4XO0mSCIYOde/y6EdtTDtxEJbyFofJrWeoOCIB/xMqtAEMHkro+xaXqUzy+9cQju82jv7eAthRWIBG8oOJCLRAVBvn31cf6nnAZP+RapIxNEHBqTHxywcGAj58beWDAIIgAAAAAAqk9Fg4jL74jDOEXP/fq2TP9PQTvDJ2dofPxjS+yUJwYRvO9QybEOnFn/lCavI3nxFn2OHVT/m4gygwgmeHoevI3wv4VgzNN71zlm/E52JYKIj+lQJx+b502EDgI+Z57sz83Qt+R68rbhwi3OX2lql3pDcegWXda/FWaKUyy9paDDnookFKmjIIgIyujD3qC8I288LBBEAAAAAABUn8ourL41S/vFcWVHUM2N/zEHFOdm6MOYb6mdYX1cTL4gQjviL4/o33+Ypq/wb9+UJuVI/miKviULmJWmqOm1Sfp0Z9y5DIII5/7quvqALPTbiIffmVZBzsPveKIn5QT7r+kPYsoLIh4+ZvJ7i74lb2p423POmgE/+um+CTjMtDH5od6imKlOt+nQYT6Og78I+v6+IMK3nkEoUkem/Ixib3osEEQAAAAAAFSfygYRBvna0c/ZkT1WWiwbdeoSnOHE7XoqEzudL4df85mmb8niZM+xypHk+4aLdvm4z/74Fp33fEnJrIk4Fnkj8nHGm5QoZi6/egvhW1uxQEGEvbD6s/x77bv5MxEsrg7eOKi3B+HbhuAthZrqpN9QyDSnCOUGEXxOnjoy15A6Otuty9l3HKPK0w1yAAAAAABARalOEGExfT5w0qNOZNEgIpjKFPvqk3wN6EfseDoP22NPo/XbAl/A4XfiixI4/ZEFyDbayf7Wr5LempSmCwXMfzqTmWblOu+JqGlLwfFmUXVA8JZCTXX6ILhPbLqRSa/7xSamFKTpDZoidWSCCLUmQtadSPB4fMb7GdcPfz5FDbGF6gAAAAAAoJJUPYgwT+FfHtW/FQWDCD2VKea8jt5Sn0197mLUOY85qEzwJsN11isbRHifxAt6zUDsc7CcX/8XlHQ5uE/U5xKCFU8QYe659t3kv6cRQS/+fmYwuLf9tkG9pZBPr3Jgot4CxN62BEHeJzrdfOivNnnKvUgdxd5mDAefd418ehYAAAAAACwYlQ0ipqNTgsbHb9Nb4izGnkQXCyJC5zLmMwbOq+uc+xxUcTy9C6t7A8f4u8O3nbQXcVAzggjrE6jPvGfuc5vOngqmQfkcfbNI3Xe8GzR5gwjz5adcC6uFoCybztwqLao26LcUL5/hsuJyjSyq1gTp5bycm6UPdXoHfz6lnP3cn2JNqKP4lKg/6QXp8WlNg5zGBlmwr38DAAAAAIDKU9EgIniqHziTtppOzzpTT4oEEcHT+qTPuSpn0gkwvA5q0lP8/5il78o9nTQXezuRFUQwfJ/9xzkfzn0ePeWWjWbuNh3jwEP9wTZLX3nHc7w3iChNJcr3NzBMoCNygr7xGfWWQvY98Ka/HiS9Z7uDPzZop/fhEwU+xZpUR7EggrGmNdnxnpqKFVuDAwAAAAAAKknlpzPNzekn54GmizzQvx+4bconZ8GEx98lZWnVP+oeAAAAAODepPprIgAAAAAAAAD3FAgiAAAAAAAAAIVAEAEAAAAAAAAoBIIIAAAAAAAAQCEQRAAAAAAAAAAKgSACAAAAAAAAUAgEEQAAAAAAAIBCIIgAAAAAAAAAFAJBBAAAAAAAAKAQCCIAAAAAAAAAhUAQAQAAAAAAACgEgggAAAAAAABAIRBEAAAAAAAAAAqBIAIAAAAAAABQCAQRAAAAAAAAgEIgiAAAAAAAAAAUAkEEAAAAAAAAoBAVDSI+8eokBEEQBEEQBEE1rvmCNxEAAAAAAACAQiCIAAAAAAAAABQCQQQAAAAAAACgEAgiAAAAAAAAAIVAEAEAAAAAAAAoBIIIAAAAAAAAQCEQRAAAAAAAAAAKgSACAAAAAAAAUAgEEQAAAAAAAIBCIIgAAAAAAAAAFAJBBAAAAAAAAKAQCCIAAAAAAAAAhUAQAQAAAAAAACgEgggAAAAAAABAIRBEAAAAAAAAAAqBIAIAAAAAAABQCAQRAAAAAAAAgEIgiAAAAAAAAAAUAkEEAAAAAAAAoBAIIgAAAAAAAACFQBABAAAAAAAAKASCCAAAAAAAAEAhEEQsONeo44mltP28/lnrTA3Tvg0rqG7xUlrUsJG6rvO2uWvUtXU1LVHb1lPn1eDQu5KxI7RqcTv16Z9Z9O1cSqsOX9O/7rK6vNs5306LnjhCY/qnn37avngddaQflJ+C9uElV7pBJYm20zxM0sWDG+nBeu7TFjdSW/cNvb2KwC7uY6o5dtTCuISx8X4BQUQVmOjbS22Pa8ebB6QHm9fT9p670/G8+MpKqtvaTRNz/GN2Vm0bObiaB78OGrG23bVkOYlXe2j34SGa0T/LDyKCY72Ozdwo7Wthx+Vk3HGZ6dlGdU27aEDK+n6nFoIIxx5yAWdxwSkcRAzvpWX126jrJv97bpZmFqK95bGLcuztXiZPedwVZVZNP6AWfIwFTMPUEHW80hP4I2DBQRBRaS7s4sFoLW0/N0oT7GDPjE/SyOAJ6jo/qQ+ohQaelyCtm3rsQGGSujYUfcpXw2QEERPdm9mJ30sX9e+qBBGMChYecYKFlODivqQGggjXHnJRNIjgPqRhZ7/+AcqhaBAxdngdLdraUzXHc+Lkxnh6cthFWfZ2j+Ars1h5eNrK3VFmlfIDZDx2+7uF9jGqmYYhan8k402wegCwOXgAABYcBBEVZmDPClr0fK/+5WOhG/h88KU12FZkgK5pCk5XmW8QseZoUkAQL1cVWLQcwBMWQw0EEWVRMIhQDi2CiHlRVhBRxTLv29kYT0/R4PI+w1tmDndvWykydqQwx/1d/R0OIqqZhkr0v6CqIIioMGNHuVNLHRh04zo1TB1mXUH9CmreeoQuTulDFJN08fA2al7aSIv4mLqlq2nT4eHwSZl0sMsPjOpfzJxE7HxcpEOVbY3JDfl6L7U/uTJIw+JGWvbkLuqTNQ/C8IHw3kbbT/bQlqbotlgnP7iLGuq50TuO78Tx9Va5pOfN51Ar3EFXfnN+Zwb30hp1rQTn0cmnTC9rN2+G3E5qbpQ6Whtpzeu6bJ17pgYRU0GdBvOql9KSprXUdtzUUfAGJ61TneF7NchTF3nxI/XJZb3lXPQtUEXKzcPM8AnabttC2xEakR2z1+j0KxtLttCwmtoO2lMF5J5c7sNZ9hxl4sKRyP0ebN1Bp+21NXM3qO+l9bSsQafnyb00cCqej4m+XdSqbXJJ03raPdidHkRk5sfBtQ+vDfaqdAQ2GKSjvc8KFt1zbvbS9qaVtL3PvJ00sI1sNdMgjax7p7VXlwVsh9ImtnN7GnhlXWD7Th0p+Jy6xzgg1j+FgZdWsK1E0ygPYcI+LGIDnnI1tnfVWqOlz3WDiIm+dlrWxPeKPa0cpn3h1FOtCty/BF+/RduakSkfVY4dNFDEdtL6Mg+J7VrtO0KbTN59bVZsn+99kfvXsI21bKMubqcTA6VtdUvXcbuz0iBpdtsEn9cx7KTTzgvff83Obv3AJKvM5N8pbcUtMyYzr740x+o7BT6/mH0HbauoH7CkZSPtG9DlKGO0tk2jwOYrcG1BlUnG+DrfNIz10O6nrDFT0qBtaeLUtnC7kXf8dPvowm2kwrZRiz5QFUEQUWmmOCpvYiP7+i7quuIzssA46po2U+cV7SDOBo7rsleGg9/MyOF1fIx02PqY8X5qf5ydW21U8pQ6YkxiuDygrbKnxFzt4Ma1jU7bfqhBpZOvd2AoWO8wN0sjxzcHA23YgHRHEGm4CcYdEkzBiTq/N6izbSm1Hg/KIytvhRoQ57m1bS/1jU7SxPikZy4z37uVr3VwNNw3MzpEF8eDf0c6oDm+L9fD8he5UaqdjHPPtCBi4MVGani+JyhPZub6MF00eWQCZ0v/8BKUk1xfXuXX2XllKlZuLleP0Jr6lbTllC6jqUkauWps9wY77/00ZrIxzoHkIyuo/YL+re+p7HlYH3STnQDHnmNc6S21D7G9gxx8b+imiWALD7YraVELO8m6nmaudgcBrJ0PmTq4eDUPEPo6HCB0PbuSB4O0jjQrPw55goj6Rmp+qZ8m9DXHePCLvF63z9HtrvWoU0cWYicxZzRXe7VZuHao2kTremrd008j3AYnbtr31Mz20Ca7XtRDD+6vnuCyH9Tb5H5fNdMnJ/m6XJetB2jA2MCVE9QmwVdkamgLrWldS1uOD9OY3FuXhd1OJThflvEBiPgT7fndP0pKORrb0X3GxDlOa5LtZPVlLmntOtx3LdgnAdOetbSklYMMfe3A9rk/fL47aC9z7Pjs43JqaqHmtg4a0dU88jrbkT3u6Hy1WrYatIl11Gnqf1bs2b6/brvPmill+W0v1lacY3Ll1a4Lna9YO06jsH0H+cvyA+Sh5BLLBicuHOC8rKZ95tmUqiO3v6vQtVU5Zo2vzDzSQOND1HVe1wsz0bODGsSWgp9BGuz+10ekjy63jVTSNmrNB6ouCCKqwdQodeknWPKUpv2cbQh+41BBARtuYBzcwbLRxhxOO8K92U1tizeGRixPOFYd7mHjLTlE4ojajpmN/41JyYkNCNJaLIjgBiILr+35xaqRm7TmyFuRBrSYnYOkDkJR6lS8mA5IBrGnV9Iyier1LoVzT9s5ccsnCCJ6Q4fARc5NDyIYtaamhZY32YOPUMFyc5B0R99gpTFLp7fa07L894zacw6uHKDlnA81eKjX4/G8KkcvUheedHsHtDTc/DhEBijGZ4Oxp048iDzG6TcjoTlnih2LyEDhx+cY5WuvURaqHar0tp3w9jMlJtWbuLaT2gGXuex8jdOcxoY9Q8E2u0+7zoO7px6jT/OC9DW8pM+3MO10hvPT3MDXyfiCXCyImOf9o6SUY17bUT8y+jKHtHbt3accX8smfG1JbWuhfVf0b8F1oL35itqqGpvcNSiRh14FbM/Nh3NMrrzmqYtUCtp3Qv6i/aak0Slrpu/5paVZCN7+rkLXljLJHF+ZstPgQdtSp3nDqtLA9aJ/elH3N8dUoI1UwDZqyweqLggiqok8gTm3i1Y1NNLyV8xAExhHzIBs4/A2SibSWct1jCGK0QdPEEYOsAOqOoHAOYoZocbb+TJyfmm7L60Jxm0zfoJaLcOWBhU+Ycqdt5wNyP6dxNVu2tTSqF6Vth+2nkILKj2bafvOlbTobzxfQXLuYZyTAKd82Enc3bqClnDguOlgd+zpR9/OtZnOjBqMnvY4ZZUstwgZ9SlPH4/voNbHWjgollfDLeoVc2IZGLLqZqyXdj+1lpY3r6C6hpUcNMmrWD0QJOU1cs2kdHMH7TvXkJkfB5UWaxBz8+XNp1MmcsxXd9D2Vs7jhixn298287VXhwVqh9E2kYw46mbAlocezTLQS/Cop4EoB8NcV+7hcx7k+HB7gu0xKk3Pt9MartvWHB8miAUR87x/lHzlGOCxHfuYtL4sQsI9FUn7nDHDtX1BbXPfbjttzpuvoM5NGSt7VtNNXBW3vZj9R47Jmdc8dZFBIftOuradDlXWbvlomTx723GFru0tEw/lpkG4OUydO9dzGa2kJfUrgvHAtSVfO7RR97eOmXcbqYBt1JoPVEUQRCwEXNF1HGEGQWveBu4xMvUko7RdHAj1lEOeepj5mObf6mlu/EmDIckpsTt6f1qTGp5N0AiDV3fOq71ceatOA5q40kv7ZH4ml0s4JUGlR6YwHQmm4HDeI0/HnHtEHSZ/Xc5cHaLOl2R+ePq0lSS8dVPJcouQVp+zNPCiTOnosOaIusf7yyD1npwXeYW8/dyN0qtXOd4MBEl5jVwzKd1pQUSe/DiotFgDlJsvbz6dMlF5Y1s4eCSYkpR0L42v/vO1V5eFaYfRNpGCOFRqqoL9FLT078g6L1VmHudB+rdwe4LtMaq8GtbTvsMyPYjzU/RNxDzvHyVfOQZ4bCd2TEJfFiHhnoqkfcHT9HC7a/uCb1u5QUSi3Qr5ysx7ncgxOfOapy6yKGLfSde205HURm28x1To2t4y8VBuGtSUNu4PXx8ujQPuteR4Xzu0UefEjym/jVTCNmrTB6oGCCIWAhl4igQRquPJet3FyHW/2kFd4dsHQc5lQ+wxHZof9To5Znzu9AhfWpMaXpSZc9uCOf2jHdRsz5fNlTf/PdRAX4EGpKYkmFeqdgc01UObxLm1OxznHlGHKaEuDTpPud6GW/gH2AqWm4N3WpBCnAM3f/IaN0cZpNSNLz3qKZ2pBxUAu9O5dL1F6qIxPpVEPQHydNCKPPlxcAcoN1/efDplYh/DjkZzhlPrq/987TXOQrTDaJtIQ+65ljpOlZ7OCuJcqqmYj5WmYroPTAy+6USxPDB2mkYOrObA0Zrj7CEWRMzz/lH85VjYdjxE+jKH5HYdlHnmNA6fc+Z12DxBROxtRdRW1fS8lo7IQuQo+crM21c6x+TKa566yKSAfSddO5IO6QfdufUOXoe0Qtf2lomHctMg/3ZtSb3pc23JtTcHr02WSGsj1bSNWvaBKgmCiAoz0nOETl+5Fiywm5ulidFe2v54Iy0z8yJzNfCgk61raqfTZkpMbOENoz+ttuqJ6BsHGTyaW3jgTBhAFOFTAL0AybtQ05dWv3HHUA1xHW1/cV3M0cuTN/kjd4ue2EsX1RxCebrfTVs4mo8sNs7VgEap79RwuCBKFk6dlgWTpmycDkgtwrSdPOceUYfJLp9JGujppxFTdlKesuAwPFe+OLKSWo9nlBvjHRiZipWbizi2i63FZbOTNMI2PGPq+qCxkRs0cGAzLW9KKgOLtLrhfXWP7AjzodL49ZXWE17p3J1FrXJMs2dhNdfVvkE9XUUWVj/fkrKwOk9+HNwBys2XN59OmTjHBIvq7HYWJRgo9B9zFAm52quHBWiH+YOIoG9a9cQ666EHI/bA/VVzOIAKpbdGZgHvjHdhs8f2mEia9AcTYm8ZLWJBxDzv76ICXrNeyuSxsO1k9GUuie2aYbs2bwMVvgWlPufM67CxbbqOHzuoy+WLNiq/bKtHN7KDtJG6jK3pDwU0v9gbTjeZuTlKA32j4XS/PGXmbStuuebJa5666NuR6dDmt+8E23HSEfQVm6nD9HFclmNXemnAHKAfuGw5p21SXb9C1/aWiYdy06Bsiftvs/B6fIj2bW6hZbYtmWNMcYblZxGxyYJtpFK24aNmfKDqgiCiwowc30ir1Lw+dgRZ8imw7cfZqAt2HsLIqR3hJ8XinwATgldmi6ynHgq+ltw/+kfiPNzsp31P6c+vyef/Yp+M9KU12JbHaVDztRfbT19KZOYt8rlUHmyeYodymDuLwg1olDqfWht+pjH2CbdIBxQgTy7Dgcm5R1oQ0bdnPS3XeYqX5zDt5kFz+b6ULxZpkoIIoSLl5iHymTtJ+7M9wWDOHZfMLw3vd/IaB0drE8rAIrVurM+BqnLaSwM3e2mLXQ/SmaspYen5iH5GUj4PyPnnQdwfRDCZ+XFw7cPNlzefTpnEjpnkdhs4SF6nVq+tUXXRYL1NzGyvfqrdDosEEcEbp+hDj8AJ4eu7C23n2E4Obgw/Ien/xKrH9phYmtRbRnZ0Yp/VDYgHEcw87h/Dtru2E0HZFbadjL7MQ2K7Fka7abuxM9+1PH2jd5sviOD+s+/kNv0Jy0Z68HH/J17tz3uK/UU+t5ynzHxtxVeuWXnNURfST8Rs1CG/fSfYTiwdeg0Xjx2qzlW730GnrYSOSDkrm2jU02cqdG1vmfgpNw32eWIjXVdHqeOrdv8dHSvafa/1IzZZvI1UwjaSqA0fqLogiABVQ3Woqa+sAQDVBu0QLCg14NhUnuCBXfj1JQBycD/0vQgiQJXgTvdZjp5zfmoNAFAN0A7BAnNPBhFD1N6U8DeXAPByf/S9CCJAVQj+aBJ3ummvEQEAVQXtECw492QQAUAx7pe+F0EEqCwygKg5futot/7z9QCABQbtENwpEESA+5n7rO9FEAEAAAAAAAAoBIIIAAAAAAAAQCEQRAAAAAAAAAAKgSACAAAAAAAAUAgEEQAAAAAAAIBCIIgAAAAAAAAAFAJBBAAAAAAAAKAQCCIAAAAAAAAAhUAQAQAAAAAAACgEgggAAAAAAABAIRBEVJqxI7RqcTv16Z9+rlHHE0tp+3n9E1SR+7WsYWOK8+206IkjNKZ/AqK+nUtp1eFr+tddQK4+deGodvnN//oL2/aj6Z3PvdFnVZSq9H0LVUf9tH3xOuqoQOJrs7+7k7ZeubIVEERUmvs1iJi7Rqdf2Uirmhpp0eKlSkua1lLbi900MquPmRqijld6aGRO//aSYuBlOROVKWvpiEy+lOpX0PInd1Dn8KQ+gsmdv+i16pa2UOvOE3RxSh9SEe6sjU1cOEHbn2yhB+vt8tpG+wZK5TVyai91DFrl52O+DiSCiBi1OaimsGBBRLxtRhWkIVf5Xe2h3YeHaEb/LEL0+pM0cHgvnb6qf+aiym3fyVs0vfO59z04Lt5JEEQoarO/u5O2jiCitrkfg4ir3dTGwcPyzR3UNzpJE1OzNHNzksau9FLH4V6a0IfR8F5aVr+Zum7q3zRE7Y+4ZVW7QYTdEc3cHKW+Peuorn4jdY3rjeXkb26WJkb7aXdrI9Vt6C6V1bypQL4v7KKGnf36R17Y6dmzluoa1lL7qWEaG5+kmVnO4/goDRw/QF1X9GF8XNfTjbTslWH9mwOPkxyEup09goiKU5uDagoLFkREkXJa5LH/POU30b2Z6pr20kX9uwjR6w/Tbu5b27ozgu0I1R1f3LxF0zufe99j4+IC4u07EUQoarO/u5O2jiCitrnvgoggL8t4sC381M1bVndHEKGY66Uti1OuXSR/fTvCJ52VYf75Hju8zutEpTHDA1dDPeev0JPTgL6djfEynq8DiSAiRm0OqinM1wbKRMqp3CBiPsz/+gs7vkTTO597L2y67yW8fSeCCEVt9nd30tYRRNQ2esDrGj5Cm1qCqT11S9dRe98NfYDgMaDrvdT+5Epaol6bN9KyJ3dR3/VgV8AkDRzcSM0Nwat1mQKz/LFAuwf0IVlk3UPSzp3OxUjaV9Omw8PJAYI8rV68jU6bKUtpWM7AxKltpakuWkF5FAgipJOMORdu2erfp4apY+vqIO/1K2jNS700kTrtKIq3I1JBxApqv6B/zyd/EkQ8sotMVSoHPjYAeM7lOt391Gp9r0Z68HG+v3oTErexkdfX0ZLWjtJ0K9sepEx2dut9k9S1dQXVWWnPF+DweRuW0vIDo/p3OqUyHaZ92t5Cmby7de4y1mPlfyktadlI++wpUmog7aCBvl20ZmlwjyUt26jDnobmYUbawOO6DLhsmrdyu7Cnm+m2MnK1O2wrkfYcMkkXj+6gVjPNT5WzPeVN6onrdDhqn6X73aDONp/tyVuuRtr+lpRPtP1NHF/P94raiTypNGWqyv31fup7aV1oN/H+ximDhtXUdrDfajM63Vevsa3odBuHe+4GX3s9LVN9Fdtk6w7qyjCJ1Hu5NuD0Yw82r6f281Z9Jtp1MaScEoOIrPJzHLgJtj/bBpbL8eEbyyjRvsbXn6XZi5Cj7YcEx27qsQxo/AS18nUjNnezm9qMTTl5S0+vw1SQ7rC9ypTX48Y49LlOXx1rexH7kmtw/VvjqzjUkT5ItRUeyyJ1qduPL515xhXd/qNjpTvOe8hIe3CfrPq1Sek7fX1f7H5Z7dzFU78Z7W3iwhHabrdX7g/c6Xl2+5A07h7s9o517Yn30eXm6Y987TVentxPH95GzbqcvH7PbDBl2xwTlJU1ZTFlTLDLWF37ZG+8HB2yyk3ytZ3rMqsfz1W28wBBRKVRAx53Ys9305julycGD9Ca+pUlZ9NtiFPsHHIlrzkwFDTeuVkaOb6ZljVxR6YNPXiFXPpNox18n/XUaabSZJHjHibty54uNbCJC0Had5dmnURQzm5raUBJxXUGvJ11dYKIumZ2ZK7qChkfon2tnM89Q8HvHEQHSmbqGg0ckIGZOw3TkZWZv5mxID1rrOvnCiLsOpWszU7S2Og13alFy2GEr7ekmdNi6npWzl1JW07x8coeuPN9diXVPdsTdoqS52JvIiR9PDDnDGp9zkekjAW3TF24LrvO6zwwEz07qMEKxlQd1DdSq2X3YxzgLbOnoblcPaJsvlQ23FHvWRuv68fW0Zqvb6POK9doQqZtmX0OF/u66aK51+wo7eN8tp00Tq+2z6bN1Dms7fMmOwZin3qq18y5bVTXwg6g+qUZ5OBd8jnH13vMdoYk6GjhwWwFtR63HKvnS8GdlHtd/Vp2vPV+zt/pnVz3T1vT6Th/axrWcUCmj9Fpaj5oO3wttKZ1LW05Hkxbm1C2NUsDL66kZc+W+r+gvFMeNGTdK2IDnL9WthPeZ8p7ZnTIKt9su85Lkv3nKj/lwOn2e53zx+123xVdANL3Dg4nTl30tYtYf5ZiL+45sbbvMHKgJeJgSxC6nB2yhrYTpTTKQ47HDgQ2aOeNSU9vlIEXG6nh+Z7QSZ25PkwXTb9s582UFbeXjkjeJvl+XNatB2hA1/nMlRPUxnW+XQeSMz3bon2ntBXOzyrVXvS2qzJ+JthknnFF2aR/nN8+4LuokJ32fPXrEpwT6zt139f8UikomDjXHp1ym9nOXZxyyNPervRS1xXTVtj2D/LYZk/dvbCLli1eXWpP7Kyra9hjXeZ9JF2+/ki314b1pTya61tpkDZS17TN8hH6qf3x6Jgsfc/Aqf6wvmm8h7Y84jxE9I0J4xyAc9DTdlT3WdxfDOyTqdDJ7USRUW52PxQpE7sfylO28wRBRKVRnUu8ggZe4ig07KijDXHsqM9hjD6BFIOJDmhOY84gzz38aZ+l01uX0pqj2ggdfFNe1DYVPQeKdrxW5+ztrMURLZ0bV9b5brkEv2MdrAws9XyuNL4cqPJ30vLghg4acN/klJU/dvgOaidXkyeI8NepoVQOIyedYJFRT6a3Oo6VM7DGbS6LaPoCnPxa6ZXru85HrJ7cMs1itoc2cRo6Tb2ogdSt54Sn+xpxdKJPLRnz5D9iyzyADOrfBVBO24vRvsBNi3KETHDOedpS38JOqNqlkKetDToIHtizIvy3emLM+T3N55cGSUl7abBTg4+bvysHaDmfZ4IvuWbsjZLtSOp0N7zkBOLqibXrnPGxX3Wedltk3itiA6Ugwkceu85Lkv3nKT9ld8bWTRCR5Jc5+NpFVn8WsRfrHF/bjyFvk8PAe5K6NrCd94jNcaCtnc2Ijdl5Y9LTGyUIIpLeAufImy5Ld3xVb99MmpQNRtO+6nAP7WsptQFlJ0lr0PKMK8oms8Z5hzxpz1W/Lv5z/H2ffuigDTW7nbtEy6Gs9ua0FenLYmXmlG/2fYJ0xfojxtte1ds2c30eozjYitlspo/g+EYJY4J3LJ+Teya3Ey+xcsvuh/KU7XxBEFFpIgNeiaghRRuiGINvsBJnw2xXHU3LXrpoDFq9iVhdaGDKukdS2qODRBSVL7dzm51UUfgER+CRNQPu9b2dtc8R1eQ6P1q28d+agg0pVgZzs/EnT+Xmb/aGeqshb5rCS+UIIpLqNCDId9vOdlq2eGWsY1Pn2s59qLzX9yHpKw1QhhllC5N08cDaSJ6iZRqkN2ZnCTYZcnOYOneup+WPraQl9TwgNssrY6t8pQ5i5ZiWt4R06AEj3J6VLouxc3up7esttHxpIy1pagmmMoT3TrBPJ93inIQDpAoqrLbPx9bpY2WwVU/nVDClB1g9sJjBMFrumkh+gjT57SN6jDfd3vN8ZSrkuJdb1nq6gExdaz9sPRlk8th1XpJsJLv8GKf+Rk5uo+aGRmp+ahd1WG/OfESv75ZzHnsJjklq+zGUQ6PLRwWhYjeBvQeBn/O2y8lbenodpoZod+sKWrJ0HW06aL2hU+TIm7Ivq5wNYuMR2zTplQA6aCsy1gUOs9OWXbz3cNKW0P6Vs2uVTYTcac+qX5fgnFh+vOfY1w/+7W8vnnQqounL1d7GZMrt2qBvblhJy9XUmmh+43XhGetS7xNNl423varr6+NVXXr6B/1AKtw+x2PY8R3U+pj04TKNMvj6YHjtBJtQaY/1I8npDUktt4R8RdKQr2znC4KISpNgSOUEEfKUINzOBtz3Ijv87KQ9qJyR+NzGNHLdI6URxA1Rwx1VXeJUBauhCu71vZ1qioHnOt9tnAmNVV0rf0NKKgOZJpJYfkXy5yzSrlQQUdfcTh06QLGfRqafG5DnmCjBPZNehbt5ipZpcG56p+igXnE30prXh0tOmVuv3oE0LW8J6VBPaK3taemykLdFUvanr5caSPTeCfbpplscDT0dIza9SQ128uQ1SGPg+JX+rcrdeooXLXdNJD9JZWCTku4c5VIix70SynriSi/tk/nP9S2cjmA6SHGbTSbpWtnlx/jsbu4GXTzXoQIgaZdJbwei13fLOY+9BMcktf04gVMtU+zsJ77hv1XerD7eyVt6ev3MXB2iTjWXu5Faj2aca98vyb7U2rzSdgkY1JsT2W6eqpt/q6Ap+mYvgvceTtqSbLKcICKS9jz16xKcE7NJ7zn29RPOSyWavsz2xuWkHrSd01NuhEg5JKWhyFgnRNNl422vtm+i6tIzJtvrgLiNyDTNutaO2Nqj8NoJNuFPe3J6FZnllpCvSBryle18QRBRaVQlro19nSZtOpO/43GmXCiHaX1pmkZBct0jpRHEDVEj0zyaeP/rvv1WQxXc63s71RQDz3N+7DWhbkhu+sqYzhQvg2DwDTuI+eRPOYKldHuDCHX90rn+QMNg29gkp7Mx8gUtNRXKnWfv4O/80hE7q3tkh9dpqXgQ4Stf9VTPKl91DKcnUs8Z05k4sI69AvZOZ0pIV4gvT47NOH1BiKQ7UrejagGlOMunn2XHy1rvYAKGLae6S28fGFUXO3uoSzuIhuzBh8tApnSlriNISLeaspH/DamQea+MslZvafXb0Dx2nZck+89TfvH6swnsL2mKqK9dlMo5j73Yx8Tbvg81PjzfrWwlnHZmpsad2had+uPkLT29Geh+OHh5mSNvEceuRHRKECOO+Vc7qCt8+yBIG+Zze3RArrfGkPu59uaOK6q+44FI6nSmXGnPU78uwTkxm/SeE71+djt3iZ6f1d58Y5SammWVr5qa6U5Dikw3ytOuE8qNUe34+V79SxO5vtO3GyI+guPLKOQNnVXuCf2UKgN7fZGgF/v70ivkK7fsfihP2c4XBBGVRiqxnjvtrQUWVodPVM3Cm4RFzwnOmULND0wxjLz38DQCr7FayGc9l8sCrhe76eKYXkwkU5pGj7CxWvl0r69+W3OFw8aakA/3fDXIraBN3TptsmDpwEZ6sMFunFLW3FFGFk3FF1ZH3ih4iJUB529EFowuTpnOlDN/8jcnZLHTIq6LcE2e/M0JPm73Be38yYKo5+Wpq3XuFAceXO72YvmxK6O6s3JszCzCNnnQv5tf7A3tVNIx0GfO5+Srjow7bnXtYJuaL+uxkZC5a+wgNXJeNtO+83ytm8HFZ8avBW/SrI7RLVPV4Zn50uZ+qgy57vSUqFByXVO+ZhGm1OvmFlVuYRnJQCpltK/Awmq+rnkKpGC78i6sTisHTZAnvZBU3XsHrWqy3v4lDX4eB0Ccjbqd7ezMxD+oIHWlFsPa84YljY+spmZxnKwL5Rl8zOLytsOltTozY8N0etCclzRo68Wjj7PzadqbtJXBXhpJ+BpR5r0iaRulvlPDwYcEBLOo2ZRnpl1zwLW1hZr3ZH+SWsqpIkHEaL9aIBk+URzvVWmMl11A9PpuOeexl4y270PS/5gsPrbfKst1VlBzi6wpsM51bDM9vTaTNNDTTyNmvJEx6PV14VS8fHkrPRE2f8R0JrY4mdFTtFY9EV9L1NyyOtnRF/KMK6q+G2lJWykdE+d3UbNMHwvHeZc8ac9TBnG8faf3HOf6me3cxTk/q71xGuSh0mmzkPxqN235+srIWyMJ+JZxXUUWPj/fEp2Wmtmuk+1O7LOOr787ZWF1+MbY9KuxhdXB9cMPOiib2EzL5QGqOcbtAwxqYXX0Qx0DB9bzWO5PryJHueXqh/KU7TxBEFFppBI3nKCRgb2Rz2rFP+PmGNDNftr3lP40GXdOsU91seF1bpB9JQWfCtNGlLoYSpN1j4RG4DVWFz1/z3y6Tk27am6h1q0HqM80zNj1eVB5pfR5snb1aIg7iyQD96TP/nyZfGJvOzdUSW+pbKWsN1Kn/EE387m0hpXUGvnEKx+TsvBTkGvaZa/y9/hG2m3Xa+78OdfiAav5qb3Op9min5wLPl06zHlxysb93OXjB/QfgfLY2JUDPMjx+eYtGZ9rfx5V7CnyyTo9fzn49F/w5G7k9bXBFIfgCD9m7qhan6DzKHM6v76R2k9yJ6wPi9mV9Wm8urYTweCnylRfw5YeHIO55rJN8i6B4ijXpVVG3Bk3sMM4ctyUZXBc1ideabSbtpu8S/24nwRMaCsxImXIdvcKD9bSVssIIszbKu+CUPUGxrXh4Npuv5Br8GFmhuWvjhvbCvqx7T3mvIR0C9xX9dmfQlT23VEKkD2k3iuStlHqtPsZX92k2jUHEU+z87eZAzv1OxnV5isSRLCjyA6AyZv385EW0eu75ZzHXjzHuG0/RvBU1W3b6kGC+8Tdsc309NpwgLlnvVobpOqO22J0DMqTN4b7F/tz5/6pvfqNnzsm8rWkLab19ULmuKLru2swbZz3kJn2nGXg4us7vefEr5/ezl086ctob/YYuOzJvTRwU6buRvsaKe/SJ7iTx7rk+yTbXd/OFTz2cr9hPi3s6zOYkVM7wjR426hdxrKffS8ZD0PbTxkT1Cdew3N9fopLdrnl6oeYXGU7DxBE3A3McQNpXUltrw8Fny7TGpPPtemvUIRzQEFxwjnl+jdIoDR3GtwJggWuW86lO0AAgCqT4jACcD9x54OI23P04W9n6K3z0/Td7lv0nOidaXrr17P04eQf9UH3OZGFVxZqMa5ElJPUtaHYPGRgIa/8Cs0LvV+R9S9Ji+hB1RntoOa0v7cAAFgYEEQAoLhDQcSfaHx0hr57bJI+/eokfSJFnz40Rd89P0vj4dST+xC1IMuaoy3MXqPTL66lupYDpXnaAIB7E/1Ht5rdb7oDABYeBBEAKBY+iPiPWdp/fJIe8AQMaXqAg4n9v/lYX+T+Y2LgALWZP00vc9uaWqh154nYvD4AwL1EMNdX5sU2b+3GAwMAagEEEQAoFjaIeH+avvKaP0jIq6+8M0vT+nIAAAAAAACAhWfhgogPpulRT1BQjh7+KQIJAAAAAAAA7hQLE0T8xww90+EPCEK9NkkNh7SyjmU92ntbXxwAAAAAAACwkCxAEDFHbx33BwIlTdGhP+jDFXN0LM85SZ8yBgAAAAAAAFSN6gcRF2/R57xBgK1bdFYfbjjb5TsuqgdOzGBaEwAAAAAAAAtMlYOIj+nYUX8AEFV5QUT8DQYAAAAAAACg2lQ3iBifprVe599VuUHEJDWdw9oIAAAAAAAAFpLqBhG/mvI6/nGVH0R84ug0jetzAAAAAAAAANWnqkHE5bOeIKLjFr019jGNj9vy/AWlSfeY2/SWL7D40S06r08BAAAAAAAAVJ+qBhHetwldM3pvGQzeil/P8xYDAAAAAAAAUD0QRADgcr2Htrc00qLFS6muaS8N6M2Gvp1LadXhyn5feKJnBzU3LOV7NtKyV4b01gzOt9OiJ47QmP4JQLUoyz6LkNHmwHy5Rh1PLKXteG0PaoJJunhwIz1YH/Qpbd039PZ0qjH2gvlR1SDi/Juuw886OY8gwrvGosaCiKkh6nilh0Y8M7TA3cAkdT3dSM37hoOfs7NEYz20+/AQGcudd0d2NXo9utlNbfWrabe+5QzfMhcIInIySQOH99Lpq/pnAiOn9lLH4KT+VS3ypcXPfM6dB+XaZ248bQ5UGAQRuXH7Zx95jqkEC3WfKhPrW4f30rL6bdR1k/89N0szOf2lmgsi7pH6mQ9VDSI+7PUvrG46cYue67Y1Q5f1OYbL77rH3KKv+P6S9Y+nY+feUVTj2Bw0DnAX0k/bF7fQviv6JzNzbpt6OnpR/55vRzbRvTlyPRUMPHaARvRPLxd2UcPOfv1DgyDCAzukG9ZRR6RQhml3kzztMoOY75jAkV32inZkq4abliLM51w/Eyc3ZttyHvucF/E2B+bDELU/0k59+lcAgggfPvuP9c+evjd2TJVYqPtUl3jfOnZ4HS3a2pPqfPvqptaCiHujfuZHVYMIGs7zh+ZE5X+d6YH5TI8CIIY4NK6DGaXiHVmOYEB1uggispnj+qtPr79cx9wn9O1szBdEVNXOstscKMDYEVq1GEFEHvLYv7fvBfMiT5n66qbm3kSAKgcRc7P03I/8zn9U5QcR3xqosXlDbgcuA/DOXpro20VrlgZzfpc0raf2Pv8cwInj670D9sBLK6gubHSTdPHwNmrW16tbupo2HR62ovpgwIg1NscZkAa5/fwkDbyyLpibmOAoqAYf2+cM/Nd7qf3JlbSE0yNzHB9s5jzytUPs/fUraM3O7siUr7xpUcdx2fW9pI/jezVvPUIXp/QBTNq1ZoaP0KbHuSx1OuxzJ07toGVq3reRzp+n3KJlG62PJS0bad9AytPi8HqT1PWsKTOtWL75mK06vaG0fanrdNBAlm1llH2MOS7fVzZG7Ku9r/QUP932TB1d43SvDspf7vnKEM3MjVKn2abqzWMDGXWbWtbDB/S8/ZKCerIcqMRjPPUq5fDS+tAm4mUr12UbGR6mDs6XKd94mm1cZy6an0UNK2nVUycSnvo750r9ZzqLSdcfpn16DUIon+2l2GdaW1JI+rjPmhncq+0zHigktblcfY70tXzMRUmHWU/hsccYTl+17Mld1Hc92KXQ1x252h1eN9H5znmtzDQWaHNp/cvEqW267ZQUpF3bxakMW43YPPfjrTuoa1TvS2Bm+ARtt8ugjcsu3JfHRnpp5KTJn9xzLw3wMSPH7Txvoy57Gp8+LzKu8jEdw065JPZ9Kfav+lX5d1bfG7XPvHnN6wsonPvIua1NOt18j+Vib4mzHtL66hvU2baUWo8791YPWFZQ+6D+XcFxO+hbudxNGRnFgonkulHXeb0/MkbE2hwTqYuG1dR2sJ8mwnTrfvtqMEapvJk0FLX/+dSPTJN+yoyHul1XfTpt5aluEMFcfsfv/EdVZhAhn3dNc4buBL4gop6doZfYiPVU3zHu6BOnPM320Jb61bTPNtw5eT1datgjPMDWNUmnqi843k/tjzfSmtABCgaMqKPLOAavGmTremrd008j45M0cdM/Fzl7QOcOqZWvdXA0nNs4MzpEF80f8JjlY5tW0pZT14L9c9x42Tmpe7b0OjNvWuS4uob13Nh05zerr9WaI19Xj9Caejsd3GHsWUtL+NxSx+g4KoKv3KyyHTu6jq9xgAZ0ficuHOD7OHVo41wv9tuD3DPW2dq2pdM/ca49als5yj7KJN9LypPzc53LbW6WJsZGaUwPhtm256mjMXbGHmmk5c1rafs5ve1mL6crOojlqdvMslbtz6k/17H2HuPWq1UO+l4zV05QG5elDJoBwXXrmjZT57Auj5s8ALZGX91HcdIy0E51j+yg02FbuUEXL3Bd6Z9RnHOl/rOCiNTrB8fG+gkXn33maUvqvHXU2raX+ka5HXJbNP1DlHibyx1EiBPxdMlZC+xhZbh+I8aUtAe21wNDQZth+x45vpmWNXE5GodPrvvYOlrz9W3UeeVacrrzXiszjeltrqz+JcEulK1e0bY6O0odEVudpYEXV9KyZ7tpTB8SjFXb6LT+HSO0A933T01y8KXbb14b4T6sNSxDcezY+WtuoVXicKttQfksajtBE+okJnberE7rOuo09pHZ9yXYv2PviX2vbZ8F8prbFxDs+1zne7D97zP1J/Y2OFwqE4esvlqmCy1q6Yg8sFBTdx/ZFXzYoMLjdmTMlPYdCx5s/HWjxoj6tdR+XtsYl/NpaTtPd5fKgdvcmgYuJzOO6D65mf2TALl2C61pXUtbjg/TmKRbtbUy7H8e9UPjQ9R1XpctIx+vaDBlfxdR9SCC/mOGvuELACIqL4hY++7H+ugaQg0abhDBv01HohilfY810navtczS6WfZ4TpgjRB8jbBhy0DKHVHoJBgGd1FDeJ8CnaPdMSdQJIjwoTord/7j1Q4up1LjzJsW1Ym4nc/4CWq1nIukaw282Bg/VwVodnna+dJ4yq1UtnJ+fD533/NLo3Vo41wv9tuDypM3iEi3rTxlH0F3hJH8h+SxPX8dqfQ76Rg50BLJk++8aN3mKGvV/tz0B+0hTLf3mOD+Yb0mlEP0TaG/nc30bKNFVuATxUmLcfITnybaOOdK/ecNIrzX96c/hsc+c7Ullb711GkCmETibS5/EOHWEfefW5fSmqOl4NRGHPL4dYOnsmE5qOtaT2MTyH+tjDSmtrky+5cEu0i1VVlAH+sX+LyvLqVNPX4vymsHmtw24vZhKv1OOq4coOWZ42q07LP7vgT7l2tb9ZrY91rHlJ3XVF+Ase9jnNSEao+So6+OPbAMfA/jbFd63LbLeV5BhHue2AbnyRThwJ4V8bbRt8Na1xVcu+El5ytzZdh/+fXjgetjE5/f6bxVqXWqH0QwssD6AU8QYOsb794u/WG592foW75F1JYeODxNlyONsUZQg4bT2cUGmsCIYw3cIA1dggaVv2jDTnKAjAEG2/N3jrFjPOQa0PWrf3kl1364P4zkBdXRyOu9mErn502L/zjprEvl6T8moUz0gF7aHndoUstN1Ycvb6ykTtK1Ca+NRFFlmDGQBURtS53nS5vPhgS5ZswB0eSyPX/5yza3Y3cHEt95kbrNU9beNDrtLSEfkfsnlUPEmUlox6n16Z6jpwI0rKA1Ww9Q1xW/8xvgnOtNY5HrB8fGy9whlp+k85y2lFoONvMJIuJ15LejANnna5eRgDbhui7zuVYuWxPU+Zad2/LcW5HLLjR2HanzPPdh+cszzX7mYSOyzV3I75aj7zxGHEhTLqp+PHkp9X0JaXSu7a3nyDHzaQ8J9WJwzlHTvhrYH3hqF3VYT7FjqPKK93Hxvtp6YKmcaHufW25G0WPi+Y7jHjefICJ2v4htBOf50x09xtsWvOel5LHc+hFuDlPnzvW0/LGVtESmPjXL9CtPndU4CxJEcEiee41DLr02RYey7fbOkKuzy+g41NMJ/STMfVqQ1DlEOgB/A3TTkrcDyDWgayau9NI+mWdY38L5C6Z9qM4otcMovzMKmE8QMUldG+zt5QQRBRu+axNeG4niLcMctuU9Lw25ZswB0eSyPX/5+7aVF0RklLX3GKe9JVwncv+kcpAvteQZjBLrM+Gc2Ws0cDyYK71E5pR7Bx/nXG8ai1w/ODZe5g6x/CSd57Sl1HKwufNBhO18Jl3XZT7XymVrQoKtplLELuw6SkuHlzT7mYeN+La55eg7hokFEZ76KZGQRufa3utEjplPe0ioF4PvnLkbdPFch3poV9fMZWKmztkk2Y3TV9sPLNVbVuutQnb5OXacgntctYOI9DQllLmUdSH7Z8qtHzVVrJHWvD5cCjTKaes1wAIFEczcbTp2zBMQFJUEEB/8SV+0BsnV2WV0HMzIwdXqtZ2aoxh5Xei8IjXkmM7kDsx5OwDvgJ5h8KpD0q/J1Wt/Z+6lS5HOKPaK1TOdyXctGWAyXzkXDSLk+PpG2nIu4XWnD9cmvDYSReU7dSAzRG0rT9lHSK3XPLbnL3/fNl8QkV63Ocram36nvSXkMZJGd7DV+KYzxcojtT4z2r6xR+/0BudcuY876KmFkXmvH1zP11YiePKTqy3lsOuAeJvL1eeo307+GZ+tGdQUjViafFOQ4td1mc+1ImlMsMeAMvuX2D1z2KqajpGy1sKDPMmO2YGmbBvxbXPLUeXRnXoSLfvsvi/B/p37q34po+8tvz1k9AfecwxBfv1T95x7G5y+uvTAUq4VtbNKj9v2cdULIrguZGpZ4po/IaHMy7D/sutHznPbqHrLndQP1C4LF0QIcx/T+VNT9GlfcJBDD7xxi85er+EAQvB1dkU7DkGcJ27s27mTdr+gII27rqm9tFjSs7j14isr+b576aKeCz1ztZu2SGRspSVvB6D+9gUb9+4LekGpLHh9Xt42GIMfpb5Tw+FisXCxk+kk9ALE5hd7w2lOMzdHaaBvNPLUI29nVCdvOcwC3dlR6tzAHfiG0sKqxGtx3cjit/Bc3+K3wkEEB3zcIcqCxQ6zkEsW+V3ppYFopZdwbSK1IwoInCru0CWdJq15bCtH2UeZpNNb2U7sBcVjwzSi/53H9nzl79vmCyKy6jazrPXXRbac07aqysopE+8xbhqDRXZ1rVzmptwSFlbH2nFqfUbPmbjQQ32jpYF75koH22jSQOLcTwIdzsembp1mtueBAxvpwYb81xcnsOF5s4A12BbDl588bSmHXQd42lxmn8O4fa3GZ2sh4RNAvRBYFj96F0PHrxtjHteKpjG9zRXuX9Q9rbnZqj7y2Kpe4P04t2+zGHd2kkYGe2kkac0OOz7Ni63Ft3L8Ff637CvXRhLsLTaucnC1PFx8zWV/dCM7yBupy/RNucYdj/0798/V95ab16R6MdjnjPar6Yjhk+tx+TiFJ1DQ5OmrBXlg2bB5M/sbTlBW4XHbPi47iPDXjfd+rm3oRe5th/Wie0ba0+lBc15SmZdh/+XWj2mjZhH2+BDt29yi+jx/31+7LGwQofgTjf9mmp75sT9Q8Oq1SfoGR8jjpnJqGV9nV7TjUATzKRct5k7RY8Ajp3aEn4nzfjJwKviUX/ipzKd4gBrmtFlpydsBSOOKfWJwkK8vn0kLWg91PrW29KlGdmxin7e73hv5nJmkue1g6S89FuqMXu+NfD7UvVfqtUa7aXsrO6ZJ6SwjiFDlc3xH6dNu6rNzO+h0tNJLuDbhtRGHqSHabdLdoBfZ57WtjLKPIQOg9WlTOd78MWEhy/Z85e/b5gsisuo2T1kH81KDfUEAHi+T+DGeNM5N0sDBjeEnYf2feHXKWkitz+g5E+d3UauaC5t0D5v4/exPCtYtXUfb2ZmTfOS+vvUZU3nj6U1zUn6y2lIeu1Z42lxmn8O4fa3GZ2sRbvbTPm4P4SdJfZ9l9VzXS5nXittaWpsr2L/w8WodjO772623Tpm2KumwPjWr6vWpDhqwnUuHyOc0JW3P9pQeUJRjI75t3nG1g/rsT8M+7v/Ea2rf57N/9/55+96y2kNCvRjsc0ZPUNvXzad0g7xkfc44008Q1Ntez0JjoZLjtnVcniDCVzfe+3naWPSzw0G/t73HnJdS5kXtfx71Y49BYrtdV0ep46sIIgrwJ5q+OkP7u6eoybeImgOHpmO3aP97HDzc1qfcZ8gCvfTXcvcfeTstcPeBus0iw+EA4H7B65ADABaaOxhEuHBQcTP4OtP03fDGoeqMqj+4Umgu7H0AHM17F9RtFggiAFAgiACgJqihIAKEyPzO19dRXcuB0nxKoICjee+Cuk1B+gG12Dv+NwMAuO9AEAFATYAgosZQcwVlDp/7Z/6BAo7mvQvqNokhatdzZ1e9krKWBYD7BQQRANQECCIAAAAAAAAAhUAQAQAAAAAAACgEgggAAAAAAABAIRBEAAAAAAAAAAqBIAIAAAAAAABQCAQRAAAAAAAAgEIgiAAAAAAAAAAUAkEEAAAAAAAAoBAIIgAAAAAAAACFQBABAAAAAAAAKASCCAAAAAAAAEAhEEQAAAAAAAAACoEgoqaYpIHDe+n0Vf0TAAAAAACAGgRBRE0xTLubGqmte1L/BgAAAAAAoPZAEAEAAAAAAAAoBIKISjN2hFY9cYQuDh+hTS2NtGjxUqpbuo7a+27oA4Rr1PHEOuq4eo26tq6mJXzMop39evtS2n4+OKpvJ2+Xfbb42mPBbqLrvdT+5Mrg/PoVtGZnN43MBbsAAAAAAACoFggiKo0EEYsbafnz3TQ2G2yaGDxAa+pX0vYBvUEFCy20pnUtbTk+TGPjkzQxZbaXgogIc6O0j4OStpM6GJntp+1NK2nLqWs0I4HDHAckz66kumd7aCY4AgAAAAAAgKqAIKLSqCBiHXWErwsCBl5aQXXqbYMQBAsNLw3p34bkIGJgz0pqeL43DBAmTm6kRVudgOFqB997G502sQoAAAAAAABVAEFEpVFBRDv16Z8G5fSHU5GSggX/9pnz7bSsia+p3lYEeKc6KcUDGAAAAAAAACoJgohKU+kgYiqYtrT9fPSLTSqICN9sAAAAAAAAsHAgiKg0KohooX1X9G+NbzpTdhAxSX3Pr6Ble9xpT3ybo+toUUsHjejfAAAAAAAALBQIIiqNXli9pI0dfLOw+vwual68ktovBL/zBhHy9qKu5YD/i0vqDUUjNb/YGy7gnrk5SgN9ozShfk1S19YWat7Tj4XWAAAAAACgoiCIqDR6OlPX4F5qZSdf1iksaVrv+cRrVhAR/Du+5sGaKnW9l3Y/tZoerA/21S1dTW0Hh3TQwEHE0xzMbO7RQQUAAAAAAACVAUFEpUlYEwEAAAAAAMC9AoKISoMgAgAAAAAA3OMgiKg0CCIAAAAAAMA9DoKISoMgAgAAAAAA3OMgiAAAAAAAAAAUAkEEAAAAAAAAoBAIIgAAAAAAAACFQBABAAAAAAAAKASCCAAAAAAAAEAhEEQAAAAAAAAACoEgAgAAAAAAAFAIBBEAAAAAAACAQiCIAAAAAAAAABQCQQQAAAAAAACgEAgiAAAAAAAAAIVAEAEAAAAAAAAoBIIIAAAAAAAAQCEQRAAAAAAAAAAKgSACAAAAAAAAUAgEEQAAAAAAAIBCIIgAAAAAAAAAFAJBBAAAAAAAAKAQCCIAAAAAUDUuX74MQVCNqRIgiAAAAABA1RCHZXx8HIKgGhGCCAAAAADUPAgiIKi2hCACAAAAADUPgggIqi0hiAAAAABAzYMgAoJqSwgiAAAAAFDzIIiAoNoSgggAAAAA1DwIIiCotoQgAgAAAAA1D4IICKotIYgAAAAAQM2DIAKCaksIIgAAAABQ8yCIgKDaEoIIAAAAANQ8CCIgqLaEIAIAAAAANQ+CCAiqLSGIAAAAAEDNgyACgmpLCCIAAAAAUPMgiICg2hKCCAAAAADUPAsVRFy5coX6+/vp3//93yPbx8bGaGBggK5evRrZvlD63e9+R11dXfSb3/zGu79cSX4kX5I/3/4iun79Ov3yl7+kkZER7/77TUXL9saNG/TrX/+aLl265N1fa0IQAQAAAICaZ6GCiB//+Me0YcMGeumll+jDDz8Mt4vz/k//9E/03nvvRY5fKIlD+p3vfKfi95frSb4qEZyYNJ4+fdq7/35T0bL9/e9/T//7f/9vZYO+/bUmBBEAAAAAqHkWMogQR+5//a//Rb/4xS/C7fdqEPGHP/xBBUvyFNy3v6jkWuIM+/bdbyqnbK9du6beOvn21ZoQRAAAAACg5lnIIELU3d1Ne/fuDR06XxAh03cGBwdVsHH+/PnUaTziSF64cEEdJ8fLlKl/+7d/C992yBQWmcpiO5z2NjuIkH/L+XIt+bc5Xv5tjpe0yH1kepGkU/ZLHn7+85+rdNjn2FNustL5/vvvq+PlOrJPZK7nm86UVkZyL0mvyYOkT46T4+1ySLunLft6Jh+SdnHmZb9c3+RL9pl72OeZ9Mq9zJQ2cezlOm55y35Jl6RHjpe6kWPNfrdsJe9mqpLkSc6Ta5pzTDrMMSYtcr7Jj9zHne7kKx+Re1ylhSACAAAAADXPQgcR4piJ0/7uu++q7W4QIftfeOEF+va3v00HDx6kPXv20NNPP00/+clPQufU1r/+67/SP/7jP9Jrr71GR48eVfeQc2QNhuyX3/IGxH6Kb28Th1TSI7+fffZZ9e9t27bR888/H15D0vbyyy/Tj370I3XMv/zLv9DGjRvV71deeYV27NihtGnTpjBfco495SYtneIEy/mS7yNHjqj9+/fvV+fIuSaNZjpTVhmZ6TvHjx9Xxz333HNhms01su5py72e3Ff+LUGEnCf52rdvHx06dIi2bt1KP/zhD9U55jxJ186dO1UaTNkeO3ZM/V/yJdczgaU4+K+//rraLmUu5SX77WlwbtlKnuQ+Uh9btmwJrynb7HRImcvxUp7yRuzkyZP0z//8z2H9ST4kqDH3kGuY+uro6FC/pazNfaslBBEAAAAAqHkWOoiQf7/11luhg+cGEeIQikNnL8A+deqUcjjtp+0i1zn0SfaZe/m2GQddHEXzdkTuLWno6elRvyVt4mC+88474TXeeOMN5RQPDQ2p33KuOJjGSbcd3ax0uk6xKzeIyCojcz9xwk0g5KYh65627OtdvHgx3C7nSlAlbyDMNnmqL2kbHh4Oz5NykcBH9st2CTTs8pbzJX+ST3MdW/LWQAIhk1Y37VIe8luuYwJN2Wau6ebdlKcECCZdbhlLkCSBgx24yrZXX301fANTLSGIAAAAAEDNcyeCCHF+v/vd79KvfvUr5QiKAyiOoTlOHD5x/My54kTKU2D5v9lmJE/O5Xx5qiwOquvg+a5nbzPOo7m/yHU6ZZ/r5LrXNecYJ9R1dNPSad4K/OAHP1COsH0fkevgZpWRmxaRm6ese9ryXU/k5tFsk6f7dhBhn+fWtznHLl+xDzlHAg2RvGHICiLc8pBt5ppu3k152mlwy1iCMgl+zJQoeUMiQYcbWFRDCCIAAAAAUPPciSBCJE91Dxw4oJ5c206lz0H2OZ5G4tz97Gc/o+9///vqbcFTTz2lrmucP9/17G0+h9J1OmWf7eS617DPMU6onGM7ulnp/O1vf0uHDx9Wjr18xUqe1pupUa6Dm1VGblpEbp5Eafe05bueSO4l59mSKVNyDznHd56vLu3yNcGNTG+6k0GEvKFob29X9ST3lnzJVC5zz2oKQQQAAAAAap47FUTINBtxFs+ePavmyxuHrrOzUz0BNlNdRLKoWOa6S8BhtiVJFr3KdcVhl99yT9fBtLf5HEozNUkCHfltO7m+a8hv46gaJ9R1dF256bQl95d7yzoACTJcBzerjNy0iMw2uw5sufe09/muJ8qqF995WUGEr9zk37LfbHOPkevLfeR+5hzZZq7p5t1X524ZS7uQ6Vujo6Nqn13W1RaCCAAAAADUPHcqiBDJgltZVyCOqHHo5En4M888o76uI7/lCb6cJwthzcLaNElwItc06xnefPNN9URZpsiIc/zTn/40sujWOI/2E3iTBrPNdnLNMZIm23F1HWafM2zLTactmS4jfwBP0i15dh3crDJy0yJyHWlX7j3tfb7rieRp/f/8n/9TTfGxAw/zb995Uh5pQYSZliV5lClfEqBIwCRrLxYyiJA3IlI/IlkwLtvlC0/VXg8hQhABAAAAgJrnTgYR4kjLYmCZMiJPtWWbOMTypF2mj5gpMuJAmv2u5Om5PZ1GJE/T7YW8Mkdftss0Ijm+r68vdDrFYRYnVdJgzpd721+Dsp1cc1/Ji+24ug6z6+impVMcVikHe5+kwQQYroObVUZuWuxtpg6y7mnLdz0juafc276OBCIffPCB97ysIELOka8zmfqQupHAQt4KLGQQIW+Idu3apdaLyIcAJJAQO7K/ElUtIYgAAAAAQM2zUEFEUckTX3Hs3Kk1PomTKMeKfNNOzLWyniKbp/7VetqclU5zf/l/nsW7RcooSUXvmSRzHduRn4/kOpW6VlFJeUqw4AZNEpDKmxcTvFRLCCIAAAAAUPPUahABQXdKErzImwv5cpW8sZHgSN4YyZe1fJ8arrQQRAAAAACg5kEQAUFxyfoHmUJlpozJ9Cr5LLFMhfMdX0khiAAAAABAzYMgAoJqSwgiAAAAAFDzIIiAoNoSgggAAAAA1DwIIiCotoQgAgAAAAA1D4IICKotIYgAAAAAQM2DIAKCaksIIgAAAABQ8yCIgKDaEoIIAAAAANQ8CCIgqLaEIAIAAAAANQ+CCAiqLSGIAAAAAEDNgyACgmpLCCIAAAAAUPMgiICg2hKCCAAAAADUPOKwQBBUW6oECCIAAAAAAAAAhUAQAQAAAAAAACgEgggAAAAAAABAIRBEAAAAAAAAAAqBIAIAAAAAAABQCAQRAAAAAAAAgEIgiAAAAAAAAAAUAkEEAAAAAAAAoBAIIgAAAAAAAACFQBABAAAAAAAAKASCCAAAAAAAAEAhEEQAAAAAAAAACoEgAgAAAAAAAFAIBBEAAAAAAACAQiCIAAAAAAAAABQCQQQAAAAAAACgEAgiAAAAAAAAAIVAEAEAAAAAAAAoRIWDiD/R9NVZeuv8NH23+xZ999wMvfXeDJ0d/VjvN3xMg7z9/NU5/dswRx9e4HN+6x6vt/M5ts6/756vmZils+qYWRqPHfJH+nA4OP+s7/w/cPr5vA9v6d+G25zmX8/QoXdu0XOct0P6+h/e1vtD8pZBUl4107fp/HvT9DJf47lT03Rs+DZNe7P7Jxq/HNzj8sSf9DZNUl64DMZ/y+f8PMjLyz8Pzj8/9ke9HwAAAAAAgGQqGkRM/2qKPv3qJD3wo0lqOGTp+DR9qI8JmKFn+Limc64Hfpv2/3iSPtE1o38bgu2R63bwb77GF96coWl9lOHDc1P0Cd4naVn7ruOkX5umJtn3Gt/nx266mMFbfO4U7b+mfyt0uuR+dr5Y372oD9HkL4OkvPI1hm/Rw3wNuZ86V+f1gUO36Ox/6INCSml74Og0jeutCm9eiC6fnVLX+zRfN5LGU7P6CAAAAAAAAJKpaBBxtoudWXZ0BxNeEJQoL4iIHv8nGjwtzvMtOq+3GM6/yds5QDjUzf8/Hg0yxvs4wOA0vixpzRtE6MBj7fnMjBUog+S8vvwGb+9wAob3b6k0fCHm6OuyefMWfYX3vzxivY1IC4iccgEAAAAAACAvlQ8ifI55jEoEEcyv5I0DO9v6p8Gk4zI70Q/I/tCh/5iOHZ2khjOz6ml80SDimUH9O4X8ZZCQ1/FpWustmyDt8Wubspmlt05M0gMnrOAgLYjwvAEBAAAAAAAgDxUNIi6/w84pO63P/fq2TOlPoRJBxBydPelzqrUjf5i335qhb/B9nruon86b38NmylP8LYbX8ebzvsXnfe74NA1eT3/FkL8MEvI6cosa+F6+gOX8T+XabtBklc1oMA3q5VG9yxtEzKlg4xM/mqJDv/04YZ0FAAAAAAAAyVR2YfWtWdrfKY5uoC/8mJ3pczOexcflBRHmuqHeYIf6D85iYkYFEeoawdP7z/00mAI0PSBrAYI3EyaIcN9i+B1vonE+V5x7ua+sd/jKiVt0LLZYmsldBgl5Vff3BxH+NFtBhAQIxzm/fE31NiIhL/QHDooOldLY0DlFL5/3LUIHAAAAAAAgTmWDCMPkbTr/81v0rWPB4uYH5K2A3hVQ5puIM+zojn8c6P0ZepmvL4uNo0sVbtOhw6VrjL/Ljjcfc5n+pIILM92naBChmJtTXzXaf2qKHuVAQjn7FxI878wyqEYQwYzI24gpOvQH/ndaXuQrUtdn6a1zt+gbXF5Ji9QBAAAAAABwqU4QYTF9Xhxf15Gt0JqID4K1CjI9qYRzDb2e4eXRWXqOHf9v9AdO/3R/GUGEzdwsfVee5sfSGsdfBgl51en91q8S3rD8yJ2C5ZaNfvvSPZs/L9Yi9Vh5AAAAAAAA4FD1IMI8WQ/n6Su0A33ScaDnguBCFj5HSQgivAueXed8ll5mZ7/puExHmqJj5huo2sE+NKZ/G3I73vo+J7KDiNQycIMIvW5DBQER9Feb3M+4+srm4i36nOTtV7K+Ik9ezFuOKXorR3YAAAAAAMD9TWWDiGk91SjUbXpLnp6zcxo67xqzAPmZ926Hx549Ffz9gnAhdIh2lO3pTHz8+dPi+MpnTfVhCn3s2ZJT/WEfBxDydxDY4Q+TkRQseLf/kabD+2r9dpoeFWdfr7cIyV0GCUGEWficUDaxv3vhCyLoYzrUOUlfeGNKBROxPE66aZyl/TIFLPaWAwAAAAAAgDgVDSKCp9niAEfVdHo2Ptd+7jYdY2dZ1gvYx37lHc+xxuF2jhU1nXKPT5oq5VAoiAiu6d77gUMcGDjn5y+DpCCC+Q926o8H6xTsazway6vgCyKY4Vv0BXVe/G2LmhblXFv0jfMZZQYAAAAAAABT+elMsvjYesqd+QnR26Xjixw7fjPr4CpgP8Gf/KPe6KFoGSQR5rcKebXLEp9lAgAAAAAABaj+mggAAAAAAADAPQWCCAAAAAAAAEAhEEQAAAAAAAAACoEgAgAAAAAAAFAIBBEAAAAAAACAQiCIAAAAAAAAABQCQQQAAAAAAACgEAgiAAAAAAAAAIVAEAEAAAAAAAAoBIIIAAAAAAAAQCEQRAAAAAAAAAAKgSACAAAAAAAAUAgEEQAAAAAAAIBCIIgAAAAAAAAAFAJBBAAAAAAAAKAQCCIAAAAAAAAAhahoEPGJVychCIIgCIIgCKpxzRe8iQAAAAAAAAAUAkEEAAAAAAAAoBAIIgAAAAAAAACFQBABAAAAAAAAKASCCAAAAAAAAEAhEEQAAAAAAAAACoEgAgAAAAAAAFAIBBEAAAAAAACAQiCIAAAAAAAAABQCQQQAAAAAAACgEAgiAAAAAAAAAIVAEAEAAAAAAAAoBIIIAAAAAAAAQCEQRAAAAAAAAAAKgSACAAAAAAAAUAgEEQAAAAAAAIBCIIgAAAAAAAAAFAJBBAAAAAAAAKAQCCIAAAAAAAAAhUAQAQAAAAAAACgEgggAAAAAAABAIRBEAAAAAAAAAAqBIAIAAAAAAABQCAQRAAAAAAAAgEIgiAAAAAAAAAAUAkEEAAAAcK8wN0O/G36X3jn9Dr3Td4l+N6O3AwBAhbmDQcTv6NWWT9GnPlXSqoO/0/sAqCBzo3T8Hx6m5e2/ouqNp+/Sty1bFn27T+9K48NXaVXFbF+nYcu7+nc1MO3223w3l4W4P6gFZga+Q8sfbqPj/643VJR4WzJS7aSibebe4qN3X6KVn+Oyql9FG59/jjZ+5a+53P4Lrfzeu/TRnD4IAHDPMHq0jR7+/36HfjWlNywwdyyIeHeLO0Csolc/1DsBqBQqgPiitrHPVCmQiAfEfifbQzWCiJZXOUXVAkHE/Y4KID6r7fyhagQS+YII2FmUmb5v0xdNWek+4HcHV4Vl90UuL7yUAODeQQII0+Y/c4cCiTsURKQ5IgBUiEgAYVSNQGIeznuVn6qqYN1JV+BYlNv2EETcz0QCCKOqBBIBwcOmGnjApNtprreLd4IZbnv1Vp189v9OD/+/H6YvylsJs+1TX6Tv/EofDwC4q7EDCKM7EUjc+TcRPser79uRgikd4z6hshwZ1cnLYOM6OSnngHuaj376bTWQxrWcXhrQB1UE602E60BrWy4FCU7AEQYRr1p2WrJREwS8ar25k2tF3uSF94w68ZFj9Hb7yaRS7rZVOj5Ii68dmfvzMaY8jANo2nSYVlNmeAN593CJXmnxtSfWt45rO6os3iDCCbyLtREh2dZj7UPOs+1fSacnabug932b23XpGL5P5JzS8WFgb499kTRnwOd9Jrxucn4+83yBawIAapOPuunbvn6YtfzlhX1SUDtrIkyHGXayQQcrA0Hw9Kd0vAwQYefoOGPh9dT2hIAidJwAqBRRxyQMGnIGEXKM2Hno+Oj2EP6W4yM2bjskxhkxTrxxFHz27rYJIa2dJLS7yPmGUhnE26hzD5P2Io4SuO8I7N9yzgVtO6ZNFWsjKbbu2KTYr3nzYGw5+iZCznXs2bQ1Kx2Rds2SdLvtPNquSu0oer9kSueLltPf/+936aPYdtZXfhykDwAAKsAdDCIMfscj1nk6HbwQGWA8++2OPCLT0YN7m9/9KvhCSUzv0mi1Xvk5zkP+NxH+/a4T5f4O2ov5rc8N24BzL4UniEhrJ552FaTBOj/EvX/0XnbbTmznoIaZodE+X3ti/apkYZXEtXeF02YKtZE0Ww/tNZBtm1579V3LaddhW4i1o2hbibZjJtZvpPPR0b/3psOkO9Tmd4ITAAB3L3O/o1/5+mHWu79d2JVPNRBEMFYHm+hcxDphZ7DQ+yOdrucccB/x71z/7vxt0UPs1FZz3qDtAOR9E+E6F3q/67CnOkiOYxK7lyIliPC1k8R2lxJEhPdLeOobTnfyXQPULjNc9+4aI9Fn2L5H9TGVxbV3hdPXF2ojecYEc4x1XHxc0rbs2rbTrsN2H7uvaQsJ1y8YRNBvX6Hlcj2l0puIj/peob9fbrZ/itYclq0AgLuauVF69SufCdt1SV/kPuS+CCJMBxyV6jCtDlw6VDUgqI629JRIHac72cROW+GcI/B5uTtmcPfjBhIcQLxT6XHUdjosKYcg3CdOjPWk07Fbc3zgALG0c1HIQXIck/C3uffBaDtS9zso6UhrJ9F9xtnxBwCldh051gpiVPpbVnnaKrg7cAMJDiB+WJ0AQnDtXeH09cXaSIqty3VDW9W2rH+Htixtq4+D4A+NrQf3jdm6k8awnbttU/+OtqtSOwqDikzseom2zaA8WA89R+/i80wA3BvEAgkOIM4u/EOCmgkiIg6FCRCMwo63NAAEsjpLt9MOcc/xHQPuaUwgUY0AQjAOgiV78A8HcRHbsvrtOBuxBZjqTHOu+zvJQYo6JkLJObG22+0rdJpS2omdPz7+XXXNqKMSENw/ukjc7wDGtoO7COOwVjeAEFx7Vzh9fbE2IiTYeqwd2+fYY1aw3W1b6ve8gohV9O0tpWsWHqfYqfjx/++/8Ln/hb5oLbRUX2iq4he0AAB3iDCQuDMBhFAb05kAqDa/u0SX8Ca/BtDOUxi8gLuTGRodRg1WinigUz6/O/0KbfyqCSLW0LcPcoCDPzQHwL3J3O/o0vCdc24QRAAAqs+HMmmq9DQ3/zQNAO59KhlEAADAQoEgAgBQfaypIoWnaQBwj4MgAgBwN4IgAgAAAAAAAFAIBBEAAAAAAACAQiCIAAAAAAAAABQCQQQAAAAAAACgEAgiAAAAAAAAAIVAEAEAAAAAAAAoBIIIAAAAAAAAQCEQRAAAAAAAAAAKgSACAAAAAAAAUAgEEQAAAAAAAIBCVDSI+M1vfgNBEARBEARBUI1rviCIgCAIgiAIgqD7TPMFQQQEQRAEQRAE3WeaL1VbEzE7OwtBd61sfPshCComG99+CIIgqPqqJAgiIMgjG99+CIKKyca3H4IgCKq+KgmCCAjyyMa3H4KgYrLx7YcgCIKqr0qCIAKCPLLx7YcgqJhsfPshCIKg6quSIIiAII9sfPshCComG99+CIIgqPqqJAgiIMgjG99+CIKKyca3H4IgCKq+KgmCCAjyyMa3H4KgYrLx7YcgCIKqr0qCIAKCPLLx7YcgqJhsfPshCIKg6quSIIiAII9sfPshCComG99+CIIgqPqqJAgiIMgjG99+CIKKyca3H4IgCKq+KgmCCAjyyMa3H4KgYrLx7YcgCIKqr0qCIAKCPLLx7YcgqJhsfPshCIKg6quSIIiAII9sfPshCComG99+CIIgqPqqJAgiIMgjG99+CIKKyca3H4IgCKq+KgmCiHJ16wP62Q//kVY3/BV96lOfok999vP0X//+RXr7A+e4myfpf8h+j/7xHedYj27+soP+8f96iP5KnfNX9ND/tZPeHvEcOz5IHc+spoc+p6//uYdo9TMdNDjuHMfpfrv9Cfqv/4/PBMclpVt06WTk3onH3YOy8e2HIKiYbHz7IQiCoOqrkiCIKEc3+2nn0k/RZ5Y+QS8e6qffXLtOv/lFB21bwY75Z5+gzmvWsSP76e8+tYz+8dDb9HZ3VIP2cR7d7N1GD33qM/Rfn+2g/kvX6fqln9GeJx/ie/wd7b9sHXuL09PA6VmxjU4OfUDXJT3v7KFvLP0MfebL++k3t8yx16lzLaex4Ru0553fqOM+GDpJOx/lQKjhH+lndsAx0kF/99lP0UNP7qGf8b0/GHo7uLd73D0qG99+KKeuDdLP2NZ/NnTdvx+6b2Tj2x/VB7T/7/QDEdHf7acPrP0/e6a07+9++EHpPNXfJuyz9se2e/TBD/+Or8F9reehTdq+ksrMQ0w/o3+U4575WWR7kIbSNZIeSqUdl/cabl7s4+x8fOpTPD5EzjOSPHjK651/1PnSefSodC+nPEVOmUAQlK1KgiCiTN0cYSc8dM61xk/SN7hjiwwIl/dTc+Zg49N16vgaBwYbTtLNyPabdHIDBwdrO+m62cbBxmc+1RwNLES/fJGWcQCzZ0j//oADA+mUT1nHiHS6/8fJm+G2nz3Dwcb/Zw8N2nnUwcp//f5vStvuUdn49petW9P0b/236Heu7WTpxjSd+uU0feTbV6O6yQ7CQ2awl2C4vd+xZeh+ko1vf0Tv7I/0meLshv1q6HjKPnEsS/3rz35oO+rRfcphFkeez0932gNnVY752TNu3522z1GZeYhIjhPHXIKfiMPM93/HzkOCk556XN5rOGlXx+lggdO13w48IvmylXBt3/Hea5TKPbodgqCiqiQIIiqqoKOLdIBmEIgcl0O33uZON+rYh+JrfuZTT1Dndf07KYgY2pMviNBTrkr3+hlt+6y/wx58eRl96kscXDjb7zXZ+PaXrQ+mqPnVSXota1rY5Vu07QwHG+b34BT9316dol77mJqWbgthECGybBa672Tj258qy7GUJ9+RJ+a8L8m5jB0rSjneVVqgkBlEuCozD0qxIMJVSiASUdpxSfvi2yWoiJWrSNLpvHEJNL8gQgWAqfmHICivKgmCiEpKO/5/d9AaDE6VGURc76Qn+Foxh1+kXsl/hrb16t/6DcFDz7xdejty6wM6uaGePvPlDqtDD6YzRac43aTB73EH3bCNfnZTb1PX9wy+IpWf/0EnzbH3qGx8+6uu96boEz+eolHfvrtCbJP/TzeI+P+3d76xUZx3Hj8pb+7lvTuJvNtEOq1qydEhEYmqzotgXsQo1Zmm0rnRyQ0KNKj4UFraU+Ic17gQyTmqUNLISYRIfZE5Q9atKaVGbuosTc0ZGmNIcEIco+BoD7B8uOt6/xhIfvd7npnZfWbmN7M7y2z+eL8f6aN49/fMv80y83xn5pmtppMDV6smUj3M8plwoaMrdUS1AZ3iSh12wzhDRG3bYFspROh9tnOcUfPnf29Se1e7kJrrGGBcebB1X5kwDNyOOwsRYhiEENZknCBExOjCcBclPWMi9BmUpnXU5gzA5s7/uke6qG+s0kHM6oS1vDDlqy0MbdPzcu1ULx+3xkCs76T9r/VR10PN1PbjAf/A6sUp6lNjINa2U/dLh6iH/25+dL97wLS+BUu4sqFUO/gG6AyaSHWv2dkcPTm0THcNWq5/K8/vF+jY73J05IM8/fzEMt2jryTw30M5OqY+7+t5etaYRtmrrhq9n6MHU9brB7n+oJpXRs3fvhKh/j6Ro/OX+L+/WqY13O6e39iB42per8c9zjyP8DzfLVrrycvrPWa1V7Wv8TzUNGfSvIw37Pbq/eM5uqRCploOr/+ZCznazvNc83trm069yW3stvfwer48Y8/f4/TBdvs7b+kOtLDRNJHqgfo6yJ5OsKoLZ78Dz17zPuxzDxE1boOr7tsWOyyof1/eaV23UoW0C6mVbw3jAOCbvxQWAoJCWK2qEGGtI0IEhPEYJwgRcckd786mJB+cPOMFFqcpPaIGlloDntUA5YE9HdTMYcLX1mPmaCclE6206/AUZXjahWuzNPHaLurY0kltvNN37VTVU5cOdFJLopnWqScvNbXp6XzjNvILNDXUTe0qzKxXwaaZOl5IU8ZsFxYUwmqrSBOp7rZAL3Nnvv3tgu/9/mEOFNzBP/ZRgbL6M+bgwJ3v/k84ePyZO+InVcfcnMbWeyXikxy1cwg5Vfqbl/dmnuay3IG/kaft9jy985mf4GVwKJhfKdLJkWX6R15e6HiMPAcNDhS9H/Df9nK2cIg5f9UOCrxea97g9bih2hdp/izP/1ccOjzzyZzqo+49hyj1+n7q3rqNul9J0fFXeqibv5MYF9GYmkh1WW/nU3UoPfufoI5oUKeca64QoTv4dkfaM58oIaI8wNg7TY3bYCqGCEO9DcHrWjKsXWBNrX+lKxGVOvp3EiKszxYhAsJ4jBOEiDjMjFK3vp1oouoOknWWtvJtQbMjxmNk17ZT10vc4X9PjXUwrhQsTlDvQ0lq3n6Ipux7zhfeGaBd6olN5q1L+VlKbW+m5EM9NGrvzJcup62nSplPXcKVCPtbbCHV3drBwPeZWCHi2XfN98ohYmUmR+tVJ/1kjo68x517FQicdhVDhP231pinGrg9kaPeN21PcCdfz8dal6cuCFcNMnl62WnPdnCI0OvsW84KzY3z/EaN4CO0WZk5xCHV6VBxWH2ojdY1lV93DeNJTY2oiVT3K3c8K44nUPuooACh9LYP8c6vRNS4DV4rhQg28BYjj2Ht5Jo/9Kh25fWv5kqBEJyU6v9VFSFCLS80ZEEIqzZOECLu1IU09XjHI1Sj2lHW2BlXt02pcRZpe3mzr3Eg+cZ+mvIuf5HDDXfenKcpLY11UzKxjVLeR8vmp+nQP3Hg+Pe0FYKcAdjSQUGPiVj9A2RNpLpboxPver9CiFCvFwt05s85+vmIdYvQs9PlM/61hIjsuRytGeJapkDz8yzP2wwR7nVRWldRtpy2289zoHDa1RgiZl/vsANDgOaTxWDDaCLV3QacuVa6OpmeDqyqhQUIJbf5fEJEjdsgWTFEeD+HCfftUiXDluWuTfA8nJo7XJjbVcW62/qDgJpW+Hxcn42jWmZ1y4EQhhsnCBF3Yq0BQql2lDWFiCUa/aHR4deDpbljJh5grLZObepAS+ABdvqVVqNmjceQDrT66UwqsHjeX22aSHW33PEeWqbtZ+XbmUJDhOGlt52xFPzaDhGl24SqDBH69iInfCxzQEk7r4t08nf2+IrSdNa06vYlax2LlJ3L05MhVyKyk7xeHFLO29939Vrd3mQ+Nap8W0eAlTp5cFVqItVNdYfT990p31JjfsfK+ymrQ+uehvXuGz+nEFHbNgToDRH61iNzvsLnoNqHtauiVu60uz/b0vv6OOaeR9hxzbtvEEOBGCKU/v+/CBUQRjdOECJqdXGi9gDBnfv0T7hD7+mML11boKUK87Kevd9K+8+X35t4XvhNB6V6ahOHgbaD0/q1GmORaOqmUd+PxVm/SZEwfpNi6gVeP+l3IgIGe682TaS61yx3+h/kjvzXUvZg6JN5ylYKETPcSVdtbdVg6F7nSsRf8vTUEQ4A/F77nzicVBki1ODpJ3kd1Hqs585+/1lu64SKKznawvNUg6H1Mvn98xwcznN4WcPvq8HcapxF/8ngEKFulzryG27PQcNZ56fOucOTDqvGgd4nQkRDaiLVIYQQ1t84QYioRTtAJB7podSo/5eo02MTNKvHOmQotaOTul9LUfod9QvRGZoeT1HfjjY9YLpn3PgNCP1bDwlKPm+cgVmapanSgOwJSr0QMCBbD+rmQGP/urTrl6jX7io/Lcpeb/OXrfWvYP+Y16epjfqMYOLcCqXmmea2pV+s9v4i9yrVRKrLFimrbgkyxzZUlKdZ4GkWpGm4FmlejmHT2ctb9NSX+f0oYThr3f4kTnPlOHU/2kZtD0tuo753hN8+gateE6kOIYSw/sYJQkQtipdwTZ3LuUs0PdxLXY+2cuffrq1tpY6dfZT2Xu69ktJPd2p7xbpqoM2kaJszIFU9JnYrh5bzAYNSr6Spb2d7eQCrWs7TA6WB1iUXpii1Zxu1rjXnu9+/PspMmvZvdda9mVpVu0o/krZKNJHqEMJomkh1CCGE9TdOECIgFDSR6hDCaJpIdQghhPU3ThAiIBQ0keoQwmiaSHUIIYT1N04QIiAUNJHqEMJomkh1CCGE9TdOECIgFDSR6hDCaJpIdQghhPU3ThAiIBQ0keoQwmiaSHUIIYT1N04QIiAUNJHqEMJomkh1CCGE9TdOECIgFDSR6hDCaJpIdQghhPU3ThAiIBQ0keoQwmiaSHUIIYT1N04QIiAUNJHqEMJomkh1CCGE9TdOECIgFDSR6hDCaJpIdQghhPU3ThAiIBQ0keoQwmiaSHUIIYT1N04QIiAUNJHqEMJomkh1CCGE9TdOECIgFDSR6hDCaJpIdQghhPU3ThAiIBQ0keoQwmiaSHUIIYT1N07qFiIAAAAAAAAAqxOECAAAAAAAAEAkECIAAAAAAAAAkUCIAAAAAAAAAEQCIQIAAAAAAAAQCYQIAAAAAAAAQCQQIgAAAAAAAACRQIgAAAAAAAAARAIhAgAAAAAAABAJhAgAAAAAAABAJBAiAAAAAAAAAJFAiAAAAAAAAABEAiECAAAAAAAAEAmECAAAAAAAAEAkECIAAAAAAAAAkUCIAAAAAAAAAEQCIQIAAAAAAAAQCYSIWrk9T5NH99ITrfdRIpGgRNP9tPkHr9L4vF1XXB2kx1QtxL1n7bZBZCep/web6f4m1T5J9z++l4YvFe1imexHY/RqqV2C7mt9gvYemyF/SzfFs3tpI7d/7Ki54jYfj9He722k+/S63uffPgAAAAAA0JAgRNRC8SK9uClByU076dVjF2nuRpbmLgzTvm8nOUzspJEbTrs5mvzjOI0Ljr2+k+5PbKb+j+22EsVJ2tfKy/n2Phr7aJ6yH1+k4Z9tpmTTYzT4id2Gmf/tTkpyJ/87zw3SuGp3dYbGX/83HQ42vnTRbiWQG6e9LQ/QAy1CiLg6TI9xINn4o36a/DhL8x+NU/+PNlKidS9N5uw2AFTixoz+NzD5UdZ+AwAAAACrAYSIGilenaPsbfuFQ26M/i3orL6LIo3/BweO7w9TWNdq/uhjHEp205ir056lkX9NUvI/xstXGW7P09xV+2+DmYObeHru9HvXU1OksWeSHDJGaPC7/nWefI7Xb3M/zZjT3ubwxKFm8+tz9hsgMrdv0vS7K7Qo/j8J4a836fQHN6lgv/wq4Fzlsq66JWnzKxcrXhkDwGJe75dKV22/O8jvlJl8rlxz7bs8V3/9J0eseuV9tL3/TTxGg8K+NaxWpsZt8DFJe1W75ybt1xbWOpTnEXRVu9p2en08y5AIbmetpzx/VRM+L95HWPOyt1GwPD/P56msYn0BAPUDISJW7J1cpR3bjWF6gjtVu/8Y1qWap+HHE5QU5lV8azfvQDlcVOqRqR10wIEuq65etO6jyaK1zu6D2CTta5IPbDO/5GDyTQ4X9msQkesFenQwR0PX7ddBzBVp33iRFu2XdClPdw/m6Zz98suPcMBP7KQRXJAA1XB20LXfUh3h0v6o1PFUqO9ZeR83edTsqLtrujOtOvI8fXinvbxPnHzOu/8Mq3mocRtc6H34XppU4cd1LODlnzW3IaCTXm079Zk8p6xw7Apppz6PvcqaQoSB9J7xuQMAvjwgRMTJ7XF9NuWxofAd3cUDD+iz/OHn860zM+JO85NB+k5iE/V/ZL8OYO7wdyjRxEHBfl1C36q0kV7UdzoJO2f7bJ14MDitDmpVBBhwZ0zn6a7hAkn9iq8GF+nFFm+IqNDpAiAIo2OpzoS79k2qYxvQufS1VYS09xIWFCqGCC81boPGFyK8hAQRF1I7dazhoGKsn0xIO/s98fPW3FmI0AEwdN0AAF8ECBExos/um2MiJIrjtLspQU8cq3BK1g4ke0/br03COvkO9q1HvjERt+do8PEkbf6lcy1BCBE6pHzHNe6ihNrBozPoo3ClQLuGlumuQcuvn1rhd2/SiZEcDX1UpF+cWKZ79ZWEFfrFUI5OqCsR/1ekPcY0yn0f8vsf5mlDynq9gesb1Lyuq/nbVyLU3ycKND3L//31Mt3N7e49bgeOhaJej3udeR7heU7b907x8vYds9qrWhPPQ01z7o+8jDfs9ur93xbosppELWekQOcu5mkHz/PuN1VyvEWnx3LUZLe9N5Wjg7qxn5lfbnaFiOTjw/xtAyA65bP4QidY6ohqAjrW3P6LCBG1bYNNpRChjwncwdcvrH26OD9XO4tSx99cB+EYI7bT2OFC/VWnEBE8XwDAFwlCRFxwx/uxpiQfJMKvL8y9zh2rpt00XulMflhQCKtpirzTlQdBz/GBLPndQZor9fuEEKF24kFBIazWsNykg9yZ/9b4Tfu1w00aGOZAcTxPJz6+RQX9mXNwGMzRwDUOHudydNdowBfBeyXiWoG+xSFEZ0r9Ny9vrEhXC58R/bVIO+x5elk8y8vgULBIt+kPJ5dpLS8vdDzG7RXax4Fin7rKZS/n8VNFml6wJ+L1uvuNHJ3+q3rxGS3yF+yuX+fpsi6WmT/9Ku1+rp+GD79Iu7/3BO0+OEwjB/fS7qMYFwEi4usguzvBuu4Zb6AIPHvN+7DPPUTUuA0lVN23LXZYUCHdO63rVqqwdkaH3dN5d90aFtbO6ODXJ0RY648QAcCXD4SIOJgfo93qrD/v+EI7SOrqQEvCuAoQQs1XIoo080sOCp4nOGl00PG+b+2gXQdVXImIiB0MMvbLElaI2DNtv9SUQwRdztPXVSd9NE9DH6zQogoEDhVDhP23xpjn7Vs0fTZP+8ZsTyzb87HW5ZmLxjIcrhfpoNN+LEePcojQ6+xbDn/1/odDw++Nb7nQhj7up82qw6JN0v2bNpUePaxe7/wtBkaAavF2PtX+yrP/CeqIBnXKueba39n7U/399MwnSohQHWjrO+6dpsZtMBFDhIHehuB1LeFqV76CoAlch5B2nmlwJQKAxgIh4k7JcmdfB4hx/9OaPOjbnRJP0HDY7U4lggc3W538B+wxDW7mDtsBwvvo2Nsz1L85Qff/oJ/GXI+bHaa930zQpp8O69eTn3AHcX44OKToMREYIOvG6MS7qBAiFMs36dy5Av3ipHWL0J5L5TP+tYSIwoUc3T3Eteu3aHGRVVc7jBDhXheFdRXl8TM3rfaLK3TQaVdjiNBjcZxOmeS/joQ+lQwAC7nj6etQcqfTdyU17Ky+t30Id34losZt8FIpRDCugdshlNqpz0n692kGBkVIu/8uBSePvnUVgpNCzbuKEBF4VQkA8IWCEHEnRAgQ3LXSnXjXo1lDUY9yDXs6k78jHxggFObZthCtg5B1xUQ6IOmnM7W8yC1AGe54Dy3Tjslb9muHKkKEweVxZywFY4eI0m1CVYYIfXuREz5u3qJzf3Re36Y/jNjjK1xYty9Z6/gZFf63SLtCrkQUpnh+HFKcYRbq9d1vuJ8aVT4jG2BYBw8ATcCZa4Wrk+m51UXVKn2/uE01nW3FnYWIGrdBomKI8H4Ok+4gUCJkWZ7O+yTPQ8TTziTsioE/CEQIFvqzrPAZAQA+dxAiaiXHO7WqAwRz4UV6IOE8EUmmeCNLRWNe2WNPiL8TMfx97oh5fmNCj3UIChChWAcV70HVeYKU73ciOFw8cAARwkuBO/0bBpepKWUPhh4tUqFSiLicp2+ptrZqMPQ+50pEvkjPHLEGL3/r9M2qQ4QaPL2L10Gtx9eH+L1JXoYTKjIFepznea+zjsMcBjg4TI9zEOD31WBuNc5iYDQ4RKjfuRg6vszBobzOz1xwh6eLL/F3xxscTBEiQAV0h9P33SmfITeDannfZe3L3NOw3g7p5xQiatuGALwhQjgp5PscVPvQdh7Mzrs9XTVhwyQsRCi8Jxiizd///xehAoAvFoSIWrADROLbe2n4LfPWIMdJ9Zh/A7nj72JyHyV5p5j8mbHztG9BUr9YPXxhrvyL1Z4wogNE4n7aeXBMWBf2UtjNI3KIUD+cp54ipX6xWv0KdukXqys9faqh+ZQK6pYgc2xDRT6jwhJPsyQlUZ5fpHk58DwLn9p/e7GXt+yp37xtD/yukoK69ckZLO7h6gjt/pdNtOmbkk/QqxequxYHAAAAgC8vCBG1oM6UGGdD/HrOUOmBphV+XE7/dkOSNh30DLrOzdDgM5vtgalJuv/bu2nwkjmfgLNvpgFnjSwCQoRifpxe/N5Guk/P5z7a+L0XabzCCTMAAAAAALD6QYgAAAAAAAAARAIhAgAAAAAAABAJhAgAAAAAAABAJBAiAAAAAAAAAJFAiAAAAAAAAABEAiECAAAAAAAAEAmECAAAAAAAAEAkECIAAAAAAAAAkUCIAAAAAAAAAEQCIQIAAAAAAAAQCYQIAAAAAAAAQCQQIgAAAAAAAACRQIgAAAAAAAAARAIhAgAAAAAAABAJhAgAAAAAAABAJBAiAAAAAAAAAJFAiAAAAAAAAABEAiECAAAAAAAAEIm6hYiVlRUIv7KaSHUIYTRNpDqEEML6GycIERAKmkh1CGE0TaQ6hBDC+hsnCBEQCppIdQhhNE2kOoQQwvobJwgREAqaSHUIYTRNpDqEEML6GycIERAKmkh1CGE0TaQ6hBDC+hsnCBEQCppIdQhhNE2kOoQQwvobJwgREAqaSHUIYTRNpDqEEML6GycIERAKmkh1CGE0TaQ6hBDC+hsnCBEQCppIdQhhNE2kOoQQwvobJwgREAqaSHUIYTRNpDqEEML6GycIERAKmkh1CGE0TaQ6hBDC+hsnCBEQCppIdQhhNE2kOoQQwvobJwgREAqaSHUIYTRNpDqEEML6GycIERAKmkh1CGE0TaQ6hBDC+hsnDRsiLly4Kb5ftfkMTRzuoW0bmimRSFCiaR217+yjdMbTbmmUulVdsGfc01Zw6b0U9WxtpWY9TTO1bt1P6Svedks0+rR//to9E562tgsTtP+RJCU6Bygj1dnMqT7qemQdJdV81PY9PUBTC3Lb1aaJVIdVem2aJsbSNPH+glyHDaOJVIcQQlh/46QhQ8SHH96kv+Et37jxU8pm5TahLk3R/ocSlHyoi/qGpmj22gLNvpOiXtUpb+qi49eMtlcGqDPRRj1DaUpzZ8p02mwnuHSml1oTSWp/PkVTMwu0MDNBh37YysvopIHLZtsMDXQmqO0nKd8y0u8JnbeZFO3akKTWDS2BISJztJPDQyvteo3X88oCZd4ftbZvQw9NLPrbrzZNpHrN5gt0fipP83mhFuaNAp16r0BZqfYldWm8h7+/TqDl7/FLU7QktIONoYlUd2vt00onQzz7qYk95Vrn4Ux5Or2/DagZdd/7gpnDnTwP3tf6TtqE18rWuA0+J6hHtfOcELLWoTyPoJNS1bbT6xN00on/LZvzMLfF3A6lvC1qG4TPS81XL9PeRsHy+no+T2XQ+kIIA42ThgwRKjg0N392R0Fi6cosLXg7goujtIt3bK6d6OUB6qh4sJFcoNR2DipPj3o6XuqqQ5KSO47TQum9WRr45+oOjAtn9lN7UzNtOzpLE88HXInIc0j6RoLaD0573p+mQ/+UoNYDU+73V6EmUr1mMznqGFymI94rVl4v56n3bQ4bzuvpHK0ZzNEZs82XWuGAn+CA3SBXsqBfE6nucnzAtc9UHeHS/q3U8VQ19T0r718nDpv7M3dNd6bV/o6nD99XWt9d1WZij3ffHVbzWOM2uNSd9x6aUOHH1WHm5Y+b2xDQSa+2nfpM9ijlTrladzl8qHXn9fO977VSiKjwnvG5u9+HEEY1Thr2dqbr18tBoqXlU/1aahdNa0fn2gE6BwFXuyrMp/WZme7RJX+N55l0dcisszjV3B41e3gX7Rqe1X/rM0hSiNDBp40Ove95n9UH4m/spynP+6tNE6led9/N0V3DOZqTal8JrSDqDhEVOl1wVWsi1UM1OpZqv+Xa13EtqHPpa6sMae81LChUDBFea9wGrS9EeA0JIi6ldur4wccoY/28ftEhQh93QrcfQlitcdKwIUKpgsM//IMVJP7+7z+jAwdu1XZ7k6Pd8e88ahwMTvEOsZYQsXCculQwOCXU9CX5JPWesV/by60mRJgGhojz+6kl0eG5ZcpW7eD5YJCqdCb9K66JVPeanc3Rk0PLdNeg5fq38vx+gY79LkdHPsjTz08s0z36SgL/PZSjY+rzu56nZ41plL0quL2fowdT1usHuf6gmldGzd++EqH+PpGj85f4v79apjXc7p7f2IHjal6vxz3OPI/wPN8tWuvJy+s9ZrVXta/xPNQ0Z9K8jDfs9ur94zm6pK6yqeXw+p+5kKPtPM81v7e26dSb3MZuew+v58sz9vw9Th9sNwJEgpJbUv7vGmwYTaR6mOWz+EInOLDzG9Cx5vZfRIiobRtsK4UIfUxwjjNq/vxvTmrvamdZCjTmOuh25WOKPlYY/5bLn591AqtcC/pM7ixEiGEQQliTcdLQIUKpgoS6pUkFCeXWrZ+K7apxYbiLkp4xEfoMStM6anMGYHPnf90jXdQ3VukgZp3JbXnBf+vQwtA2Pa/STtUOFesecgZgc4dtfTt1vZSmTMi994Ehwg4w24b84ymmXmgJOVCsHk2kutsCvcyd+fa3C773+4c5UHAH/9hHBcrq/xccHLjz3f8JB48/c0f8pOqYm9PYeq9EfJKjdg4hp0p/8/LezNNcljvwN/K03Z6ndz7zE7wMDgXzK0U6ObJM/8jLCx2PkeegwYGi9wP+217OFg4x56/aQYHXa80bvB43VPsizZ/l+f+KQ4dnPmpQfveeQ5R6fT91b91G3a+k6PgrPdR9GOMiGlUTqR6or4PsOSmj6sJ+LPDs9RcRImrcBlfdty12WFD7fO+0rlupwtoZHXZP5919a5ipNT+xU+/aTtM7CREhy4MQRjZOGj5EOJ45c5P+9m9JOzdXw5ObLvPOsynJByfrVqGSi9OUHlFPp8nQwjU1QDlNA3s6uLMvtPVYGtzMHa8MT7twbZYmXttFHVs6qY0PCOWd6hJNj41SenzaaneFl3m4hzrWqrO/AzQb0GkMDBE8v4nn1QDuduodm9XrreY5+nwHbeNlI0R4tYOB7zOxQsSz75rvlUPEykyO1qtO+skcHXmPO/cqEDjtKoYI+2+tMU81cHsiR71v2p7gTr6ej7UuT10Qrhpk8vSy057t4BCh19m3nBWaG+f5jRrBR2izMnOI2lWHRavCbRutayq/7hrGk5oaUROpLuvtfKoOpWf/E9QRDeqUc80VInTH1/5+euYTJUSUz9Z7p6lxG0zFEGGotyF4XUu62qn1Mjr8ldbBsHxVxVsTtk2LKxEQflmME4QIw+7u2/pqxE9/elusB5oZpe4NCWrlHV+1Z1mtWz26aXRJrjvOjhiPkV1rX1147xCHiIDbjUzftzpz4rgKNjhEsPkFDixd1L4+qZedXN9JPUMcUka7+XUPpcPOZq8CTaS6W6MT73q/QohQrxcLdObPOfr5iHWL0LPT5TP+tYSI7LkcrRniWqZA8/Msz9sMEe51UVpXUbacttvPc6Bw2tUYImZf77C+r0G6HgoAG0UTqe5X7nj6OpTeUKA6oUH7NaW3fYh3fiWixm3wWilEsMEde7eldupzkv59ilcS3EYPEQHvq3WoIkQEXlWCEEY2ThAiDP/rv26VxkdU/TsSC2nq0QEi7X9aU5h6B17NQcivum2quo68OoAFP9EiNEQEOHWghRL/PECzQm01aSLV3XLHe2iZtp+Vb2cKDRGGl952xlLwaztElG4TqjJE6NuLnPCxzAEl7bwu0snf2eMrStNZ06rbl6x1LFJ2Lk9PhlyJyE7yenFIOW9/99RrdXuT+dQo/b3ydUwMI37n4OrQRKq7DThzrXR1MlXn1OiQq1ql7xe3qaazrbyzEFHjNkhWDBHez2EiIAiELMu1Trx9PA9XvWSF7Qr4/P1BIEKwsI9loZ8RhLAq4wQhwlANqnbGRzz8cBVjI2oNEEq1o6wpRCzR6A8TlPz3dBVXPWIOEflp6ns4Qe2vhd+GtRo0kepes9zpf5A78l9L2YOhT+YpWylEzHAnXbW1VYOhe50rEX/J01NHOADwe+1/4nBSZYhQg6ef5HVQ67GeO/v9Z7mtEyqu5GgLz1MNhtbL5PfPc3A4z+FlDb+vBnOrcRb9J4NDhLpd6shvuD0HDWednzrnDk86aJqhwStCRENqItVNdYfT990pnyE3g2p5/2Z1kN3TsN4OKe97P48QUds2BOgNEfq2JHO+wueg2oe282h23u3prE6793M1tts7/wr/tr0nGKoJM2X9/38RKiCMbpwgRHhUQeLv/q6KsRGL3EGvNUBwEEj/hDtankelLl1boKUK87J+wKuV9p+X66ZLp3qoJdES2DZqiJjlg6J34Phq1USqyxYpq24JMsc2VJSnWeBpFqRpuBZpXo5h09nLW/TUl/n9KN/jrHX7kzjNlePU/WgbtT0suY363pFvr4OrWxOpDiGEsP7GyVcyRKhB0KOjt2LVnP+OHdbYiMAforMDROKRHkqNen4hWjtBs3qsQ4ZSOzqp+7UUpd9RA5QzND2eor4dbXrAdM+40Zk608vvJSj5vHEGZmmWpkoDsico9YI8IDtztIs6nz5EqTHr17N125e6qK0pfJxGaIi4Nm39SjbPb/adUTr0Y2GdV7EmUh1CGE0TqQ4hhLD+xslXLkSoDr/q4MetGlTtLOPDD2+K75fUtyKVL6n6dS73LtH0cC91PVp+9GpibSt17OyjtPcy+JWUfrpT2yvGr0RnUrTNeaqNekzsVg4t5/1Ptll6/zj17uyg1rV220QztT5a+TGyoSHizP7K67yKNZHqEMJomkh1CCGE9TdOuJtcH6QVj0N1ZUA9PUl17uNUBQdnGWr+KkCoH6KreoA1XFWaSHUIYTRNpDqEEML6GydfuRDxedjcbP2K9alTCBCNqolUhxBG00SqQwghrL9xghBhqMZa7NplXYVQQUJqAxtDE6kOIYymiVSHEEJYf+MEIcJWXXVwxkGopzOpQCG1g42hiVSHEEbTRKpDCCGsv3GCEGF74IA1YFtdgcA4CGgi1SGE0TSR6hBCCOtvnCBEsOYTn/7zP4WnMcGG00SqQwijaSLVIYQQ1t84QYhgt261fqVa/Veqw8bTRKpDCKNpItUhhBDW3zhp+BChbl1SAUL9QjXGQUBHE6kOIYymiVSHEEJYf+Ok4UPE9evWL1R7f7UaNrYmUh1CGE0TqQ4hhLD+xgluZ4JQ0ESqQwijaSLVIYQQ1t84QYiAUNBEqkMIo2ki1SGEENbfOEGIgFDQRKpDCKNpItUhhBDW3zhBiIBQ0ESqQwijaSLVIYQQ1t84QYiAUNBEqkMIo2ki1SGEENbfOKlbiAAAAAAAAACsThAiAAAAAAAAAJFAiAAAAAAAAABEAiECAAAAAAAAEAGi/wdzy6rfSUX4EwAAAABJRU5ErkJggg==)"
   ]
  }
 ],
 "metadata": {
  "colab": {
   "collapsed_sections": [],
   "name": "Práctica2_Machine_learning-Cris.ipynb",
   "provenance": []
  },
  "kernelspec": {
   "display_name": "Python 3",
   "language": "python",
   "name": "python3"
  },
  "language_info": {
   "codemirror_mode": {
    "name": "ipython",
    "version": 3
   },
   "file_extension": ".py",
   "mimetype": "text/x-python",
   "name": "python",
   "nbconvert_exporter": "python",
   "pygments_lexer": "ipython3",
   "version": "3.8.5"
  }
 },
 "nbformat": 4,
 "nbformat_minor": 1
}
